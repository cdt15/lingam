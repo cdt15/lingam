{
 "cells": [
  {
   "cell_type": "markdown",
   "id": "d116bad0-b45f-48bd-94cf-daead59fbe21",
   "metadata": {},
   "source": [
    "# Introduction\n",
    "\n",
    "## Import and settings"
   ]
  },
  {
   "cell_type": "code",
   "execution_count": 1,
   "id": "a719a4c4-53c6-4bf4-be10-171291a74c08",
   "metadata": {},
   "outputs": [],
   "source": [
    "import numpy as np\n",
    "import pandas as pd\n",
    "from sklearn.linear_model import LinearRegression\n",
    "from scipy.special import expit\n",
    "\n",
    "from IPython.display import display, Markdown\n",
    "import matplotlib.pyplot as plt\n",
    "import networkx as nx\n",
    "\n",
    "from lingam.causal_based_simulator import CausalBasedSimulator\n",
    "\n",
    "np.set_printoptions(precision=3, suppress=True)\n",
    "np.random.seed(0)"
   ]
  },
  {
   "cell_type": "markdown",
   "id": "e4f98717-81fe-4520-a74d-504639013c52",
   "metadata": {},
   "source": [
    "## Creatig test data\n",
    "The test data X is a data frame such that only x2 is a categorical variable and the other variables are continuous variables. x2 has either \"a\" or \"b\" as a category value.  \n",
    "The matrix G of the causal graph is needed to estimate the functional relationship in CausalBasedSimulator. Although the elements are numeric to generate test data, CausalBasedSimulator ignores the volume and uses only zero or nonzero."
   ]
  },
  {
   "cell_type": "code",
   "execution_count": 2,
   "id": "c60f083f-0f25-40a5-ae02-17940e87c841",
   "metadata": {},
   "outputs": [
    {
     "data": {
      "text/markdown": [
       "### Causal graph"
      ],
      "text/plain": [
       "<IPython.core.display.Markdown object>"
      ]
     },
     "metadata": {},
     "output_type": "display_data"
    },
    {
     "data": {
      "text/plain": [
       "array([[0. , 0. , 0. , 3. , 0. , 0. ],\n",
       "       [3. , 0. , 1. , 0. , 0. , 0. ],\n",
       "       [0. , 0. , 0. , 1.5, 0. , 0. ],\n",
       "       [0. , 0. , 0. , 0. , 0. , 0. ],\n",
       "       [8. , 0. , 1. , 0. , 0. , 0. ],\n",
       "       [4. , 0. , 0. , 0. , 0. , 0. ]])"
      ]
     },
     "metadata": {},
     "output_type": "display_data"
    },
    {
     "data": {
      "image/png": "[encoded data removed]",
      "text/plain": [
       "<Figure size 432x288 with 1 Axes>"
      ]
     },
     "metadata": {},
     "output_type": "display_data"
    },
    {
     "data": {
      "text/markdown": [
       "### Test data"
      ],
      "text/plain": [
       "<IPython.core.display.Markdown object>"
      ]
     },
     "metadata": {},
     "output_type": "display_data"
    },
    {
     "data": {
      "text/html": [
       "<div>\n",
       "<style scoped>\n",
       "    .dataframe tbody tr th:only-of-type {\n",
       "        vertical-align: middle;\n",
       "    }\n",
       "\n",
       "    .dataframe tbody tr th {\n",
       "        vertical-align: top;\n",
       "    }\n",
       "\n",
       "    .dataframe thead th {\n",
       "        text-align: right;\n",
       "    }\n",
       "</style>\n",
       "<table border=\"1\" class=\"dataframe\">\n",
       "  <thead>\n",
       "    <tr style=\"text-align: right;\">\n",
       "      <th></th>\n",
       "      <th>x0</th>\n",
       "      <th>x1</th>\n",
       "      <th>x2</th>\n",
       "      <th>x3</th>\n",
       "      <th>x4</th>\n",
       "      <th>x5</th>\n",
       "    </tr>\n",
       "  </thead>\n",
       "  <tbody>\n",
       "    <tr>\n",
       "      <th>0</th>\n",
       "      <td>2.457959</td>\n",
       "      <td>3.979581</td>\n",
       "      <td>b</td>\n",
       "      <td>0.548814</td>\n",
       "      <td>10.245798</td>\n",
       "      <td>10.198616</td>\n",
       "    </tr>\n",
       "    <tr>\n",
       "      <th>1</th>\n",
       "      <td>2.621652</td>\n",
       "      <td>8.431475</td>\n",
       "      <td>a</td>\n",
       "      <td>0.715189</td>\n",
       "      <td>21.602835</td>\n",
       "      <td>10.784233</td>\n",
       "    </tr>\n",
       "    <tr>\n",
       "      <th>2</th>\n",
       "      <td>2.331446</td>\n",
       "      <td>7.131753</td>\n",
       "      <td>a</td>\n",
       "      <td>0.602763</td>\n",
       "      <td>19.430153</td>\n",
       "      <td>9.394384</td>\n",
       "    </tr>\n",
       "    <tr>\n",
       "      <th>3</th>\n",
       "      <td>1.885170</td>\n",
       "      <td>3.177467</td>\n",
       "      <td>b</td>\n",
       "      <td>0.544883</td>\n",
       "      <td>8.392238</td>\n",
       "      <td>7.893208</td>\n",
       "    </tr>\n",
       "    <tr>\n",
       "      <th>4</th>\n",
       "      <td>1.876007</td>\n",
       "      <td>5.681239</td>\n",
       "      <td>a</td>\n",
       "      <td>0.423655</td>\n",
       "      <td>15.824472</td>\n",
       "      <td>7.736226</td>\n",
       "    </tr>\n",
       "    <tr>\n",
       "      <th>...</th>\n",
       "      <td>...</td>\n",
       "      <td>...</td>\n",
       "      <td>...</td>\n",
       "      <td>...</td>\n",
       "      <td>...</td>\n",
       "      <td>...</td>\n",
       "    </tr>\n",
       "    <tr>\n",
       "      <th>995</th>\n",
       "      <td>1.234716</td>\n",
       "      <td>2.070230</td>\n",
       "      <td>b</td>\n",
       "      <td>0.097676</td>\n",
       "      <td>5.288504</td>\n",
       "      <td>5.043098</td>\n",
       "    </tr>\n",
       "    <tr>\n",
       "      <th>996</th>\n",
       "      <td>2.090899</td>\n",
       "      <td>3.371803</td>\n",
       "      <td>b</td>\n",
       "      <td>0.514922</td>\n",
       "      <td>8.798471</td>\n",
       "      <td>8.503125</td>\n",
       "    </tr>\n",
       "    <tr>\n",
       "      <th>997</th>\n",
       "      <td>3.138850</td>\n",
       "      <td>9.613938</td>\n",
       "      <td>a</td>\n",
       "      <td>0.938412</td>\n",
       "      <td>25.940801</td>\n",
       "      <td>13.251922</td>\n",
       "    </tr>\n",
       "    <tr>\n",
       "      <th>998</th>\n",
       "      <td>1.499485</td>\n",
       "      <td>2.647914</td>\n",
       "      <td>b</td>\n",
       "      <td>0.228647</td>\n",
       "      <td>6.930745</td>\n",
       "      <td>6.481635</td>\n",
       "    </tr>\n",
       "    <tr>\n",
       "      <th>999</th>\n",
       "      <td>2.728824</td>\n",
       "      <td>9.145065</td>\n",
       "      <td>a</td>\n",
       "      <td>0.677141</td>\n",
       "      <td>22.138929</td>\n",
       "      <td>11.254846</td>\n",
       "    </tr>\n",
       "  </tbody>\n",
       "</table>\n",
       "<p>1000 rows × 6 columns</p>\n",
       "</div>"
      ],
      "text/plain": [
       "           x0        x1 x2        x3         x4         x5\n",
       "0    2.457959  3.979581  b  0.548814  10.245798  10.198616\n",
       "1    2.621652  8.431475  a  0.715189  21.602835  10.784233\n",
       "2    2.331446  7.131753  a  0.602763  19.430153   9.394384\n",
       "3    1.885170  3.177467  b  0.544883   8.392238   7.893208\n",
       "4    1.876007  5.681239  a  0.423655  15.824472   7.736226\n",
       "..        ...       ... ..       ...        ...        ...\n",
       "995  1.234716  2.070230  b  0.097676   5.288504   5.043098\n",
       "996  2.090899  3.371803  b  0.514922   8.798471   8.503125\n",
       "997  3.138850  9.613938  a  0.938412  25.940801  13.251922\n",
       "998  1.499485  2.647914  b  0.228647   6.930745   6.481635\n",
       "999  2.728824  9.145065  a  0.677141  22.138929  11.254846\n",
       "\n",
       "[1000 rows x 6 columns]"
      ]
     },
     "metadata": {},
     "output_type": "display_data"
    }
   ],
   "source": [
    "display(Markdown(\"### Causal graph\"))\n",
    "\n",
    "G = np.array([[0.0, 0.0, 0.0, 3.0, 0.0, 0.0],\n",
    "              [3.0, 0.0, 1.0, 0.0, 0.0, 0.0],\n",
    "              [0.0, 0.0, 0.0, 1.5, 0.0, 0.0],\n",
    "              [0.0, 0.0, 0.0, 0.0, 0.0, 0.0],\n",
    "              [8.0, 0.0, 1.0, 0.0, 0.0, 0.0],\n",
    "              [4.0, 0.0, 0.0, 0.0, 0.0, 0.0]])\n",
    "\n",
    "display(G)\n",
    "\n",
    "graph = nx.DiGraph()\n",
    "\n",
    "graph.add_node(\"x0\", pos=(3, 1))\n",
    "graph.add_node(\"x1\", pos=(2.7, -1))\n",
    "graph.add_node(\"x2\", pos=(1, 1))\n",
    "graph.add_node(\"x3\", pos=(2, 2))\n",
    "graph.add_node(\"x4\", pos=(0, 0))\n",
    "graph.add_node(\"x5\", pos=(4, 0))\n",
    "\n",
    "edges = []\n",
    "edge_labels = {}\n",
    "for to, from_ in np.argwhere(~np.isclose(G, 0)):\n",
    "    edges.append((f\"x{from_}\", f\"x{to}\"))\n",
    "    if from_ == 2:\n",
    "        continue\n",
    "    edge_labels[(f\"x{to}\", f\"x{from_}\")] = G[to, from_]\n",
    "graph.add_edges_from(edges)\n",
    "pos = nx.get_node_attributes(graph, \"pos\")\n",
    "nx.draw(graph, pos, with_labels=True, arrowsize=20, node_size=2000)\n",
    "nx.draw_networkx_edge_labels(G, pos, edge_labels=edge_labels, font_size=14)\n",
    "plt.show() \n",
    "\n",
    "display(Markdown(\"### Test data\"))\n",
    "\n",
    "N = 1000\n",
    "\n",
    "X = {}\n",
    "\n",
    "X[\"x3\"] = np.random.uniform(size=N)\n",
    "\n",
    "X[\"x2\"] = np.empty(N).astype(str)\n",
    "for i in range(N):\n",
    "    prob_a = expit(G[2, 3] * X[\"x3\"][i] - 0.5)\n",
    "    X[\"x2\"][i] = np.random.choice([\"a\", \"b\"], p=[prob_a, 1 - prob_a])\n",
    "\n",
    "X[\"x0\"] = G[0, 3] * X[\"x3\"] + np.random.uniform(size=N)\n",
    "\n",
    "X[\"x4\"] = np.empty(N)\n",
    "for i in range(N):\n",
    "    if X[\"x2\"][i] == \"a\":\n",
    "        X[\"x4\"][i] = 8.0 * X[\"x0\"][i] + np.random.uniform()\n",
    "    elif X[\"x2\"][i] == \"b\":\n",
    "        X[\"x4\"][i] = 4.0 * X[\"x0\"][i] + np.random.uniform()\n",
    "\n",
    "X[\"x1\"] = np.empty(N)\n",
    "for i in range(N):\n",
    "    if X[\"x2\"][i] == \"a\":\n",
    "        X[\"x1\"][i] = 3.0 * X[\"x0\"][i] + np.random.uniform()\n",
    "    elif X[\"x2\"][i] == \"b\":\n",
    "        X[\"x1\"][i] = 1.5 * X[\"x0\"][i] + np.random.uniform()\n",
    "\n",
    "X[\"x5\"] = G[5, 0] * X[\"x0\"] + np.random.uniform(size=1000)\n",
    "\n",
    "X = pd.DataFrame(X)\n",
    "X[\"x2\"] = X[\"x2\"].astype(\"category\")\n",
    "X = X[sorted(X.columns)]\n",
    "\n",
    "display(X)"
   ]
  },
  {
   "cell_type": "markdown",
   "id": "1b61b3a6-5c11-43a7-9779-6c4bd6e39854",
   "metadata": {},
   "source": [
    "## Estimating functional relationships between variables\n",
    "\n",
    "Estimate functional relationships between variables by feeding test data to CausalBasedSimulator.\n",
    "\n",
    "See the notebook *estimating_functional_felationships.ipynb* for more information."
   ]
  },
  {
   "cell_type": "code",
   "execution_count": 3,
   "id": "90ca3f00-da0a-4d5a-9e91-5004dc91c4ae",
   "metadata": {},
   "outputs": [
    {
     "data": {
      "text/plain": [
       "<lingam.causal_based_simulator.CausalBasedSimulator at 0x7f01f441e220>"
      ]
     },
     "execution_count": 3,
     "metadata": {},
     "output_type": "execute_result"
    }
   ],
   "source": [
    "sim = CausalBasedSimulator()\n",
    "sim.train(X, G)"
   ]
  },
  {
   "cell_type": "markdown",
   "id": "39e81e2a-56e8-48dc-9597-d49e41d98479",
   "metadata": {},
   "source": [
    "Functional relationships between variables are stored in train_result_. The keys of the dictionary are the column names of X given to train()."
   ]
  },
  {
   "cell_type": "code",
   "execution_count": 4,
   "id": "eec422de-d418-4f9c-8b1f-f85173cd71bd",
   "metadata": {},
   "outputs": [
    {
     "data": {
      "text/plain": [
       "dict_keys(['x0', 'x1', 'x2', 'x3', 'x4', 'x5'])"
      ]
     },
     "execution_count": 4,
     "metadata": {},
     "output_type": "execute_result"
    }
   ],
   "source": [
    "sim.train_result_.keys()"
   ]
  },
  {
   "cell_type": "markdown",
   "id": "4beb0df9-0985-426a-840b-fbcc718a5d3f",
   "metadata": {},
   "source": [
    "The values of each variable is cotained in a list.  \n",
    "If a categorical variable is present in the parent, the child will have a separate machine learning model for each value of the parent. For example, x1, whose parent is the categorical variable x2, will have two machine learning models because the parent has two possible values, a or b. Thus, each variable has multiple machine learning models, so we have a list for each variable."
   ]
  },
  {
   "cell_type": "code",
   "execution_count": 5,
   "id": "b283df1f-786e-48dc-a021-59c4aea3c213",
   "metadata": {},
   "outputs": [
    {
     "name": "stdout",
     "output_type": "stream",
     "text": [
      "<class 'list'>\n",
      "2\n"
     ]
    }
   ],
   "source": [
    "print(type(sim.train_result_[\"x1\"]))\n",
    "print(len(sim.train_result_[\"x1\"]))"
   ]
  },
  {
   "cell_type": "markdown",
   "id": "97ae741b-4519-4179-9d44-10fb192a2f0e",
   "metadata": {},
   "source": [
    "There are five elements of the list\n",
    "- Conditions for applying the model created by the parent values\n",
    "- Instances of the machine learning model\n",
    "- Explanatory variables of the machine learning model\n",
    "- Predictions for the training data X\n",
    "- Residuals of predictions for training data X"
   ]
  },
  {
   "cell_type": "code",
   "execution_count": 6,
   "id": "8fc616c7-4c0d-4b20-b822-afc626bc163a",
   "metadata": {},
   "outputs": [
    {
     "name": "stdout",
     "output_type": "stream",
     "text": [
      "dict_keys(['condition', 'model', 'exp_columns', 'predicted', 'residual'])\n"
     ]
    }
   ],
   "source": [
    "print(sim.train_result_[\"x1\"][0].keys())"
   ]
  },
  {
   "cell_type": "markdown",
   "id": "d8eb528c-38b3-4ef7-a7c9-d940bf45e8ce",
   "metadata": {},
   "source": [
    "Since x1 has two instances of the machine learning model, let's review the conditions for each."
   ]
  },
  {
   "cell_type": "code",
   "execution_count": 7,
   "id": "f71eb929-1468-4975-a8f9-cc4d350d5c6a",
   "metadata": {},
   "outputs": [
    {
     "name": "stdout",
     "output_type": "stream",
     "text": [
      "{'x2': 'a'}\n",
      "{'x2': 'b'}\n"
     ]
    }
   ],
   "source": [
    "print(sim.train_result_[\"x1\"][0][\"condition\"])\n",
    "print(sim.train_result_[\"x1\"][1][\"condition\"])"
   ]
  },
  {
   "cell_type": "markdown",
   "id": "7544a1ec-58f4-479b-be8c-dca46f67e49e",
   "metadata": {},
   "source": [
    "If the models argument is specified at train() and no machine learning model is specified, sklearn.linear_model.LinearRegression is used if the variable is a continuous variable, or LogisticRegression if the variable is a categorical variable. (However, if there are no explanatory variables because the parents are all categorical variables, a special machine learning model is used.)\n",
    "\n",
    "We also check the parameters of each machine learning model instance."
   ]
  },
  {
   "cell_type": "code",
   "execution_count": 8,
   "id": "75422b78-bb20-4062-acf0-692018fc05fc",
   "metadata": {},
   "outputs": [
    {
     "name": "stdout",
     "output_type": "stream",
     "text": [
      "LinearRegression() [3.001] 0.4948594354078173\n",
      "LinearRegression() [1.484] 0.5067806444646545\n"
     ]
    }
   ],
   "source": [
    "model = sim.train_result_[\"x1\"][0][\"model\"]\n",
    "print(model, model.coef_, model.intercept_)\n",
    "model = sim.train_result_[\"x1\"][1][\"model\"]\n",
    "print(model, model.coef_, model.intercept_)"
   ]
  },
  {
   "cell_type": "markdown",
   "id": "58ad9b45-4620-4e1a-90ec-fd18b90c2fa3",
   "metadata": {},
   "source": [
    "The residuals for the training data can also be checked as follows. The categorical variable is set to NaN because the residuals cannot be calculated because a classification model is used and the most upstream variables are set to NaN because have no model."
   ]
  },
  {
   "cell_type": "code",
   "execution_count": 9,
   "id": "83cb02ad-e2d0-4564-94d6-fe9c60f9968b",
   "metadata": {},
   "outputs": [
    {
     "data": {
      "text/html": [
       "<div>\n",
       "<style scoped>\n",
       "    .dataframe tbody tr th:only-of-type {\n",
       "        vertical-align: middle;\n",
       "    }\n",
       "\n",
       "    .dataframe tbody tr th {\n",
       "        vertical-align: top;\n",
       "    }\n",
       "\n",
       "    .dataframe thead th {\n",
       "        text-align: right;\n",
       "    }\n",
       "</style>\n",
       "<table border=\"1\" class=\"dataframe\">\n",
       "  <thead>\n",
       "    <tr style=\"text-align: right;\">\n",
       "      <th></th>\n",
       "      <th>x0</th>\n",
       "      <th>x1</th>\n",
       "      <th>x2</th>\n",
       "      <th>x3</th>\n",
       "      <th>x4</th>\n",
       "      <th>x5</th>\n",
       "    </tr>\n",
       "  </thead>\n",
       "  <tbody>\n",
       "    <tr>\n",
       "      <th>0</th>\n",
       "      <td>0.307648</td>\n",
       "      <td>-0.174462</td>\n",
       "      <td>NaN</td>\n",
       "      <td>NaN</td>\n",
       "      <td>-0.057256</td>\n",
       "      <td>-0.125786</td>\n",
       "    </tr>\n",
       "    <tr>\n",
       "      <th>1</th>\n",
       "      <td>-0.022822</td>\n",
       "      <td>0.068330</td>\n",
       "      <td>NaN</td>\n",
       "      <td>NaN</td>\n",
       "      <td>0.142083</td>\n",
       "      <td>-0.194651</td>\n",
       "    </tr>\n",
       "    <tr>\n",
       "      <th>2</th>\n",
       "      <td>0.020896</td>\n",
       "      <td>-0.360406</td>\n",
       "      <td>NaN</td>\n",
       "      <td>NaN</td>\n",
       "      <td>0.292654</td>\n",
       "      <td>-0.424192</td>\n",
       "    </tr>\n",
       "    <tr>\n",
       "      <th>3</th>\n",
       "      <td>-0.253467</td>\n",
       "      <td>-0.126638</td>\n",
       "      <td>NaN</td>\n",
       "      <td>NaN</td>\n",
       "      <td>0.370783</td>\n",
       "      <td>-0.141057</td>\n",
       "    </tr>\n",
       "    <tr>\n",
       "      <th>4</th>\n",
       "      <td>0.097439</td>\n",
       "      <td>-0.444025</td>\n",
       "      <td>NaN</td>\n",
       "      <td>NaN</td>\n",
       "      <td>0.333002</td>\n",
       "      <td>-0.261405</td>\n",
       "    </tr>\n",
       "    <tr>\n",
       "      <th>...</th>\n",
       "      <td>...</td>\n",
       "      <td>...</td>\n",
       "      <td>...</td>\n",
       "      <td>...</td>\n",
       "      <td>...</td>\n",
       "      <td>...</td>\n",
       "    </tr>\n",
       "    <tr>\n",
       "      <th>995</th>\n",
       "      <td>0.424357</td>\n",
       "      <td>-0.268694</td>\n",
       "      <td>NaN</td>\n",
       "      <td>NaN</td>\n",
       "      <td>-0.141988</td>\n",
       "      <td>-0.390509</td>\n",
       "    </tr>\n",
       "    <tr>\n",
       "      <th>996</th>\n",
       "      <td>0.041252</td>\n",
       "      <td>-0.237576</td>\n",
       "      <td>NaN</td>\n",
       "      <td>NaN</td>\n",
       "      <td>-0.042469</td>\n",
       "      <td>-0.353691</td>\n",
       "    </tr>\n",
       "    <tr>\n",
       "      <th>997</th>\n",
       "      <td>-0.168632</td>\n",
       "      <td>-0.301457</td>\n",
       "      <td>NaN</td>\n",
       "      <td>NaN</td>\n",
       "      <td>0.339606</td>\n",
       "      <td>0.205167</td>\n",
       "    </tr>\n",
       "    <tr>\n",
       "      <th>998</th>\n",
       "      <td>0.300122</td>\n",
       "      <td>-0.083889</td>\n",
       "      <td>NaN</td>\n",
       "      <td>NaN</td>\n",
       "      <td>0.445596</td>\n",
       "      <td>-0.010574</td>\n",
       "    </tr>\n",
       "    <tr>\n",
       "      <th>999</th>\n",
       "      <td>0.197359</td>\n",
       "      <td>0.460268</td>\n",
       "      <td>NaN</td>\n",
       "      <td>NaN</td>\n",
       "      <td>-0.179790</td>\n",
       "      <td>-0.152534</td>\n",
       "    </tr>\n",
       "  </tbody>\n",
       "</table>\n",
       "<p>1000 rows × 6 columns</p>\n",
       "</div>"
      ],
      "text/plain": [
       "           x0        x1  x2  x3        x4        x5\n",
       "0    0.307648 -0.174462 NaN NaN -0.057256 -0.125786\n",
       "1   -0.022822  0.068330 NaN NaN  0.142083 -0.194651\n",
       "2    0.020896 -0.360406 NaN NaN  0.292654 -0.424192\n",
       "3   -0.253467 -0.126638 NaN NaN  0.370783 -0.141057\n",
       "4    0.097439 -0.444025 NaN NaN  0.333002 -0.261405\n",
       "..        ...       ...  ..  ..       ...       ...\n",
       "995  0.424357 -0.268694 NaN NaN -0.141988 -0.390509\n",
       "996  0.041252 -0.237576 NaN NaN -0.042469 -0.353691\n",
       "997 -0.168632 -0.301457 NaN NaN  0.339606  0.205167\n",
       "998  0.300122 -0.083889 NaN NaN  0.445596 -0.010574\n",
       "999  0.197359  0.460268 NaN NaN -0.179790 -0.152534\n",
       "\n",
       "[1000 rows x 6 columns]"
      ]
     },
     "execution_count": 9,
     "metadata": {},
     "output_type": "execute_result"
    }
   ],
   "source": [
    "sim.residual_"
   ]
  },
  {
   "cell_type": "markdown",
   "id": "1ee2f2fa-6a1a-4641-9feb-b13451b4068e",
   "metadata": {},
   "source": [
    "## Generating simulated data\n",
    "\n",
    "In CausalBasedSimulator with train() already done, replace the model representing the exogenous variables and variable relationships for each variable, and then simulationaly generate the data.\n",
    "\n",
    "For more information, see the notebook *generating_simulated_data.ipynb*."
   ]
  },
  {
   "cell_type": "code",
   "execution_count": 10,
   "id": "2b7c08fc-9493-4ed7-89d5-d6bd18566a79",
   "metadata": {},
   "outputs": [],
   "source": [
    "# new x0 data\n",
    "changing_exog = {\n",
    "    \"x0\": np.random.laplace(0, 10, size=X.shape[0]),\n",
    "}\n",
    "\n",
    "# new x5 model\n",
    "# explanatories are listed in train_result_\n",
    "new_model = LinearRegression()\n",
    "new_model.fit(X[sim.train_result_[\"x5\"][0][\"exp_columns\"]].values, X[\"x5\"] * 10)\n",
    "\n",
    "changing_models = [\n",
    "    {\n",
    "        # the target variable name\n",
    "        \"name\": \"x5\",\n",
    "        # codition of the target model \n",
    "        \"condition\": sim.train_result_[\"x5\"][0][\"condition\"],\n",
    "        # new instance of the model\n",
    "        \"model\": new_model,\n",
    "    }\n",
    "]\n",
    "\n",
    "sim_df = sim.run(changing_exog=changing_exog, changing_models=changing_models)"
   ]
  },
  {
   "cell_type": "markdown",
   "id": "aa345e71-db29-4127-9ca2-a475c9fe6895",
   "metadata": {},
   "source": [
    "Check the data generated counterfactually."
   ]
  },
  {
   "cell_type": "code",
   "execution_count": 11,
   "id": "f73506f7-faf3-4c26-99bb-fa6d7941dd5d",
   "metadata": {},
   "outputs": [
    {
     "data": {
      "text/html": [
       "<div>\n",
       "<style scoped>\n",
       "    .dataframe tbody tr th:only-of-type {\n",
       "        vertical-align: middle;\n",
       "    }\n",
       "\n",
       "    .dataframe tbody tr th {\n",
       "        vertical-align: top;\n",
       "    }\n",
       "\n",
       "    .dataframe thead th {\n",
       "        text-align: right;\n",
       "    }\n",
       "</style>\n",
       "<table border=\"1\" class=\"dataframe\">\n",
       "  <thead>\n",
       "    <tr style=\"text-align: right;\">\n",
       "      <th></th>\n",
       "      <th>x0</th>\n",
       "      <th>x1</th>\n",
       "      <th>x2</th>\n",
       "      <th>x3</th>\n",
       "      <th>x4</th>\n",
       "      <th>x5</th>\n",
       "    </tr>\n",
       "  </thead>\n",
       "  <tbody>\n",
       "    <tr>\n",
       "      <th>0</th>\n",
       "      <td>4.420822</td>\n",
       "      <td>13.588479</td>\n",
       "      <td>a</td>\n",
       "      <td>0.548814</td>\n",
       "      <td>35.806811</td>\n",
       "      <td>181.597877</td>\n",
       "    </tr>\n",
       "    <tr>\n",
       "      <th>1</th>\n",
       "      <td>2.918888</td>\n",
       "      <td>9.323561</td>\n",
       "      <td>a</td>\n",
       "      <td>0.715189</td>\n",
       "      <td>23.982369</td>\n",
       "      <td>121.478354</td>\n",
       "    </tr>\n",
       "    <tr>\n",
       "      <th>2</th>\n",
       "      <td>10.617982</td>\n",
       "      <td>15.901951</td>\n",
       "      <td>b</td>\n",
       "      <td>0.602763</td>\n",
       "      <td>43.099660</td>\n",
       "      <td>429.075691</td>\n",
       "    </tr>\n",
       "    <tr>\n",
       "      <th>3</th>\n",
       "      <td>17.017762</td>\n",
       "      <td>51.443119</td>\n",
       "      <td>a</td>\n",
       "      <td>0.544883</td>\n",
       "      <td>137.080054</td>\n",
       "      <td>685.236238</td>\n",
       "    </tr>\n",
       "    <tr>\n",
       "      <th>4</th>\n",
       "      <td>-53.376615</td>\n",
       "      <td>-160.146793</td>\n",
       "      <td>a</td>\n",
       "      <td>0.423655</td>\n",
       "      <td>-426.502161</td>\n",
       "      <td>-2129.407660</td>\n",
       "    </tr>\n",
       "    <tr>\n",
       "      <th>...</th>\n",
       "      <td>...</td>\n",
       "      <td>...</td>\n",
       "      <td>...</td>\n",
       "      <td>...</td>\n",
       "      <td>...</td>\n",
       "      <td>...</td>\n",
       "    </tr>\n",
       "    <tr>\n",
       "      <th>995</th>\n",
       "      <td>19.542237</td>\n",
       "      <td>29.235988</td>\n",
       "      <td>b</td>\n",
       "      <td>0.097676</td>\n",
       "      <td>78.213143</td>\n",
       "      <td>785.920890</td>\n",
       "    </tr>\n",
       "    <tr>\n",
       "      <th>996</th>\n",
       "      <td>23.471483</td>\n",
       "      <td>70.701539</td>\n",
       "      <td>a</td>\n",
       "      <td>0.514922</td>\n",
       "      <td>188.332271</td>\n",
       "      <td>943.057699</td>\n",
       "    </tr>\n",
       "    <tr>\n",
       "      <th>997</th>\n",
       "      <td>12.562219</td>\n",
       "      <td>37.896011</td>\n",
       "      <td>a</td>\n",
       "      <td>0.938412</td>\n",
       "      <td>101.379882</td>\n",
       "      <td>507.439940</td>\n",
       "    </tr>\n",
       "    <tr>\n",
       "      <th>998</th>\n",
       "      <td>2.014600</td>\n",
       "      <td>3.412272</td>\n",
       "      <td>b</td>\n",
       "      <td>0.228647</td>\n",
       "      <td>8.982612</td>\n",
       "      <td>85.506974</td>\n",
       "    </tr>\n",
       "    <tr>\n",
       "      <th>999</th>\n",
       "      <td>13.753459</td>\n",
       "      <td>21.375227</td>\n",
       "      <td>b</td>\n",
       "      <td>0.677141</td>\n",
       "      <td>55.116811</td>\n",
       "      <td>554.710680</td>\n",
       "    </tr>\n",
       "  </tbody>\n",
       "</table>\n",
       "<p>1000 rows × 6 columns</p>\n",
       "</div>"
      ],
      "text/plain": [
       "            x0          x1 x2        x3          x4           x5\n",
       "0     4.420822   13.588479  a  0.548814   35.806811   181.597877\n",
       "1     2.918888    9.323561  a  0.715189   23.982369   121.478354\n",
       "2    10.617982   15.901951  b  0.602763   43.099660   429.075691\n",
       "3    17.017762   51.443119  a  0.544883  137.080054   685.236238\n",
       "4   -53.376615 -160.146793  a  0.423655 -426.502161 -2129.407660\n",
       "..         ...         ... ..       ...         ...          ...\n",
       "995  19.542237   29.235988  b  0.097676   78.213143   785.920890\n",
       "996  23.471483   70.701539  a  0.514922  188.332271   943.057699\n",
       "997  12.562219   37.896011  a  0.938412  101.379882   507.439940\n",
       "998   2.014600    3.412272  b  0.228647    8.982612    85.506974\n",
       "999  13.753459   21.375227  b  0.677141   55.116811   554.710680\n",
       "\n",
       "[1000 rows x 6 columns]"
      ]
     },
     "execution_count": 11,
     "metadata": {},
     "output_type": "execute_result"
    }
   ],
   "source": [
    "sim_df"
   ]
  },
  {
   "cell_type": "markdown",
   "id": "98aed2aa-9237-4dc2-a514-1f17932cdab8",
   "metadata": {},
   "source": [
    "The generated data can also be viewed as follows"
   ]
  },
  {
   "cell_type": "code",
   "execution_count": 12,
   "id": "941d9d9f-4419-450b-9956-c0dfe7a45451",
   "metadata": {},
   "outputs": [
    {
     "data": {
      "text/html": [
       "<div>\n",
       "<style scoped>\n",
       "    .dataframe tbody tr th:only-of-type {\n",
       "        vertical-align: middle;\n",
       "    }\n",
       "\n",
       "    .dataframe tbody tr th {\n",
       "        vertical-align: top;\n",
       "    }\n",
       "\n",
       "    .dataframe thead th {\n",
       "        text-align: right;\n",
       "    }\n",
       "</style>\n",
       "<table border=\"1\" class=\"dataframe\">\n",
       "  <thead>\n",
       "    <tr style=\"text-align: right;\">\n",
       "      <th></th>\n",
       "      <th>x0</th>\n",
       "      <th>x1</th>\n",
       "      <th>x2</th>\n",
       "      <th>x3</th>\n",
       "      <th>x4</th>\n",
       "      <th>x5</th>\n",
       "    </tr>\n",
       "  </thead>\n",
       "  <tbody>\n",
       "    <tr>\n",
       "      <th>0</th>\n",
       "      <td>4.420822</td>\n",
       "      <td>13.588479</td>\n",
       "      <td>a</td>\n",
       "      <td>0.548814</td>\n",
       "      <td>35.806811</td>\n",
       "      <td>181.597877</td>\n",
       "    </tr>\n",
       "    <tr>\n",
       "      <th>1</th>\n",
       "      <td>2.918888</td>\n",
       "      <td>9.323561</td>\n",
       "      <td>a</td>\n",
       "      <td>0.715189</td>\n",
       "      <td>23.982369</td>\n",
       "      <td>121.478354</td>\n",
       "    </tr>\n",
       "    <tr>\n",
       "      <th>2</th>\n",
       "      <td>10.617982</td>\n",
       "      <td>15.901951</td>\n",
       "      <td>b</td>\n",
       "      <td>0.602763</td>\n",
       "      <td>43.099660</td>\n",
       "      <td>429.075691</td>\n",
       "    </tr>\n",
       "    <tr>\n",
       "      <th>3</th>\n",
       "      <td>17.017762</td>\n",
       "      <td>51.443119</td>\n",
       "      <td>a</td>\n",
       "      <td>0.544883</td>\n",
       "      <td>137.080054</td>\n",
       "      <td>685.236238</td>\n",
       "    </tr>\n",
       "    <tr>\n",
       "      <th>4</th>\n",
       "      <td>-53.376615</td>\n",
       "      <td>-160.146793</td>\n",
       "      <td>a</td>\n",
       "      <td>0.423655</td>\n",
       "      <td>-426.502161</td>\n",
       "      <td>-2129.407660</td>\n",
       "    </tr>\n",
       "    <tr>\n",
       "      <th>...</th>\n",
       "      <td>...</td>\n",
       "      <td>...</td>\n",
       "      <td>...</td>\n",
       "      <td>...</td>\n",
       "      <td>...</td>\n",
       "      <td>...</td>\n",
       "    </tr>\n",
       "    <tr>\n",
       "      <th>995</th>\n",
       "      <td>19.542237</td>\n",
       "      <td>29.235988</td>\n",
       "      <td>b</td>\n",
       "      <td>0.097676</td>\n",
       "      <td>78.213143</td>\n",
       "      <td>785.920890</td>\n",
       "    </tr>\n",
       "    <tr>\n",
       "      <th>996</th>\n",
       "      <td>23.471483</td>\n",
       "      <td>70.701539</td>\n",
       "      <td>a</td>\n",
       "      <td>0.514922</td>\n",
       "      <td>188.332271</td>\n",
       "      <td>943.057699</td>\n",
       "    </tr>\n",
       "    <tr>\n",
       "      <th>997</th>\n",
       "      <td>12.562219</td>\n",
       "      <td>37.896011</td>\n",
       "      <td>a</td>\n",
       "      <td>0.938412</td>\n",
       "      <td>101.379882</td>\n",
       "      <td>507.439940</td>\n",
       "    </tr>\n",
       "    <tr>\n",
       "      <th>998</th>\n",
       "      <td>2.014600</td>\n",
       "      <td>3.412272</td>\n",
       "      <td>b</td>\n",
       "      <td>0.228647</td>\n",
       "      <td>8.982612</td>\n",
       "      <td>85.506974</td>\n",
       "    </tr>\n",
       "    <tr>\n",
       "      <th>999</th>\n",
       "      <td>13.753459</td>\n",
       "      <td>21.375227</td>\n",
       "      <td>b</td>\n",
       "      <td>0.677141</td>\n",
       "      <td>55.116811</td>\n",
       "      <td>554.710680</td>\n",
       "    </tr>\n",
       "  </tbody>\n",
       "</table>\n",
       "<p>1000 rows × 6 columns</p>\n",
       "</div>"
      ],
      "text/plain": [
       "            x0          x1 x2        x3          x4           x5\n",
       "0     4.420822   13.588479  a  0.548814   35.806811   181.597877\n",
       "1     2.918888    9.323561  a  0.715189   23.982369   121.478354\n",
       "2    10.617982   15.901951  b  0.602763   43.099660   429.075691\n",
       "3    17.017762   51.443119  a  0.544883  137.080054   685.236238\n",
       "4   -53.376615 -160.146793  a  0.423655 -426.502161 -2129.407660\n",
       "..         ...         ... ..       ...         ...          ...\n",
       "995  19.542237   29.235988  b  0.097676   78.213143   785.920890\n",
       "996  23.471483   70.701539  a  0.514922  188.332271   943.057699\n",
       "997  12.562219   37.896011  a  0.938412  101.379882   507.439940\n",
       "998   2.014600    3.412272  b  0.228647    8.982612    85.506974\n",
       "999  13.753459   21.375227  b  0.677141   55.116811   554.710680\n",
       "\n",
       "[1000 rows x 6 columns]"
      ]
     },
     "execution_count": 12,
     "metadata": {},
     "output_type": "execute_result"
    }
   ],
   "source": [
    "sim.simulated_data_"
   ]
  }
 ],
 "metadata": {
  "kernelspec": {
   "display_name": "Python 3",
   "language": "python",
   "name": "python3"
  },
  "language_info": {
   "codemirror_mode": {
    "name": "ipython",
    "version": 3
   },
   "file_extension": ".py",
   "mimetype": "text/x-python",
   "name": "python",
   "nbconvert_exporter": "python",
   "pygments_lexer": "ipython3",
   "version": "3.8.5"
  },
  "widgets": {
   "application/vnd.jupyter.widget-state+json": {
    "state": {},
    "version_major": 2,
    "version_minor": 0
   }
  }
 },
 "nbformat": 4,
 "nbformat_minor": 5
}
