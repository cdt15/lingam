{
 "cells": [
  {
   "cell_type": "markdown",
   "id": "f91c209f-8ed4-4e19-b512-0b0fca6628b3",
   "metadata": {},
   "source": [
    "# Generating simulated data\n",
    "\n",
    "This notebook details the method *run()*, which simulates data when variables or models are changed."
   ]
  },
  {
   "cell_type": "markdown",
   "id": "62862df4-4a9d-467c-855b-47e08b1be606",
   "metadata": {},
   "source": [
    "## Import and settings"
   ]
  },
  {
   "cell_type": "code",
   "execution_count": 1,
   "id": "836c0916-cce7-42f6-88b9-e3449ad88c08",
   "metadata": {},
   "outputs": [],
   "source": [
    "import numpy as np\n",
    "import pandas as pd\n",
    "from sklearn.linear_model import LinearRegression\n",
    "from sklearn.ensemble import RandomForestRegressor\n",
    "from sklearn.base import BaseEstimator, ClassifierMixin, RegressorMixin\n",
    "from scipy.special import expit\n",
    "\n",
    "from IPython.display import display, Markdown\n",
    "import matplotlib.pyplot as plt\n",
    "import networkx as nx\n",
    "\n",
    "from lingam.causal_based_simulator import CausalBasedSimulator\n",
    "\n",
    "np.set_printoptions(precision=3, suppress=True)\n",
    "np.random.seed(0)"
   ]
  },
  {
   "cell_type": "markdown",
   "id": "b4e6e23b-645f-42a8-8e0d-9855bc9e4ab2",
   "metadata": {},
   "source": [
    "## Creating test data\n",
    "Create test data with variables from x0 to x5, of which x2 is a categorical variable."
   ]
  },
  {
   "cell_type": "code",
   "execution_count": 2,
   "id": "5e98ec45-97ab-4e73-94a0-c16c4b37829a",
   "metadata": {},
   "outputs": [
    {
     "data": {
      "text/markdown": [
       "### Causal graph"
      ],
      "text/plain": [
       "<IPython.core.display.Markdown object>"
      ]
     },
     "metadata": {},
     "output_type": "display_data"
    },
    {
     "data": {
      "text/plain": [
       "array([[0. , 0. , 0. , 3. , 0. , 0. ],\n",
       "       [3. , 0. , 1. , 0. , 0. , 0. ],\n",
       "       [0. , 0. , 0. , 1.5, 0. , 0. ],\n",
       "       [0. , 0. , 0. , 0. , 0. , 0. ],\n",
       "       [8. , 0. , 1. , 0. , 0. , 0. ],\n",
       "       [4. , 0. , 0. , 0. , 0. , 0. ]])"
      ]
     },
     "metadata": {},
     "output_type": "display_data"
    },
    {
     "data": {
      "image/png": "[encoded data removed]",
      "text/plain": [
       "<Figure size 432x288 with 1 Axes>"
      ]
     },
     "metadata": {},
     "output_type": "display_data"
    },
    {
     "data": {
      "text/markdown": [
       "### Test data"
      ],
      "text/plain": [
       "<IPython.core.display.Markdown object>"
      ]
     },
     "metadata": {},
     "output_type": "display_data"
    },
    {
     "data": {
      "text/html": [
       "<div>\n",
       "<style scoped>\n",
       "    .dataframe tbody tr th:only-of-type {\n",
       "        vertical-align: middle;\n",
       "    }\n",
       "\n",
       "    .dataframe tbody tr th {\n",
       "        vertical-align: top;\n",
       "    }\n",
       "\n",
       "    .dataframe thead th {\n",
       "        text-align: right;\n",
       "    }\n",
       "</style>\n",
       "<table border=\"1\" class=\"dataframe\">\n",
       "  <thead>\n",
       "    <tr style=\"text-align: right;\">\n",
       "      <th></th>\n",
       "      <th>x0</th>\n",
       "      <th>x1</th>\n",
       "      <th>x2</th>\n",
       "      <th>x3</th>\n",
       "      <th>x4</th>\n",
       "      <th>x5</th>\n",
       "    </tr>\n",
       "  </thead>\n",
       "  <tbody>\n",
       "    <tr>\n",
       "      <th>0</th>\n",
       "      <td>2.457959</td>\n",
       "      <td>3.979581</td>\n",
       "      <td>b</td>\n",
       "      <td>0.548814</td>\n",
       "      <td>10.245798</td>\n",
       "      <td>10.198616</td>\n",
       "    </tr>\n",
       "    <tr>\n",
       "      <th>1</th>\n",
       "      <td>2.621652</td>\n",
       "      <td>8.431475</td>\n",
       "      <td>a</td>\n",
       "      <td>0.715189</td>\n",
       "      <td>21.602835</td>\n",
       "      <td>10.784233</td>\n",
       "    </tr>\n",
       "    <tr>\n",
       "      <th>2</th>\n",
       "      <td>2.331446</td>\n",
       "      <td>7.131753</td>\n",
       "      <td>a</td>\n",
       "      <td>0.602763</td>\n",
       "      <td>19.430153</td>\n",
       "      <td>9.394384</td>\n",
       "    </tr>\n",
       "    <tr>\n",
       "      <th>3</th>\n",
       "      <td>1.885170</td>\n",
       "      <td>3.177467</td>\n",
       "      <td>b</td>\n",
       "      <td>0.544883</td>\n",
       "      <td>8.392238</td>\n",
       "      <td>7.893208</td>\n",
       "    </tr>\n",
       "    <tr>\n",
       "      <th>4</th>\n",
       "      <td>1.876007</td>\n",
       "      <td>5.681239</td>\n",
       "      <td>a</td>\n",
       "      <td>0.423655</td>\n",
       "      <td>15.824472</td>\n",
       "      <td>7.736226</td>\n",
       "    </tr>\n",
       "    <tr>\n",
       "      <th>...</th>\n",
       "      <td>...</td>\n",
       "      <td>...</td>\n",
       "      <td>...</td>\n",
       "      <td>...</td>\n",
       "      <td>...</td>\n",
       "      <td>...</td>\n",
       "    </tr>\n",
       "    <tr>\n",
       "      <th>995</th>\n",
       "      <td>1.234716</td>\n",
       "      <td>2.070230</td>\n",
       "      <td>b</td>\n",
       "      <td>0.097676</td>\n",
       "      <td>5.288504</td>\n",
       "      <td>5.043098</td>\n",
       "    </tr>\n",
       "    <tr>\n",
       "      <th>996</th>\n",
       "      <td>2.090899</td>\n",
       "      <td>3.371803</td>\n",
       "      <td>b</td>\n",
       "      <td>0.514922</td>\n",
       "      <td>8.798471</td>\n",
       "      <td>8.503125</td>\n",
       "    </tr>\n",
       "    <tr>\n",
       "      <th>997</th>\n",
       "      <td>3.138850</td>\n",
       "      <td>9.613938</td>\n",
       "      <td>a</td>\n",
       "      <td>0.938412</td>\n",
       "      <td>25.940801</td>\n",
       "      <td>13.251922</td>\n",
       "    </tr>\n",
       "    <tr>\n",
       "      <th>998</th>\n",
       "      <td>1.499485</td>\n",
       "      <td>2.647914</td>\n",
       "      <td>b</td>\n",
       "      <td>0.228647</td>\n",
       "      <td>6.930745</td>\n",
       "      <td>6.481635</td>\n",
       "    </tr>\n",
       "    <tr>\n",
       "      <th>999</th>\n",
       "      <td>2.728824</td>\n",
       "      <td>9.145065</td>\n",
       "      <td>a</td>\n",
       "      <td>0.677141</td>\n",
       "      <td>22.138929</td>\n",
       "      <td>11.254846</td>\n",
       "    </tr>\n",
       "  </tbody>\n",
       "</table>\n",
       "<p>1000 rows × 6 columns</p>\n",
       "</div>"
      ],
      "text/plain": [
       "           x0        x1 x2        x3         x4         x5\n",
       "0    2.457959  3.979581  b  0.548814  10.245798  10.198616\n",
       "1    2.621652  8.431475  a  0.715189  21.602835  10.784233\n",
       "2    2.331446  7.131753  a  0.602763  19.430153   9.394384\n",
       "3    1.885170  3.177467  b  0.544883   8.392238   7.893208\n",
       "4    1.876007  5.681239  a  0.423655  15.824472   7.736226\n",
       "..        ...       ... ..       ...        ...        ...\n",
       "995  1.234716  2.070230  b  0.097676   5.288504   5.043098\n",
       "996  2.090899  3.371803  b  0.514922   8.798471   8.503125\n",
       "997  3.138850  9.613938  a  0.938412  25.940801  13.251922\n",
       "998  1.499485  2.647914  b  0.228647   6.930745   6.481635\n",
       "999  2.728824  9.145065  a  0.677141  22.138929  11.254846\n",
       "\n",
       "[1000 rows x 6 columns]"
      ]
     },
     "metadata": {},
     "output_type": "display_data"
    }
   ],
   "source": [
    "display(Markdown(\"### Causal graph\"))\n",
    "\n",
    "G = np.array([[0.0, 0.0, 0.0, 3.0, 0.0, 0.0],\n",
    "              [3.0, 0.0, 1.0, 0.0, 0.0, 0.0],\n",
    "              [0.0, 0.0, 0.0, 1.5, 0.0, 0.0],\n",
    "              [0.0, 0.0, 0.0, 0.0, 0.0, 0.0],\n",
    "              [8.0, 0.0, 1.0, 0.0, 0.0, 0.0],\n",
    "              [4.0, 0.0, 0.0, 0.0, 0.0, 0.0]])\n",
    "\n",
    "display(G)\n",
    "\n",
    "graph = nx.DiGraph()\n",
    "\n",
    "graph.add_node(\"x0\", pos=(3, 1))\n",
    "graph.add_node(\"x1\", pos=(2.7, -1))\n",
    "graph.add_node(\"x2\", pos=(1, 1))\n",
    "graph.add_node(\"x3\", pos=(2, 2))\n",
    "graph.add_node(\"x4\", pos=(0, 0))\n",
    "graph.add_node(\"x5\", pos=(4, 0))\n",
    "\n",
    "edges = []\n",
    "edge_labels = {}\n",
    "for to, from_ in np.argwhere(~np.isclose(G, 0)):\n",
    "    edges.append((f\"x{from_}\", f\"x{to}\"))\n",
    "    if from_ == 2:\n",
    "        continue\n",
    "    edge_labels[(f\"x{to}\", f\"x{from_}\")] = G[to, from_]\n",
    "graph.add_edges_from(edges)\n",
    "pos = nx.get_node_attributes(graph, \"pos\")\n",
    "nx.draw(graph, pos, with_labels=True, arrowsize=20, node_size=2000)\n",
    "nx.draw_networkx_edge_labels(G, pos, edge_labels=edge_labels, font_size=14)\n",
    "plt.show() \n",
    "\n",
    "display(Markdown(\"### Test data\"))\n",
    "\n",
    "N = 1000\n",
    "\n",
    "X = {}\n",
    "\n",
    "X[\"x3\"] = np.random.uniform(size=N)\n",
    "\n",
    "X[\"x2\"] = np.empty(N).astype(str)\n",
    "for i in range(N):\n",
    "    prob_a = expit(G[2, 3] * X[\"x3\"][i] - 0.5)\n",
    "    X[\"x2\"][i] = np.random.choice([\"a\", \"b\"], p=[prob_a, 1 - prob_a])\n",
    "\n",
    "X[\"x0\"] = G[0, 3] * X[\"x3\"] + np.random.uniform(size=N)\n",
    "\n",
    "X[\"x4\"] = np.empty(N)\n",
    "for i in range(N):\n",
    "    if X[\"x2\"][i] == \"a\":\n",
    "        X[\"x4\"][i] = 8.0 * X[\"x0\"][i] + np.random.uniform()\n",
    "    elif X[\"x2\"][i] == \"b\":\n",
    "        X[\"x4\"][i] = 4.0 * X[\"x0\"][i] + np.random.uniform()\n",
    "\n",
    "X[\"x1\"] = np.empty(N)\n",
    "for i in range(N):\n",
    "    if X[\"x2\"][i] == \"a\":\n",
    "        X[\"x1\"][i] = 3.0 * X[\"x0\"][i] + np.random.uniform()\n",
    "    elif X[\"x2\"][i] == \"b\":\n",
    "        X[\"x1\"][i] = 1.5 * X[\"x0\"][i] + np.random.uniform()\n",
    "\n",
    "X[\"x5\"] = G[5, 0] * X[\"x0\"] + np.random.uniform(size=1000)\n",
    "\n",
    "X = pd.DataFrame(X)\n",
    "X[\"x2\"] = X[\"x2\"].astype(\"category\")\n",
    "X = X[sorted(X.columns)]\n",
    "\n",
    "display(X)"
   ]
  },
  {
   "cell_type": "markdown",
   "id": "f9e0048d-46ae-43d7-bee0-f0ac04574cc2",
   "metadata": {},
   "source": [
    "## Simulation\n",
    "\n",
    "Running *run()* after running *train()* will simulate data based on the data and causal graphs given at *train()* or variables and models given at *run()*.\n",
    "\n",
    "*run()* can specify *changing_exog* and *changing_models* as optional arguments. Let's first run without setting any optional arguments."
   ]
  },
  {
   "cell_type": "code",
   "execution_count": 3,
   "id": "996772a2-c9b6-4fcc-a721-be843f3e7bc3",
   "metadata": {},
   "outputs": [
    {
     "data": {
      "text/html": [
       "<div>\n",
       "<style scoped>\n",
       "    .dataframe tbody tr th:only-of-type {\n",
       "        vertical-align: middle;\n",
       "    }\n",
       "\n",
       "    .dataframe tbody tr th {\n",
       "        vertical-align: top;\n",
       "    }\n",
       "\n",
       "    .dataframe thead th {\n",
       "        text-align: right;\n",
       "    }\n",
       "</style>\n",
       "<table border=\"1\" class=\"dataframe\">\n",
       "  <thead>\n",
       "    <tr style=\"text-align: right;\">\n",
       "      <th></th>\n",
       "      <th>x0</th>\n",
       "      <th>x1</th>\n",
       "      <th>x2</th>\n",
       "      <th>x3</th>\n",
       "      <th>x4</th>\n",
       "      <th>x5</th>\n",
       "    </tr>\n",
       "  </thead>\n",
       "  <tbody>\n",
       "    <tr>\n",
       "      <th>0</th>\n",
       "      <td>2.457959</td>\n",
       "      <td>3.979581</td>\n",
       "      <td>b</td>\n",
       "      <td>0.548814</td>\n",
       "      <td>10.245798</td>\n",
       "      <td>10.198616</td>\n",
       "    </tr>\n",
       "    <tr>\n",
       "      <th>1</th>\n",
       "      <td>2.621652</td>\n",
       "      <td>8.431475</td>\n",
       "      <td>a</td>\n",
       "      <td>0.715189</td>\n",
       "      <td>21.602835</td>\n",
       "      <td>10.784233</td>\n",
       "    </tr>\n",
       "    <tr>\n",
       "      <th>2</th>\n",
       "      <td>2.331446</td>\n",
       "      <td>3.605910</td>\n",
       "      <td>b</td>\n",
       "      <td>0.602763</td>\n",
       "      <td>10.091768</td>\n",
       "      <td>9.394384</td>\n",
       "    </tr>\n",
       "    <tr>\n",
       "      <th>3</th>\n",
       "      <td>1.885170</td>\n",
       "      <td>3.177467</td>\n",
       "      <td>b</td>\n",
       "      <td>0.544883</td>\n",
       "      <td>8.392238</td>\n",
       "      <td>7.893208</td>\n",
       "    </tr>\n",
       "    <tr>\n",
       "      <th>4</th>\n",
       "      <td>1.876007</td>\n",
       "      <td>5.681239</td>\n",
       "      <td>a</td>\n",
       "      <td>0.423655</td>\n",
       "      <td>15.824472</td>\n",
       "      <td>7.736226</td>\n",
       "    </tr>\n",
       "    <tr>\n",
       "      <th>...</th>\n",
       "      <td>...</td>\n",
       "      <td>...</td>\n",
       "      <td>...</td>\n",
       "      <td>...</td>\n",
       "      <td>...</td>\n",
       "      <td>...</td>\n",
       "    </tr>\n",
       "    <tr>\n",
       "      <th>995</th>\n",
       "      <td>1.234716</td>\n",
       "      <td>2.070230</td>\n",
       "      <td>b</td>\n",
       "      <td>0.097676</td>\n",
       "      <td>5.288504</td>\n",
       "      <td>5.043098</td>\n",
       "    </tr>\n",
       "    <tr>\n",
       "      <th>996</th>\n",
       "      <td>2.090899</td>\n",
       "      <td>3.371803</td>\n",
       "      <td>b</td>\n",
       "      <td>0.514922</td>\n",
       "      <td>8.798471</td>\n",
       "      <td>8.503125</td>\n",
       "    </tr>\n",
       "    <tr>\n",
       "      <th>997</th>\n",
       "      <td>3.138850</td>\n",
       "      <td>4.862930</td>\n",
       "      <td>b</td>\n",
       "      <td>0.938412</td>\n",
       "      <td>13.354864</td>\n",
       "      <td>13.251922</td>\n",
       "    </tr>\n",
       "    <tr>\n",
       "      <th>998</th>\n",
       "      <td>1.499485</td>\n",
       "      <td>2.647914</td>\n",
       "      <td>b</td>\n",
       "      <td>0.228647</td>\n",
       "      <td>6.930745</td>\n",
       "      <td>6.481635</td>\n",
       "    </tr>\n",
       "    <tr>\n",
       "      <th>999</th>\n",
       "      <td>2.728824</td>\n",
       "      <td>5.016236</td>\n",
       "      <td>b</td>\n",
       "      <td>0.677141</td>\n",
       "      <td>11.202205</td>\n",
       "      <td>11.254846</td>\n",
       "    </tr>\n",
       "  </tbody>\n",
       "</table>\n",
       "<p>1000 rows × 6 columns</p>\n",
       "</div>"
      ],
      "text/plain": [
       "           x0        x1 x2        x3         x4         x5\n",
       "0    2.457959  3.979581  b  0.548814  10.245798  10.198616\n",
       "1    2.621652  8.431475  a  0.715189  21.602835  10.784233\n",
       "2    2.331446  3.605910  b  0.602763  10.091768   9.394384\n",
       "3    1.885170  3.177467  b  0.544883   8.392238   7.893208\n",
       "4    1.876007  5.681239  a  0.423655  15.824472   7.736226\n",
       "..        ...       ... ..       ...        ...        ...\n",
       "995  1.234716  2.070230  b  0.097676   5.288504   5.043098\n",
       "996  2.090899  3.371803  b  0.514922   8.798471   8.503125\n",
       "997  3.138850  4.862930  b  0.938412  13.354864  13.251922\n",
       "998  1.499485  2.647914  b  0.228647   6.930745   6.481635\n",
       "999  2.728824  5.016236  b  0.677141  11.202205  11.254846\n",
       "\n",
       "[1000 rows x 6 columns]"
      ]
     },
     "execution_count": 3,
     "metadata": {},
     "output_type": "execute_result"
    }
   ],
   "source": [
    "sim = CausalBasedSimulator()\n",
    "sim.train(X, G)\n",
    "\n",
    "sim_df = sim.run()\n",
    "sim_df"
   ]
  },
  {
   "cell_type": "markdown",
   "id": "9fdbcdad-8905-4ec4-86c7-e8661aed918b",
   "metadata": {},
   "source": [
    "The simulation results are returned as the return value of run(). The same data can be obtained by accessing *sim.simulated_data_*."
   ]
  },
  {
   "cell_type": "markdown",
   "id": "f9e7b5aa-7b4f-4794-b45e-9fd068224518",
   "metadata": {},
   "source": [
    "In *train()*, the causal graph was analyzed to find the parent-child relationship of each variable, and the data corresponding to the explanatory variables were extracted from the argument data frame *X*. However, *run()* does not extract the values of the explanatory variables from *X*. Instead, it uses the predictions of the parent model as the values of the explanatory variables."
   ]
  },
  {
   "cell_type": "code",
   "execution_count": 4,
   "id": "8839aa1e-ee1e-4543-8377-ab551062c833",
   "metadata": {},
   "outputs": [
    {
     "data": {
      "text/markdown": [
       "### Distribution of simulated data"
      ],
      "text/plain": [
       "<IPython.core.display.Markdown object>"
      ]
     },
     "metadata": {},
     "output_type": "display_data"
    },
    {
     "data": {
      "image/png": "[encoded data removed]",
      "text/plain": [
       "<Figure size 864x144 with 6 Axes>"
      ]
     },
     "metadata": {
      "needs_background": "light"
     },
     "output_type": "display_data"
    },
    {
     "data": {
      "text/markdown": [
       "### (Reference) Distribution of test data"
      ],
      "text/plain": [
       "<IPython.core.display.Markdown object>"
      ]
     },
     "metadata": {},
     "output_type": "display_data"
    },
    {
     "data": {
      "image/png": "[encoded data removed]",
      "text/plain": [
       "<Figure size 864x144 with 6 Axes>"
      ]
     },
     "metadata": {
      "needs_background": "light"
     },
     "output_type": "display_data"
    },
    {
     "data": {
      "text/markdown": [
       "### (Referece) Distribution of residuals"
      ],
      "text/plain": [
       "<IPython.core.display.Markdown object>"
      ]
     },
     "metadata": {},
     "output_type": "display_data"
    },
    {
     "data": {
      "image/png": "[encoded data removed]",
      "text/plain": [
       "<Figure size 576x144 with 4 Axes>"
      ]
     },
     "metadata": {
      "needs_background": "light"
     },
     "output_type": "display_data"
    }
   ],
   "source": [
    "display(Markdown(\"### Distribution of simulated data\"))\n",
    "fig, axes = plt.subplots(1, sim_df.shape[1], figsize=(2 * sim_df.shape[1], 2))\n",
    "for ax, (column_name, series) in zip(axes, sim_df.items()):\n",
    "    ax.hist(sorted(series))\n",
    "    ax.set_title(column_name)\n",
    "plt.tight_layout()\n",
    "plt.show()\n",
    "\n",
    "display(Markdown(\"### (Reference) Distribution of test data\"))\n",
    "fig, axes = plt.subplots(1, X.shape[1], figsize=(2 * X.shape[1], 2))\n",
    "for ax, (column_name, series) in zip(axes, X.items()):\n",
    "    ax.hist(sorted(series))\n",
    "    ax.set_title(column_name)\n",
    "plt.tight_layout()\n",
    "plt.show()\n",
    "\n",
    "display(Markdown(\"### (Referece) Distribution of residuals\"))\n",
    "target_cols = [\"x0\", \"x1\", \"x4\", \"x5\"]\n",
    "fig, axes = plt.subplots(1, len(target_cols), figsize=(2 * len(target_cols), 2))\n",
    "for i, column_name in enumerate(target_cols):\n",
    "    series = sim.residual_[column_name]\n",
    "    if not (series.isna().all()):\n",
    "        axes[i].hist(sorted(series))\n",
    "    axes[i].set_title(column_name)\n",
    "plt.tight_layout()\n",
    "plt.show()"
   ]
  },
  {
   "cell_type": "markdown",
   "id": "f97e2e46-d97f-4a6c-a310-8290aefb5f6b",
   "metadata": {},
   "source": [
    "The simulation returns the model's predictions plus the residuals from the training to be the same as the test data, so for this simple data set, the distribution of the simulated and test data is almost equal.\n",
    "\n",
    "If we subtract the residuals from the simulated results, we get the following. However, x2 is a categorical variable, x3 is most upstream variable, so they do not have residuals."
   ]
  },
  {
   "cell_type": "code",
   "execution_count": 5,
   "id": "174e2987-44c3-414b-88b9-711739deb4cb",
   "metadata": {},
   "outputs": [
    {
     "data": {
      "image/png": "[encoded data removed]",
      "text/plain": [
       "<Figure size 576x144 with 4 Axes>"
      ]
     },
     "metadata": {
      "needs_background": "light"
     },
     "output_type": "display_data"
    }
   ],
   "source": [
    "target_cols = [\"x0\", \"x1\", \"x4\", \"x5\"]\n",
    "fig, axes = plt.subplots(1, len(target_cols), figsize=(2 * len(target_cols), 2))\n",
    "for i, column_name in enumerate(target_cols):\n",
    "    series = sim_df[column_name]\n",
    "    res = sim.residual_[column_name]\n",
    "    axes[i].hist(series - res)\n",
    "    axes[i].set_title(column_name)\n",
    "plt.tight_layout()\n",
    "plt.show()"
   ]
  },
  {
   "cell_type": "markdown",
   "id": "c2c9f818-2e3b-4572-8d50-6c5186884366",
   "metadata": {},
   "source": [
    "## Simulation by changing exogenous variables\n",
    "\n",
    "Simulation can also be performed by changing the exogenous variables for each variable. Check the distribution of the exogenous variables of *x0* (residuals at training) and change the exogenous variables. By changing the exogenous variable for *x0*, you will see that *x1*, *x4*, and *x5*, which are descendants of *x0*, are also affected."
   ]
  },
  {
   "cell_type": "code",
   "execution_count": 6,
   "id": "58c19ab3-933d-4099-ad2e-fdd62959334e",
   "metadata": {},
   "outputs": [
    {
     "data": {
      "text/markdown": [
       "### Distribution of exogenous of x0"
      ],
      "text/plain": [
       "<IPython.core.display.Markdown object>"
      ]
     },
     "metadata": {},
     "output_type": "display_data"
    },
    {
     "data": {
      "image/png": "[encoded data removed]",
      "text/plain": [
       "<Figure size 576x216 with 2 Axes>"
      ]
     },
     "metadata": {
      "needs_background": "light"
     },
     "output_type": "display_data"
    },
    {
     "data": {
      "text/markdown": [
       "### Distribution of simulated data"
      ],
      "text/plain": [
       "<IPython.core.display.Markdown object>"
      ]
     },
     "metadata": {},
     "output_type": "display_data"
    },
    {
     "data": {
      "image/png": "[encoded data removed]",
      "text/plain": [
       "<Figure size 864x144 with 6 Axes>"
      ]
     },
     "metadata": {
      "needs_background": "light"
     },
     "output_type": "display_data"
    },
    {
     "data": {
      "text/markdown": [
       "### (Reference) Distribution of simulated data before changing exogenous data"
      ],
      "text/plain": [
       "<IPython.core.display.Markdown object>"
      ]
     },
     "metadata": {},
     "output_type": "display_data"
    },
    {
     "data": {
      "image/png": "[encoded data removed]",
      "text/plain": [
       "<Figure size 864x144 with 6 Axes>"
      ]
     },
     "metadata": {
      "needs_background": "light"
     },
     "output_type": "display_data"
    }
   ],
   "source": [
    "sim = CausalBasedSimulator()\n",
    "sim.train(X, G)\n",
    "\n",
    "changing_exog = {\n",
    "    \"x0\": np.random.laplace(0, 1, size=X.shape[0])\n",
    "}\n",
    "\n",
    "display(Markdown(\"### Distribution of exogenous of x0\"))\n",
    "fig, axes = plt.subplots(1, 2, figsize=(8, 3))\n",
    "axes[0].hist(sim.residual_[\"x0\"])\n",
    "axes[0].set_title(\"original\")\n",
    "axes[1].hist(changing_exog[\"x0\"])\n",
    "axes[1].set_title(\"changed\")\n",
    "plt.show()\n",
    "\n",
    "sim_df = sim.run()\n",
    "sim_df2 = sim.run(changing_exog=changing_exog)\n",
    "\n",
    "display(Markdown(\"### Distribution of simulated data\"))\n",
    "fig, axes = plt.subplots(1, sim_df.shape[1], figsize=(2 * sim_df.shape[1], 2))\n",
    "for ax, (column_name, series) in zip(axes, sim_df2.items()):\n",
    "    ax.hist(series)\n",
    "    ax.set_title(column_name)\n",
    "plt.tight_layout()\n",
    "plt.show()\n",
    "\n",
    "display(Markdown(\"### (Reference) Distribution of simulated data before changing exogenous data\"))\n",
    "fig, axes = plt.subplots(1, sim_df.shape[1], figsize=(2 * sim_df.shape[1], 2))\n",
    "for ax, (column_name, series) in zip(axes, sim_df.items()):\n",
    "    ax.hist(series)\n",
    "    ax.set_title(column_name)\n",
    "plt.tight_layout()\n",
    "plt.show()"
   ]
  },
  {
   "cell_type": "markdown",
   "id": "98e38cd9-a651-4cc1-89c3-24e94e861f3d",
   "metadata": {},
   "source": [
    "## Change model and simulate\n",
    "\n",
    "Simulate by replacing the regression model for *x0* with another trained regression model. Change to a linear regression model that treats the coefficients of *x3* four times as heavily as the model for *x0*."
   ]
  },
  {
   "cell_type": "code",
   "execution_count": 7,
   "id": "b2a8e781-fcbb-404b-bab4-0a7c2638f289",
   "metadata": {},
   "outputs": [
    {
     "data": {
      "text/markdown": [
       "### Simulation result before change a model"
      ],
      "text/plain": [
       "<IPython.core.display.Markdown object>"
      ]
     },
     "metadata": {},
     "output_type": "display_data"
    },
    {
     "data": {
      "image/png": "[encoded data removed]",
      "text/plain": [
       "<Figure size 864x144 with 6 Axes>"
      ]
     },
     "metadata": {
      "needs_background": "light"
     },
     "output_type": "display_data"
    },
    {
     "data": {
      "text/markdown": [
       "### Simulation result after change a model"
      ],
      "text/plain": [
       "<IPython.core.display.Markdown object>"
      ]
     },
     "metadata": {},
     "output_type": "display_data"
    },
    {
     "data": {
      "image/png": "[encoded data removed]",
      "text/plain": [
       "<Figure size 864x144 with 6 Axes>"
      ]
     },
     "metadata": {
      "needs_background": "light"
     },
     "output_type": "display_data"
    }
   ],
   "source": [
    "sim = CausalBasedSimulator()\n",
    "sim.train(X, G)\n",
    "\n",
    "# before change a model\n",
    "sim_df = sim.run()\n",
    "\n",
    "display(Markdown(\"### Simulation result before change a model\"))\n",
    "fig, axes = plt.subplots(1, X.shape[1], figsize=(2 * X.shape[1], 2))\n",
    "for ax, (column_name, series) in zip(axes, sim_df.items()):\n",
    "    ax.scatter(X[column_name], series, s=1)\n",
    "    if series.dtype.name != \"category\":\n",
    "        min_ = min(X[column_name].min(), series.min())\n",
    "        max_ = max(X[column_name].max(), series.max())\n",
    "        ax.plot([min_, max_], [min_, max_], color=\"red\", zorder=0)\n",
    "    ax.set_title(column_name)\n",
    "    ax.set_aspect(1)\n",
    "plt.tight_layout()\n",
    "plt.show()\n",
    "\n",
    "# after change a model\n",
    "train_x = X[sim.train_result_[\"x0\"][0][\"exp_columns\"]].copy()\n",
    "train_x[\"x3\"] /= 4\n",
    "train_y = X[\"x0\"]\n",
    "model = LinearRegression()\n",
    "model.fit(train_x.values, train_y.values)\n",
    "\n",
    "changing_models = [\n",
    "    {\n",
    "        \"name\": \"x0\",\n",
    "        \"condition\": None,\n",
    "        \"model\": model\n",
    "    },\n",
    "]\n",
    "sim_df2 = sim.run(changing_models=changing_models)\n",
    "\n",
    "display(Markdown(\"### Simulation result after change a model\"))\n",
    "fig, axes = plt.subplots(1, X.shape[1], figsize=(2 * X.shape[1], 2))\n",
    "for ax, (column_name, series) in zip(axes, sim_df2.items()):\n",
    "    ax.scatter(X[column_name], series, s=1)\n",
    "    if series.dtype.name != \"category\":\n",
    "        min_ = min(X[column_name].min(), series.min())\n",
    "        max_ = max(X[column_name].max(), series.max())\n",
    "        ax.plot([min_, max_], [min_, max_], color=\"red\", zorder=0)\n",
    "    ax.set_title(column_name)\n",
    "    ax.set_aspect(1)\n",
    "plt.tight_layout()\n",
    "plt.show()"
   ]
  },
  {
   "cell_type": "markdown",
   "id": "5defb214-c054-4b89-a6e4-e2bd33a868d1",
   "metadata": {},
   "source": [
    "You can see that changing the model of *x0* and simulating it produces a different result than before the model change. The simulation values are created by adding the residuals from the output of *train()* to the model's predictions. Since we have changed to a model with large coefficients, the predictions of the model are larger and the simulation values are larger as a result. We can also see that the variables involved in *x0*, *x1*, *x4*, and *x5*, are also affected."
   ]
  },
  {
   "cell_type": "markdown",
   "id": "d7fef1c8-13ee-46ac-8d4e-4ceaf894eb3a",
   "metadata": {},
   "source": [
    "## Simulation by changing exogenous variables and model\n",
    "\n",
    "So far we have shown examples of changing the exogenous variables and changing the model. Here we will change both and run the simulation.\n",
    "\n",
    "We will use the same linear regression model as before as the model for *x0*. We also set the residuals as exogenous variables of *x0* when the newly prepared model is applied to the data at *train()* time, so that the simulation results match the original data."
   ]
  },
  {
   "cell_type": "code",
   "execution_count": 8,
   "id": "e6827505-6aec-48c1-b25c-4af9a8e965be",
   "metadata": {},
   "outputs": [
    {
     "data": {
      "text/markdown": [
       "### Distribution of simulated data after change a model and a exogenous (Scatter plot)"
      ],
      "text/plain": [
       "<IPython.core.display.Markdown object>"
      ]
     },
     "metadata": {},
     "output_type": "display_data"
    },
    {
     "data": {
      "image/png": "[encoded data removed]",
      "text/plain": [
       "<Figure size 864x144 with 6 Axes>"
      ]
     },
     "metadata": {
      "needs_background": "light"
     },
     "output_type": "display_data"
    },
    {
     "data": {
      "text/markdown": [
       "### Distribution of simulated data after change a model and a exogenous (histogram)"
      ],
      "text/plain": [
       "<IPython.core.display.Markdown object>"
      ]
     },
     "metadata": {},
     "output_type": "display_data"
    },
    {
     "data": {
      "image/png": "[encoded data removed]",
      "text/plain": [
       "<Figure size 864x144 with 6 Axes>"
      ]
     },
     "metadata": {
      "needs_background": "light"
     },
     "output_type": "display_data"
    },
    {
     "data": {
      "text/markdown": [
       "### (Reference) Distribution of test data"
      ],
      "text/plain": [
       "<IPython.core.display.Markdown object>"
      ]
     },
     "metadata": {},
     "output_type": "display_data"
    },
    {
     "data": {
      "image/png": "[encoded data removed]",
      "text/plain": [
       "<Figure size 864x144 with 6 Axes>"
      ]
     },
     "metadata": {
      "needs_background": "light"
     },
     "output_type": "display_data"
    },
    {
     "data": {
      "text/markdown": [
       "### Coefficients of x0 model"
      ],
      "text/plain": [
       "<IPython.core.display.Markdown object>"
      ]
     },
     "metadata": {},
     "output_type": "display_data"
    },
    {
     "data": {
      "text/markdown": [
       "- Original model coef[x0]=2.970, intercept=0.520"
      ],
      "text/plain": [
       "<IPython.core.display.Markdown object>"
      ]
     },
     "metadata": {},
     "output_type": "display_data"
    },
    {
     "data": {
      "text/markdown": [
       "- New model coef[x0]=11.881, intercept=0.520"
      ],
      "text/plain": [
       "<IPython.core.display.Markdown object>"
      ]
     },
     "metadata": {},
     "output_type": "display_data"
    },
    {
     "data": {
      "text/markdown": [
       "### Distribution of exogenous of x0"
      ],
      "text/plain": [
       "<IPython.core.display.Markdown object>"
      ]
     },
     "metadata": {},
     "output_type": "display_data"
    },
    {
     "data": {
      "image/png": "[encoded data removed]",
      "text/plain": [
       "<Figure size 576x216 with 2 Axes>"
      ]
     },
     "metadata": {
      "needs_background": "light"
     },
     "output_type": "display_data"
    }
   ],
   "source": [
    "sim = CausalBasedSimulator()\n",
    "sim.train(X, G)\n",
    "\n",
    "# before change\n",
    "sim_df = sim.run()\n",
    "\n",
    "# change model and exogenous\n",
    "cols = sim.train_result_[\"x0\"][0][\"exp_columns\"]\n",
    "train_x = X[cols].copy()\n",
    "train_x[\"x3\"] /= 4\n",
    "train_y = X[\"x0\"]\n",
    "model = LinearRegression()\n",
    "model.fit(train_x.values, train_y.values)\n",
    "resid = train_y - model.predict(X[cols].values)\n",
    "\n",
    "changing_models = [\n",
    "    {\n",
    "        \"name\": \"x0\",\n",
    "        \"condition\": None,\n",
    "        \"model\": model\n",
    "    },\n",
    "]\n",
    "changing_exog = {\n",
    "    \"x0\": resid,\n",
    "}\n",
    "sim_df2 = sim.run(changing_exog=changing_exog, changing_models=changing_models)\n",
    "\n",
    "display(Markdown(\"### Distribution of simulated data after change a model and a exogenous (Scatter plot)\"))\n",
    "fig, axes = plt.subplots(1, X.shape[1], figsize=(2 * X.shape[1], 2))\n",
    "for ax, (column_name, series) in zip(axes, sim_df2.items()):\n",
    "    ax.scatter(X[column_name], series, s=1)\n",
    "    if series.dtype.name != \"category\":\n",
    "        min_ = min(X[column_name].min(), series.min())\n",
    "        max_ = max(X[column_name].max(), series.max())\n",
    "        ax.plot([min_, max_], [min_, max_], color=\"red\", zorder=0)\n",
    "    ax.set_title(column_name)\n",
    "    ax.set_aspect(1)\n",
    "plt.tight_layout()\n",
    "plt.show()\n",
    "\n",
    "display(Markdown(\"### Distribution of simulated data after change a model and a exogenous (histogram)\"))\n",
    "fig, axes = plt.subplots(1, X.shape[1], figsize=(2 * X.shape[1], 2))\n",
    "for ax, (column_name, series) in zip(axes, sim_df2.items()):\n",
    "    ax.hist(sorted(series))\n",
    "    ax.set_title(column_name)\n",
    "plt.tight_layout()\n",
    "plt.show()\n",
    "\n",
    "display(Markdown(\"### (Reference) Distribution of test data\"))\n",
    "fig, axes = plt.subplots(1, X.shape[1], figsize=(2 * X.shape[1], 2))\n",
    "for ax, (column_name, series) in zip(axes, X.items()):\n",
    "    ax.hist(sorted(series))\n",
    "    ax.set_title(column_name)\n",
    "plt.tight_layout()\n",
    "plt.show()\n",
    "\n",
    "old_model = sim.train_result_[\"x0\"][0][\"model\"]\n",
    "display(Markdown(\"### Coefficients of x0 model\"))\n",
    "display(Markdown(f\"- Original model coef[x0]={old_model.coef_[0]:.3f}, intercept={old_model.intercept_:.3f}\"))\n",
    "display(Markdown(f\"- New model coef[x0]={model.coef_[0]:.3f}, intercept={model.intercept_:.3f}\"))\n",
    "\n",
    "display(Markdown(\"### Distribution of exogenous of x0\"))\n",
    "fig, axes = plt.subplots(1, 2, figsize=(8, 3))\n",
    "axes[0].hist(sim.residual_[\"x0\"])\n",
    "axes[0].set_title(\"original\")\n",
    "axes[1].hist(changing_exog[\"x0\"])\n",
    "axes[1].set_title(\"changed\")\n",
    "plt.show()"
   ]
  },
  {
   "cell_type": "markdown",
   "id": "4c28855c-c6a4-4152-9c7d-b88c86ad3086",
   "metadata": {},
   "source": [
    "The model was changed, but the distribution is similar to the test data because the residuals of that model were given as residuals."
   ]
  },
  {
   "cell_type": "markdown",
   "id": "a25f7096-0f90-4c31-8c63-57bfb04b3fd1",
   "metadata": {},
   "source": [
    "## Manipulating categorical variables\n",
    "Since there are no residuals in the classification model, changing_exog for categorical variables is ignored. To change the output of a model for a categorical variable, use changing_models as follows."
   ]
  },
  {
   "cell_type": "code",
   "execution_count": 9,
   "id": "0e18d2fa-7bb7-4a9e-a8b3-037b621d219b",
   "metadata": {},
   "outputs": [],
   "source": [
    "# inheritance of ClassifierMixin for classification models and RegressorMixin for regression models is required.\n",
    "class NewModelX2(BaseEstimator, ClassifierMixin):\n",
    "    \n",
    "    def __init__(self, classes=None):\n",
    "        # classes_ is required for the classification model.\n",
    "        self.classes_ = np.arange(len(classes))\n",
    "\n",
    "    # For classification models, predict_proba() is required.\n",
    "    # For regression models, predict() is required.\n",
    "    def predict_proba(self, X):\n",
    "        proba = [[0.95, 0.05]] * X.shape[0]\n",
    "        return np.array(proba)\n",
    "\n",
    "sim = CausalBasedSimulator()\n",
    "sim.train(X, G)\n",
    "sim_df = sim.run()\n",
    "\n",
    "model = NewModelX2(sim.categorical_info_[\"x2\"])\n",
    "sim_df2 = sim.run(changing_models=[\n",
    "    {\n",
    "        \"name\": \"x2\",\n",
    "        \"condition\": None,\n",
    "        \"model\": model\n",
    "    },\n",
    "])"
   ]
  },
  {
   "cell_type": "code",
   "execution_count": 10,
   "id": "907ef256-5302-4215-a801-20cccf29fcde",
   "metadata": {},
   "outputs": [
    {
     "data": {
      "text/markdown": [
       "### Before manipulating x2"
      ],
      "text/plain": [
       "<IPython.core.display.Markdown object>"
      ]
     },
     "metadata": {},
     "output_type": "display_data"
    },
    {
     "data": {
      "image/png": "[encoded data removed]",
      "text/plain": [
       "<Figure size 864x144 with 6 Axes>"
      ]
     },
     "metadata": {
      "needs_background": "light"
     },
     "output_type": "display_data"
    },
    {
     "data": {
      "text/markdown": [
       "### After manipulating x2"
      ],
      "text/plain": [
       "<IPython.core.display.Markdown object>"
      ]
     },
     "metadata": {},
     "output_type": "display_data"
    },
    {
     "data": {
      "image/png": "[encoded data removed]",
      "text/plain": [
       "<Figure size 864x144 with 6 Axes>"
      ]
     },
     "metadata": {
      "needs_background": "light"
     },
     "output_type": "display_data"
    },
    {
     "data": {
      "text/markdown": [
       "### Difference before and after x2 operation"
      ],
      "text/plain": [
       "<IPython.core.display.Markdown object>"
      ]
     },
     "metadata": {},
     "output_type": "display_data"
    },
    {
     "data": {
      "image/png": "[encoded data removed]",
      "text/plain": [
       "<Figure size 576x144 with 4 Axes>"
      ]
     },
     "metadata": {
      "needs_background": "light"
     },
     "output_type": "display_data"
    }
   ],
   "source": [
    "display(Markdown(\"### Before manipulating x2\"))\n",
    "fig, axes = plt.subplots(1, X.shape[1], figsize=(2 * X.shape[1], 2))\n",
    "for ax, (column_name, series) in zip(axes, sim_df.items()):\n",
    "    ax.hist(series)\n",
    "    ax.set_title(column_name)\n",
    "plt.tight_layout()\n",
    "plt.show()\n",
    "\n",
    "display(Markdown(\"### After manipulating x2\"))\n",
    "fig, axes = plt.subplots(1, X.shape[1], figsize=(2 * X.shape[1], 2))\n",
    "for ax, (column_name, series) in zip(axes, sim_df2.items()):\n",
    "    ax.hist(series)\n",
    "    ax.set_title(column_name)\n",
    "plt.tight_layout()\n",
    "plt.show()\n",
    "\n",
    "display(Markdown(\"### Difference before and after x2 operation\"))\n",
    "target_cols = [\"x0\", \"x1\", \"x4\", \"x5\"]\n",
    "fig, axes = plt.subplots(1, len(target_cols), figsize=(2 * len(target_cols), 2))\n",
    "for i, column_name in enumerate(target_cols):\n",
    "    series = sim_df[column_name]\n",
    "    series2 = sim_df2[column_name]\n",
    "    if series.dtype.name != \"category\":\n",
    "        series2 = sim_df2[column_name]\n",
    "        axes[i].hist(series2 - series)\n",
    "        axes[i].set_title(column_name)\n",
    "plt.tight_layout()\n",
    "plt.show()"
   ]
  },
  {
   "cell_type": "markdown",
   "id": "08a08b16-555e-4322-96df-ca1228320f67",
   "metadata": {},
   "source": [
    "It can be seen that the distribution of x1 and x4 with x2 as a parent changes before and after the x2 operation, and that there is a difference in values before and after the operation."
   ]
  },
  {
   "cell_type": "markdown",
   "id": "b36620b9-e7af-4937-8f70-6283392d4e0a",
   "metadata": {},
   "source": [
    "## Shuffle residuals to be added when simulating\n",
    "When run() is executed, simulation is performed by adding the training residuals to the predictions. By default, the residuals to be added to the predictions are the training residuals for the same sample. By using the option shuffle_residual, the residuals are shuffled and added together."
   ]
  },
  {
   "cell_type": "code",
   "execution_count": 11,
   "id": "120b3069-51e9-48a5-9e04-3a8b2f1c89a2",
   "metadata": {},
   "outputs": [],
   "source": [
    "sim = CausalBasedSimulator()\n",
    "sim.train(X, G)\n",
    "\n",
    "sim_df = sim.run()\n",
    "sim_df2 = sim.run(shuffle_residual=True)\n",
    "sim_df3 = sim.run(shuffle_residual=True, random_state=0)"
   ]
  },
  {
   "cell_type": "code",
   "execution_count": 12,
   "id": "8273b466-af2c-49de-8075-c56fe101ae46",
   "metadata": {},
   "outputs": [
    {
     "data": {
      "text/markdown": [
       "### Disable shuffle residuals"
      ],
      "text/plain": [
       "<IPython.core.display.Markdown object>"
      ]
     },
     "metadata": {},
     "output_type": "display_data"
    },
    {
     "data": {
      "image/png": "[encoded data removed]",
      "text/plain": [
       "<Figure size 864x144 with 6 Axes>"
      ]
     },
     "metadata": {
      "needs_background": "light"
     },
     "output_type": "display_data"
    },
    {
     "data": {
      "text/markdown": [
       "### Enable shuffle residuals"
      ],
      "text/plain": [
       "<IPython.core.display.Markdown object>"
      ]
     },
     "metadata": {},
     "output_type": "display_data"
    },
    {
     "data": {
      "image/png": "[encoded data removed]",
      "text/plain": [
       "<Figure size 864x144 with 6 Axes>"
      ]
     },
     "metadata": {
      "needs_background": "light"
     },
     "output_type": "display_data"
    },
    {
     "data": {
      "text/markdown": [
       "### Difference between disable and enable shuffle reisudals"
      ],
      "text/plain": [
       "<IPython.core.display.Markdown object>"
      ]
     },
     "metadata": {},
     "output_type": "display_data"
    },
    {
     "data": {
      "image/png": "[encoded data removed]",
      "text/plain": [
       "<Figure size 720x144 with 5 Axes>"
      ]
     },
     "metadata": {
      "needs_background": "light"
     },
     "output_type": "display_data"
    }
   ],
   "source": [
    "display(Markdown(\"### Disable shuffle residuals\"))\n",
    "fig, axes = plt.subplots(1, X.shape[1], figsize=(2 * X.shape[1], 2))\n",
    "for ax, (column_name, series) in zip(axes, sim_df.items()):\n",
    "    ax.hist(sorted(series))\n",
    "    ax.set_title(column_name)\n",
    "plt.tight_layout()\n",
    "plt.show()\n",
    "\n",
    "display(Markdown(\"### Enable shuffle residuals\"))\n",
    "fig, axes = plt.subplots(1, X.shape[1], figsize=(2 * X.shape[1], 2))\n",
    "for ax, (column_name, series) in zip(axes, sim_df2.items()):\n",
    "    ax.hist(series)\n",
    "    ax.set_title(column_name)\n",
    "plt.tight_layout()\n",
    "plt.show()\n",
    "\n",
    "display(Markdown(\"### Difference between disable and enable shuffle reisudals\"))\n",
    "target_cols = [\"x0\", \"x1\", \"x3\", \"x4\", \"x5\"]\n",
    "fig, axes = plt.subplots(1, len(target_cols), figsize=(2 * len(target_cols), 2))\n",
    "for i, column_name in enumerate(target_cols):\n",
    "    series = sim_df[column_name]\n",
    "    series2 = sim_df2[column_name]\n",
    "    axes[i].hist(series - series2)\n",
    "    axes[i].set_title(column_name)\n",
    "plt.tight_layout()\n",
    "plt.show()"
   ]
  },
  {
   "cell_type": "markdown",
   "id": "5fdcc59c-c3b8-4552-915f-e015f35bbd91",
   "metadata": {},
   "source": [
    "We can see that there is a difference between the cases with and without shuffling. x2 is a categorical variable, so we did not take the difference. x3 is the most upstream variable, so it has no difference."
   ]
  },
  {
   "cell_type": "markdown",
   "id": "376bed6e-fe7f-4c2f-aedd-f512eb09396e",
   "metadata": {},
   "source": [
    "# Special machine leaerning models\n",
    "If the explanatory variables are all categorical variables, the machine learning model has no explanatory variables. In such cases, a special machine learning model prepared in CausalBasedSimulator is used. Use CbsExpectedValueRegressor when the objective variable is a continuous variable and CbsCategoricalClassifier when it is a categorical variable.\n",
    "\n",
    "CbsExpectedValueRegressor is a machine learning model that returns the expected value of the target variable; *expected_value_* can be accessed after fit(). \n",
    "\n",
    "CbsCategoricalClassifier is a machine learning model that returns the generated value of the target variable;*classes_* gives access to the classes of the target variable, and *p_* gives access to the probability of occurrence of the class at the index corresponding to *classes_*.\n",
    "\n",
    "## Creating test data\n",
    "x0 is a categorical variable, x1 and x2 are children of x0 and are continuous and categorical variables, respectively. x1 and x2 have only categorical variables as parents, so the machine learning models for x1 and x2 have no explanatory variables.\n",
    "\n",
    "x1 takes the values 0\\~2 when the value of x0 is a and 0~1 when the value of x0 is b. x2 takes the values 75% when the value of x0 is a and 25% when the value of x0 is c to produce d and 25% when the value of x0 is b to produce c to produce d."
   ]
  },
  {
   "cell_type": "code",
   "execution_count": 13,
   "id": "67331f3d-7793-424a-a9ac-23096cf50f7c",
   "metadata": {},
   "outputs": [
    {
     "data": {
      "text/markdown": [
       "### Causal graph (matrix)"
      ],
      "text/plain": [
       "<IPython.core.display.Markdown object>"
      ]
     },
     "metadata": {},
     "output_type": "display_data"
    },
    {
     "data": {
      "text/plain": [
       "array([[0., 0., 0.],\n",
       "       [2., 0., 0.],\n",
       "       [2., 0., 0.]])"
      ]
     },
     "metadata": {},
     "output_type": "display_data"
    },
    {
     "data": {
      "text/markdown": [
       "### Causal graph (picture)"
      ],
      "text/plain": [
       "<IPython.core.display.Markdown object>"
      ]
     },
     "metadata": {},
     "output_type": "display_data"
    },
    {
     "data": {
      "image/png": "[encoded data removed]",
      "text/plain": [
       "<Figure size 432x288 with 1 Axes>"
      ]
     },
     "metadata": {},
     "output_type": "display_data"
    },
    {
     "data": {
      "text/markdown": [
       "### Test data"
      ],
      "text/plain": [
       "<IPython.core.display.Markdown object>"
      ]
     },
     "metadata": {},
     "output_type": "display_data"
    },
    {
     "data": {
      "text/html": [
       "<div>\n",
       "<style scoped>\n",
       "    .dataframe tbody tr th:only-of-type {\n",
       "        vertical-align: middle;\n",
       "    }\n",
       "\n",
       "    .dataframe tbody tr th {\n",
       "        vertical-align: top;\n",
       "    }\n",
       "\n",
       "    .dataframe thead th {\n",
       "        text-align: right;\n",
       "    }\n",
       "</style>\n",
       "<table border=\"1\" class=\"dataframe\">\n",
       "  <thead>\n",
       "    <tr style=\"text-align: right;\">\n",
       "      <th></th>\n",
       "      <th>x0</th>\n",
       "      <th>x1</th>\n",
       "      <th>x2</th>\n",
       "    </tr>\n",
       "  </thead>\n",
       "  <tbody>\n",
       "    <tr>\n",
       "      <th>0</th>\n",
       "      <td>b</td>\n",
       "      <td>0.637492</td>\n",
       "      <td>d</td>\n",
       "    </tr>\n",
       "    <tr>\n",
       "      <th>1</th>\n",
       "      <td>a</td>\n",
       "      <td>1.625853</td>\n",
       "      <td>c</td>\n",
       "    </tr>\n",
       "    <tr>\n",
       "      <th>2</th>\n",
       "      <td>a</td>\n",
       "      <td>0.112440</td>\n",
       "      <td>c</td>\n",
       "    </tr>\n",
       "    <tr>\n",
       "      <th>3</th>\n",
       "      <td>a</td>\n",
       "      <td>0.465851</td>\n",
       "      <td>c</td>\n",
       "    </tr>\n",
       "    <tr>\n",
       "      <th>4</th>\n",
       "      <td>a</td>\n",
       "      <td>0.635237</td>\n",
       "      <td>c</td>\n",
       "    </tr>\n",
       "    <tr>\n",
       "      <th>...</th>\n",
       "      <td>...</td>\n",
       "      <td>...</td>\n",
       "      <td>...</td>\n",
       "    </tr>\n",
       "    <tr>\n",
       "      <th>995</th>\n",
       "      <td>b</td>\n",
       "      <td>0.203735</td>\n",
       "      <td>d</td>\n",
       "    </tr>\n",
       "    <tr>\n",
       "      <th>996</th>\n",
       "      <td>a</td>\n",
       "      <td>1.830511</td>\n",
       "      <td>c</td>\n",
       "    </tr>\n",
       "    <tr>\n",
       "      <th>997</th>\n",
       "      <td>a</td>\n",
       "      <td>1.474971</td>\n",
       "      <td>c</td>\n",
       "    </tr>\n",
       "    <tr>\n",
       "      <th>998</th>\n",
       "      <td>a</td>\n",
       "      <td>0.498662</td>\n",
       "      <td>c</td>\n",
       "    </tr>\n",
       "    <tr>\n",
       "      <th>999</th>\n",
       "      <td>a</td>\n",
       "      <td>0.630514</td>\n",
       "      <td>c</td>\n",
       "    </tr>\n",
       "  </tbody>\n",
       "</table>\n",
       "<p>1000 rows × 3 columns</p>\n",
       "</div>"
      ],
      "text/plain": [
       "    x0        x1 x2\n",
       "0    b  0.637492  d\n",
       "1    a  1.625853  c\n",
       "2    a  0.112440  c\n",
       "3    a  0.465851  c\n",
       "4    a  0.635237  c\n",
       "..  ..       ... ..\n",
       "995  b  0.203735  d\n",
       "996  a  1.830511  c\n",
       "997  a  1.474971  c\n",
       "998  a  0.498662  c\n",
       "999  a  0.630514  c\n",
       "\n",
       "[1000 rows x 3 columns]"
      ]
     },
     "metadata": {},
     "output_type": "display_data"
    }
   ],
   "source": [
    "display(Markdown(\"### Causal graph (matrix)\"))\n",
    "\n",
    "G = np.array([[0.0, 0.0, 0.0],\n",
    "              [2.0, 0.0, 0.0],\n",
    "              [2.0, 0.0, 0.0]])\n",
    "\n",
    "display(G)\n",
    "\n",
    "display(Markdown(\"### Causal graph (picture)\"))\n",
    "\n",
    "graph = nx.DiGraph()\n",
    "\n",
    "graph.add_node(\"x0\", pos=(0, 1))\n",
    "graph.add_node(\"x1\", pos=(-1, 0))\n",
    "graph.add_node(\"x2\", pos=(1, 0))\n",
    "\n",
    "edges = []\n",
    "edge_labels = {}\n",
    "for to, from_ in np.argwhere(~np.isclose(G, 0)):\n",
    "    edges.append((f\"x{from_}\", f\"x{to}\"))\n",
    "graph.add_edges_from(edges)\n",
    "pos = nx.get_node_attributes(graph, \"pos\")\n",
    "nx.draw(graph, pos, with_labels=True, arrowsize=20, node_size=2000)\n",
    "nx.draw_networkx_edge_labels(G, pos, edge_labels=edge_labels, font_size=14)\n",
    "plt.show() \n",
    "\n",
    "display(Markdown(\"### Test data\"))\n",
    "\n",
    "N = 1000\n",
    "\n",
    "X = {}\n",
    "\n",
    "X[\"x0\"] = np.random.choice([\"a\", \"b\"], p=[0.75, 0.25], size=N)\n",
    "\n",
    "X[\"x1\"] = []\n",
    "for i in range(N):\n",
    "    if X[\"x0\"][i] == \"a\":\n",
    "        X[\"x1\"].append(np.random.uniform() * 2)\n",
    "    elif X[\"x0\"][i] == \"b\":\n",
    "        X[\"x1\"].append(np.random.uniform())\n",
    "        \n",
    "X[\"x2\"] = []\n",
    "for i in range(N):\n",
    "    if X[\"x0\"][i] == \"a\":\n",
    "        X[\"x2\"].append(np.random.choice([\"c\", \"d\"], p=[0.75, 0.25]))\n",
    "    elif X[\"x0\"][i] == \"b\":\n",
    "        X[\"x2\"].append(np.random.choice([\"c\", \"d\"], p=[0.25, 0.75]))\n",
    "        \n",
    "        \n",
    "X = pd.DataFrame(X)\n",
    "X[\"x0\"] = X[\"x0\"].astype(\"category\")\n",
    "X[\"x2\"] = X[\"x2\"].astype(\"category\")\n",
    "X = X[sorted(X.columns)]\n",
    "\n",
    "display(X)"
   ]
  },
  {
   "cell_type": "code",
   "execution_count": 14,
   "id": "a8294095-55f9-46e4-9ca2-e75da676e409",
   "metadata": {},
   "outputs": [
    {
     "data": {
      "text/markdown": [
       "## Distribution of test data"
      ],
      "text/plain": [
       "<IPython.core.display.Markdown object>"
      ]
     },
     "metadata": {},
     "output_type": "display_data"
    },
    {
     "data": {
      "image/png": "[encoded data removed]",
      "text/plain": [
       "<Figure size 432x144 with 3 Axes>"
      ]
     },
     "metadata": {
      "needs_background": "light"
     },
     "output_type": "display_data"
    },
    {
     "data": {
      "text/markdown": [
       "## Distribution of x1 and x2"
      ],
      "text/plain": [
       "<IPython.core.display.Markdown object>"
      ]
     },
     "metadata": {},
     "output_type": "display_data"
    },
    {
     "data": {
      "image/png": "[encoded data removed]",
      "text/plain": [
       "<Figure size 432x216 with 2 Axes>"
      ]
     },
     "metadata": {
      "needs_background": "light"
     },
     "output_type": "display_data"
    }
   ],
   "source": [
    "display(Markdown(\"## Distribution of test data\"))\n",
    "fig, axes = plt.subplots(1, X.shape[1], figsize=(2 * X.shape[1], 2))\n",
    "for ax, (column_name, series) in zip(axes, X.items()):\n",
    "    ax.hist(sorted(series))\n",
    "    ax.set_title(column_name)\n",
    "plt.tight_layout()\n",
    "plt.show()\n",
    "\n",
    "display(Markdown(\"## Distribution of x1 and x2\"))\n",
    "fig, axes = plt.subplots(1, 2, figsize=(6, 3))\n",
    "\n",
    "X_a = X[X[\"x0\"] == \"a\"]\n",
    "axes[0].hist(X_a[\"x1\"], range=(0, 2), alpha=0.5, label=\"x0=a\")\n",
    "axes[1].hist(sorted(X_a[\"x2\"]), alpha=0.5, label=\"x0=b\")\n",
    "\n",
    "X_b = X[X[\"x0\"] == \"b\"]\n",
    "axes[0].hist(X_b[\"x1\"], range=(0, 2), alpha=0.5, label=\"x0=a\")\n",
    "axes[1].hist(sorted(X_b[\"x2\"]), alpha=0.5, label=\"x0=b\")\n",
    "\n",
    "axes[0].set_title(\"x1\")\n",
    "axes[0].legend()\n",
    "axes[1].set_title(\"x2\")\n",
    "axes[1].legend()\n",
    "\n",
    "plt.show()"
   ]
  },
  {
   "cell_type": "code",
   "execution_count": 15,
   "id": "8636ee77-eef7-43b6-9b4d-a936e03f38c4",
   "metadata": {},
   "outputs": [],
   "source": [
    "sim = CausalBasedSimulator()\n",
    "sim.train(X, G)\n",
    "\n",
    "sim_df = sim.run()"
   ]
  },
  {
   "cell_type": "code",
   "execution_count": 16,
   "id": "7dc151c6-c0db-46bd-bb21-fe6a19b42192",
   "metadata": {},
   "outputs": [
    {
     "data": {
      "text/markdown": [
       "## Distribution of simulated data"
      ],
      "text/plain": [
       "<IPython.core.display.Markdown object>"
      ]
     },
     "metadata": {},
     "output_type": "display_data"
    },
    {
     "data": {
      "image/png": "[encoded data removed]",
      "text/plain": [
       "<Figure size 432x144 with 3 Axes>"
      ]
     },
     "metadata": {
      "needs_background": "light"
     },
     "output_type": "display_data"
    }
   ],
   "source": [
    "display(Markdown(\"## Distribution of simulated data\"))\n",
    "fig, axes = plt.subplots(1, sim_df.shape[1], figsize=(2 * sim_df.shape[1], 2))\n",
    "for ax, (column_name, series) in zip(axes, sim_df.items()):\n",
    "    ax.hist(sorted(series))\n",
    "    ax.set_title(column_name)\n",
    "plt.tight_layout()\n",
    "plt.show()"
   ]
  }
 ],
 "metadata": {
  "kernelspec": {
   "display_name": "Python 3",
   "language": "python",
   "name": "python3"
  },
  "language_info": {
   "codemirror_mode": {
    "name": "ipython",
    "version": 3
   },
   "file_extension": ".py",
   "mimetype": "text/x-python",
   "name": "python",
   "nbconvert_exporter": "python",
   "pygments_lexer": "ipython3",
   "version": "3.8.5"
  },
  "widgets": {
   "application/vnd.jupyter.widget-state+json": {
    "state": {},
    "version_major": 2,
    "version_minor": 0
   }
  }
 },
 "nbformat": 4,
 "nbformat_minor": 5
}
