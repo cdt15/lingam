{
 "cells": [
  {
   "cell_type": "markdown",
   "id": "34d826c7-05ce-4c04-8cb9-6a494df8d331",
   "metadata": {},
   "source": [
    "# GroupLiNGAM"
   ]
  },
  {
   "cell_type": "markdown",
   "id": "a87c0af8-a39f-46f9-a0f0-ecf27dc96618",
   "metadata": {},
   "source": [
    "## Import and settings\n",
    "In this example, we need to import `numpy`, `pandas`, and `graphviz` in addition to `lingam`."
   ]
  },
  {
   "cell_type": "code",
   "execution_count": 1,
   "id": "6d36f7bd-aee0-4640-aff1-df7596653ab1",
   "metadata": {},
   "outputs": [
    {
     "name": "stdout",
     "output_type": "stream",
     "text": [
      "['1.26.4', '2.2.3', '0.20.3', '1.11.0']\n"
     ]
    }
   ],
   "source": [
    "import numpy as np\n",
    "import pandas as pd\n",
    "import graphviz\n",
    "import lingam\n",
    "from lingam.utils import print_causal_directions, print_dagc, make_prior_knowledge, make_dot\n",
    "\n",
    "import warnings\n",
    "warnings.filterwarnings('ignore')\n",
    "\n",
    "print([np.__version__, pd.__version__, graphviz.__version__, lingam.__version__])\n",
    "\n",
    "np.set_printoptions(precision=3, suppress=True)"
   ]
  },
  {
   "cell_type": "markdown",
   "id": "99bf3919-4279-4ad3-a3d0-0b73ef0fff48",
   "metadata": {},
   "source": [
    "## Test data\n",
    "First, we generate a causal structure with 5 variables. Then we create a dataset with 5 variables from x0 to x4.\n",
    "\n",
    "These variables are grouped as follows:\n",
    "- Group 1: x0, x1\n",
    "- Group 2: x2, x3\n",
    "- Group 3: x4"
   ]
  },
  {
   "cell_type": "code",
   "execution_count": 2,
   "id": "6cf7df50-03a9-485e-9483-a2d4b2fbd182",
   "metadata": {},
   "outputs": [
    {
     "data": {
      "text/html": [
       "<div>\n",
       "<style scoped>\n",
       "    .dataframe tbody tr th:only-of-type {\n",
       "        vertical-align: middle;\n",
       "    }\n",
       "\n",
       "    .dataframe tbody tr th {\n",
       "        vertical-align: top;\n",
       "    }\n",
       "\n",
       "    .dataframe thead th {\n",
       "        text-align: right;\n",
       "    }\n",
       "</style>\n",
       "<table border=\"1\" class=\"dataframe\">\n",
       "  <thead>\n",
       "    <tr style=\"text-align: right;\">\n",
       "      <th></th>\n",
       "      <th>x0</th>\n",
       "      <th>x1</th>\n",
       "      <th>x2</th>\n",
       "      <th>x3</th>\n",
       "      <th>x4</th>\n",
       "    </tr>\n",
       "  </thead>\n",
       "  <tbody>\n",
       "    <tr>\n",
       "      <th>0</th>\n",
       "      <td>-1.608789</td>\n",
       "      <td>1.230028</td>\n",
       "      <td>-1.516625</td>\n",
       "      <td>3.914554</td>\n",
       "      <td>-6.042585</td>\n",
       "    </tr>\n",
       "    <tr>\n",
       "      <th>1</th>\n",
       "      <td>0.078166</td>\n",
       "      <td>-0.040099</td>\n",
       "      <td>0.073176</td>\n",
       "      <td>-0.454598</td>\n",
       "      <td>0.860043</td>\n",
       "    </tr>\n",
       "    <tr>\n",
       "      <th>2</th>\n",
       "      <td>0.741542</td>\n",
       "      <td>-0.228636</td>\n",
       "      <td>0.024761</td>\n",
       "      <td>-1.807335</td>\n",
       "      <td>3.379655</td>\n",
       "    </tr>\n",
       "    <tr>\n",
       "      <th>3</th>\n",
       "      <td>-0.043394</td>\n",
       "      <td>0.002091</td>\n",
       "      <td>0.499962</td>\n",
       "      <td>0.709751</td>\n",
       "      <td>-1.574337</td>\n",
       "    </tr>\n",
       "    <tr>\n",
       "      <th>4</th>\n",
       "      <td>0.549565</td>\n",
       "      <td>-0.352250</td>\n",
       "      <td>2.541741</td>\n",
       "      <td>-0.000427</td>\n",
       "      <td>-1.948394</td>\n",
       "    </tr>\n",
       "  </tbody>\n",
       "</table>\n",
       "</div>"
      ],
      "text/plain": [
       "         x0        x1        x2        x3        x4\n",
       "0 -1.608789  1.230028 -1.516625  3.914554 -6.042585\n",
       "1  0.078166 -0.040099  0.073176 -0.454598  0.860043\n",
       "2  0.741542 -0.228636  0.024761 -1.807335  3.379655\n",
       "3 -0.043394  0.002091  0.499962  0.709751 -1.574337\n",
       "4  0.549565 -0.352250  2.541741 -0.000427 -1.948394"
      ]
     },
     "execution_count": 2,
     "metadata": {},
     "output_type": "execute_result"
    }
   ],
   "source": [
    "np.random.seed(100)\n",
    "n_samples=1000\n",
    "\n",
    "def get_external_effect(n_samples):\n",
    "    zi = np.random.normal(0, 1, n_samples)\n",
    "    qi = np.random.choice(np.concatenate((np.random.uniform(0.5, 0.8, n_samples//2),\n",
    "                                          np.random.uniform(1.2, 2.0, n_samples//2))))\n",
    "    ei = np.sign(zi) * np.abs(zi) ** qi\n",
    "    ei = (ei - np.mean(ei)) / np.std(ei)\n",
    "    return ei\n",
    "\n",
    "x0 = get_external_effect(n_samples)\n",
    "x1 = get_external_effect(n_samples)\n",
    "x2 = -1.21 * x1 + get_external_effect(n_samples)\n",
    "x3 = -1.98 * x0 + get_external_effect(n_samples)\n",
    "x4 = -0.55 * x1 - 0.50 * x2 - 1.16 * x3 + get_external_effect(n_samples)\n",
    "\n",
    "# データフレームにまとめる\n",
    "X = pd.DataFrame(np.array([x0, x1, x2, x3, x4]).T, columns=['x0', 'x1', 'x2', 'x3', 'x4'])\n",
    "\n",
    "X.head()"
   ]
  },
  {
   "cell_type": "code",
   "execution_count": 3,
   "id": "d857580b-f393-4f5b-bcad-c67646040137",
   "metadata": {},
   "outputs": [
    {
     "data": {
      "image/svg+xml": [
       "<?xml version=\"1.0\" encoding=\"UTF-8\" standalone=\"no\"?>\n",
       "<!DOCTYPE svg PUBLIC \"-//W3C//DTD SVG 1.1//EN\"\n",
       " \"http://www.w3.org/Graphics/SVG/1.1/DTD/svg11.dtd\">\n",
       "<!-- Generated by graphviz version 12.2.1 (20241206.2353)\n",
       " -->\n",
       "<!-- Pages: 1 -->\n",
       "<svg width=\"184pt\" height=\"221pt\"\n",
       " viewBox=\"0.00 0.00 184.13 221.00\" xmlns=\"http://www.w3.org/2000/svg\" xmlns:xlink=\"http://www.w3.org/1999/xlink\">\n",
       "<g id=\"graph0\" class=\"graph\" transform=\"scale(1 1) rotate(0) translate(4 217)\">\n",
       "<polygon fill=\"white\" stroke=\"none\" points=\"-4,4 -4,-217 180.13,-217 180.13,4 -4,4\"/>\n",
       "<!-- x0 -->\n",
       "<g id=\"node1\" class=\"node\">\n",
       "<title>x0</title>\n",
       "<ellipse fill=\"none\" stroke=\"black\" cx=\"27\" cy=\"-195\" rx=\"27\" ry=\"18\"/>\n",
       "<text text-anchor=\"middle\" x=\"27\" y=\"-189.95\" font-family=\"Times New Roman,serif\" font-size=\"14.00\">x0</text>\n",
       "</g>\n",
       "<!-- x3 -->\n",
       "<g id=\"node4\" class=\"node\">\n",
       "<title>x3</title>\n",
       "<ellipse fill=\"none\" stroke=\"black\" cx=\"27\" cy=\"-106.5\" rx=\"27\" ry=\"18\"/>\n",
       "<text text-anchor=\"middle\" x=\"27\" y=\"-101.45\" font-family=\"Times New Roman,serif\" font-size=\"14.00\">x3</text>\n",
       "</g>\n",
       "<!-- x0&#45;&gt;x3 -->\n",
       "<g id=\"edge2\" class=\"edge\">\n",
       "<title>x0&#45;&gt;x3</title>\n",
       "<path fill=\"none\" stroke=\"black\" d=\"M27,-176.91C27,-165.26 27,-149.55 27,-136.02\"/>\n",
       "<polygon fill=\"black\" stroke=\"black\" points=\"30.5,-136.36 27,-126.36 23.5,-136.36 30.5,-136.36\"/>\n",
       "<text text-anchor=\"middle\" x=\"41.25\" y=\"-145.7\" font-family=\"Times New Roman,serif\" font-size=\"14.00\">&#45;1.98</text>\n",
       "</g>\n",
       "<!-- x1 -->\n",
       "<g id=\"node2\" class=\"node\">\n",
       "<title>x1</title>\n",
       "<ellipse fill=\"none\" stroke=\"black\" cx=\"139\" cy=\"-195\" rx=\"27\" ry=\"18\"/>\n",
       "<text text-anchor=\"middle\" x=\"139\" y=\"-189.95\" font-family=\"Times New Roman,serif\" font-size=\"14.00\">x1</text>\n",
       "</g>\n",
       "<!-- x2 -->\n",
       "<g id=\"node3\" class=\"node\">\n",
       "<title>x2</title>\n",
       "<ellipse fill=\"none\" stroke=\"black\" cx=\"99\" cy=\"-106.5\" rx=\"27\" ry=\"18\"/>\n",
       "<text text-anchor=\"middle\" x=\"99\" y=\"-101.45\" font-family=\"Times New Roman,serif\" font-size=\"14.00\">x2</text>\n",
       "</g>\n",
       "<!-- x1&#45;&gt;x2 -->\n",
       "<g id=\"edge1\" class=\"edge\">\n",
       "<title>x1&#45;&gt;x2</title>\n",
       "<path fill=\"none\" stroke=\"black\" d=\"M129.43,-177.85C126.11,-172 122.49,-165.28 119.5,-159 115.85,-151.32 112.28,-142.81 109.16,-134.95\"/>\n",
       "<polygon fill=\"black\" stroke=\"black\" points=\"112.52,-133.92 105.65,-125.85 105.99,-136.44 112.52,-133.92\"/>\n",
       "<text text-anchor=\"middle\" x=\"133.75\" y=\"-145.7\" font-family=\"Times New Roman,serif\" font-size=\"14.00\">&#45;1.21</text>\n",
       "</g>\n",
       "<!-- x4 -->\n",
       "<g id=\"node5\" class=\"node\">\n",
       "<title>x4</title>\n",
       "<ellipse fill=\"none\" stroke=\"black\" cx=\"99\" cy=\"-18\" rx=\"27\" ry=\"18\"/>\n",
       "<text text-anchor=\"middle\" x=\"99\" y=\"-12.95\" font-family=\"Times New Roman,serif\" font-size=\"14.00\">x4</text>\n",
       "</g>\n",
       "<!-- x1&#45;&gt;x4 -->\n",
       "<g id=\"edge3\" class=\"edge\">\n",
       "<title>x1&#45;&gt;x4</title>\n",
       "<path fill=\"none\" stroke=\"black\" d=\"M144.27,-177.08C145.79,-171.39 147.24,-164.98 148,-159 152.78,-121.24 135.4,-60.74 132,-54 129.65,-49.34 126.48,-44.88 123.04,-40.79\"/>\n",
       "<polygon fill=\"black\" stroke=\"black\" points=\"125.69,-38.5 116.3,-33.6 120.59,-43.29 125.69,-38.5\"/>\n",
       "<text text-anchor=\"middle\" x=\"161.88\" y=\"-101.45\" font-family=\"Times New Roman,serif\" font-size=\"14.00\">&#45;0.55</text>\n",
       "</g>\n",
       "<!-- x2&#45;&gt;x4 -->\n",
       "<g id=\"edge4\" class=\"edge\">\n",
       "<title>x2&#45;&gt;x4</title>\n",
       "<path fill=\"none\" stroke=\"black\" d=\"M99,-88.41C99,-76.76 99,-61.05 99,-47.52\"/>\n",
       "<polygon fill=\"black\" stroke=\"black\" points=\"102.5,-47.86 99,-37.86 95.5,-47.86 102.5,-47.86\"/>\n",
       "<text text-anchor=\"middle\" x=\"113.25\" y=\"-57.2\" font-family=\"Times New Roman,serif\" font-size=\"14.00\">&#45;0.50</text>\n",
       "</g>\n",
       "<!-- x3&#45;&gt;x4 -->\n",
       "<g id=\"edge5\" class=\"edge\">\n",
       "<title>x3&#45;&gt;x4</title>\n",
       "<path fill=\"none\" stroke=\"black\" d=\"M38.38,-89.88C46.08,-79.51 56.61,-65.71 66.5,-54 69.84,-50.04 73.48,-45.94 77.09,-41.99\"/>\n",
       "<polygon fill=\"black\" stroke=\"black\" points=\"79.5,-44.53 83.74,-34.82 74.37,-39.77 79.5,-44.53\"/>\n",
       "<text text-anchor=\"middle\" x=\"80.75\" y=\"-57.2\" font-family=\"Times New Roman,serif\" font-size=\"14.00\">&#45;1.16</text>\n",
       "</g>\n",
       "</g>\n",
       "</svg>\n"
      ],
      "text/plain": [
       "<graphviz.graphs.Digraph at 0x1ea9ddc3fd0>"
      ]
     },
     "execution_count": 3,
     "metadata": {},
     "output_type": "execute_result"
    }
   ],
   "source": [
    "m = np.array([[   0.0,   0.0,   0.0,   0.0, 0.0],\n",
    "              [   0.0,   0.0,   0.0,   0.0, 0.0],\n",
    "              [   0.0, -1.21,   0.0,   0.0, 0.0],\n",
    "              [ -1.98,   0.0,   0.0,   0.0, 0.0],\n",
    "              [   0.0, -0.55, -0.50, -1.16, 0.0]])\n",
    "\n",
    "dot = make_dot(m, labels=['x0', 'x1', 'x2', 'x3', 'x4'])\n",
    "\n",
    "# Save pdf\n",
    "dot.render('dag')\n",
    "\n",
    "# Save png\n",
    "dot.format = 'png'\n",
    "dot.render('dag')\n",
    "\n",
    "dot"
   ]
  },
  {
   "cell_type": "markdown",
   "id": "d0393eb2-6975-471c-8d4e-77a54515b7e8",
   "metadata": {},
   "source": [
    "## Causal Discovery\n",
    "To run causal discovery, we create a `GroupLiNGAM` object and call the `fit` method."
   ]
  },
  {
   "cell_type": "code",
   "execution_count": 4,
   "id": "45f15ea1-f20a-4b31-8223-6679c3bb8f1e",
   "metadata": {},
   "outputs": [
    {
     "data": {
      "text/plain": [
       "<lingam.group_lingam.GroupLiNGAM at 0x1ea9fa59690>"
      ]
     },
     "execution_count": 4,
     "metadata": {},
     "output_type": "execute_result"
    }
   ],
   "source": [
    "model = lingam.GroupLiNGAM()\n",
    "model.fit(X)"
   ]
  },
  {
   "cell_type": "markdown",
   "id": "96815cc1-c72b-489c-9213-c83f885e0174",
   "metadata": {},
   "source": [
    "Using the `causal_order_` properties, we can see the causal order of the variables by group as a result of the causal discovery."
   ]
  },
  {
   "cell_type": "code",
   "execution_count": 5,
   "id": "3eef8bb8-ea18-417e-a1cd-e4ef5d62a7ac",
   "metadata": {},
   "outputs": [
    {
     "data": {
      "text/plain": [
       "[[0], [1], [2], [3], [4]]"
      ]
     },
     "execution_count": 5,
     "metadata": {},
     "output_type": "execute_result"
    }
   ],
   "source": [
    "model.causal_order_"
   ]
  },
  {
   "cell_type": "markdown",
   "id": "2aa25979-991e-4714-a94b-95e076d5ed4d",
   "metadata": {},
   "source": [
    "Also, using the `adjacency_matrix_` properties, we can see the adjacency matrix as a result of the causal discovery. The coefficients between variables estimated with the same group are np.nan."
   ]
  },
  {
   "cell_type": "code",
   "execution_count": 6,
   "id": "437ebdb9-df21-4a2f-977f-1dc2b534ab2b",
   "metadata": {},
   "outputs": [
    {
     "data": {
      "text/plain": [
       "array([[ 0.   ,  0.   ,  0.   ,  0.   ,  0.   ],\n",
       "       [ 0.   ,  0.   ,  0.   ,  0.   ,  0.   ],\n",
       "       [ 0.   , -1.189,  0.   ,  0.   ,  0.   ],\n",
       "       [-1.968,  0.   ,  0.   ,  0.   ,  0.   ],\n",
       "       [ 0.   , -0.566, -0.494, -1.155,  0.   ]])"
      ]
     },
     "execution_count": 6,
     "metadata": {},
     "output_type": "execute_result"
    }
   ],
   "source": [
    "model.adjacency_matrix_"
   ]
  },
  {
   "cell_type": "code",
   "execution_count": 7,
   "id": "2fb5c81d-1b6d-422c-98f9-1208a56624a1",
   "metadata": {},
   "outputs": [
    {
     "data": {
      "image/svg+xml": [
       "<?xml version=\"1.0\" encoding=\"UTF-8\" standalone=\"no\"?>\n",
       "<!DOCTYPE svg PUBLIC \"-//W3C//DTD SVG 1.1//EN\"\n",
       " \"http://www.w3.org/Graphics/SVG/1.1/DTD/svg11.dtd\">\n",
       "<!-- Generated by graphviz version 12.2.1 (20241206.2353)\n",
       " -->\n",
       "<!-- Pages: 1 -->\n",
       "<svg width=\"184pt\" height=\"221pt\"\n",
       " viewBox=\"0.00 0.00 184.13 221.00\" xmlns=\"http://www.w3.org/2000/svg\" xmlns:xlink=\"http://www.w3.org/1999/xlink\">\n",
       "<g id=\"graph0\" class=\"graph\" transform=\"scale(1 1) rotate(0) translate(4 217)\">\n",
       "<polygon fill=\"white\" stroke=\"none\" points=\"-4,4 -4,-217 180.13,-217 180.13,4 -4,4\"/>\n",
       "<!-- x0 -->\n",
       "<g id=\"node1\" class=\"node\">\n",
       "<title>x0</title>\n",
       "<ellipse fill=\"none\" stroke=\"black\" cx=\"27\" cy=\"-195\" rx=\"27\" ry=\"18\"/>\n",
       "<text text-anchor=\"middle\" x=\"27\" y=\"-189.95\" font-family=\"Times New Roman,serif\" font-size=\"14.00\">x0</text>\n",
       "</g>\n",
       "<!-- x3 -->\n",
       "<g id=\"node4\" class=\"node\">\n",
       "<title>x3</title>\n",
       "<ellipse fill=\"none\" stroke=\"black\" cx=\"27\" cy=\"-106.5\" rx=\"27\" ry=\"18\"/>\n",
       "<text text-anchor=\"middle\" x=\"27\" y=\"-101.45\" font-family=\"Times New Roman,serif\" font-size=\"14.00\">x3</text>\n",
       "</g>\n",
       "<!-- x0&#45;&gt;x3 -->\n",
       "<g id=\"edge2\" class=\"edge\">\n",
       "<title>x0&#45;&gt;x3</title>\n",
       "<path fill=\"none\" stroke=\"black\" d=\"M27,-176.91C27,-165.26 27,-149.55 27,-136.02\"/>\n",
       "<polygon fill=\"black\" stroke=\"black\" points=\"30.5,-136.36 27,-126.36 23.5,-136.36 30.5,-136.36\"/>\n",
       "<text text-anchor=\"middle\" x=\"41.25\" y=\"-145.7\" font-family=\"Times New Roman,serif\" font-size=\"14.00\">&#45;1.97</text>\n",
       "</g>\n",
       "<!-- x1 -->\n",
       "<g id=\"node2\" class=\"node\">\n",
       "<title>x1</title>\n",
       "<ellipse fill=\"none\" stroke=\"black\" cx=\"139\" cy=\"-195\" rx=\"27\" ry=\"18\"/>\n",
       "<text text-anchor=\"middle\" x=\"139\" y=\"-189.95\" font-family=\"Times New Roman,serif\" font-size=\"14.00\">x1</text>\n",
       "</g>\n",
       "<!-- x2 -->\n",
       "<g id=\"node3\" class=\"node\">\n",
       "<title>x2</title>\n",
       "<ellipse fill=\"none\" stroke=\"black\" cx=\"99\" cy=\"-106.5\" rx=\"27\" ry=\"18\"/>\n",
       "<text text-anchor=\"middle\" x=\"99\" y=\"-101.45\" font-family=\"Times New Roman,serif\" font-size=\"14.00\">x2</text>\n",
       "</g>\n",
       "<!-- x1&#45;&gt;x2 -->\n",
       "<g id=\"edge1\" class=\"edge\">\n",
       "<title>x1&#45;&gt;x2</title>\n",
       "<path fill=\"none\" stroke=\"black\" d=\"M129.43,-177.85C126.11,-172 122.49,-165.28 119.5,-159 115.85,-151.32 112.28,-142.81 109.16,-134.95\"/>\n",
       "<polygon fill=\"black\" stroke=\"black\" points=\"112.52,-133.92 105.65,-125.85 105.99,-136.44 112.52,-133.92\"/>\n",
       "<text text-anchor=\"middle\" x=\"133.75\" y=\"-145.7\" font-family=\"Times New Roman,serif\" font-size=\"14.00\">&#45;1.19</text>\n",
       "</g>\n",
       "<!-- x4 -->\n",
       "<g id=\"node5\" class=\"node\">\n",
       "<title>x4</title>\n",
       "<ellipse fill=\"none\" stroke=\"black\" cx=\"99\" cy=\"-18\" rx=\"27\" ry=\"18\"/>\n",
       "<text text-anchor=\"middle\" x=\"99\" y=\"-12.95\" font-family=\"Times New Roman,serif\" font-size=\"14.00\">x4</text>\n",
       "</g>\n",
       "<!-- x1&#45;&gt;x4 -->\n",
       "<g id=\"edge3\" class=\"edge\">\n",
       "<title>x1&#45;&gt;x4</title>\n",
       "<path fill=\"none\" stroke=\"black\" d=\"M144.27,-177.08C145.79,-171.39 147.24,-164.98 148,-159 152.78,-121.24 135.4,-60.74 132,-54 129.65,-49.34 126.48,-44.88 123.04,-40.79\"/>\n",
       "<polygon fill=\"black\" stroke=\"black\" points=\"125.69,-38.5 116.3,-33.6 120.59,-43.29 125.69,-38.5\"/>\n",
       "<text text-anchor=\"middle\" x=\"161.88\" y=\"-101.45\" font-family=\"Times New Roman,serif\" font-size=\"14.00\">&#45;0.57</text>\n",
       "</g>\n",
       "<!-- x2&#45;&gt;x4 -->\n",
       "<g id=\"edge4\" class=\"edge\">\n",
       "<title>x2&#45;&gt;x4</title>\n",
       "<path fill=\"none\" stroke=\"black\" d=\"M99,-88.41C99,-76.76 99,-61.05 99,-47.52\"/>\n",
       "<polygon fill=\"black\" stroke=\"black\" points=\"102.5,-47.86 99,-37.86 95.5,-47.86 102.5,-47.86\"/>\n",
       "<text text-anchor=\"middle\" x=\"113.25\" y=\"-57.2\" font-family=\"Times New Roman,serif\" font-size=\"14.00\">&#45;0.49</text>\n",
       "</g>\n",
       "<!-- x3&#45;&gt;x4 -->\n",
       "<g id=\"edge5\" class=\"edge\">\n",
       "<title>x3&#45;&gt;x4</title>\n",
       "<path fill=\"none\" stroke=\"black\" d=\"M38.38,-89.88C46.08,-79.51 56.61,-65.71 66.5,-54 69.84,-50.04 73.48,-45.94 77.09,-41.99\"/>\n",
       "<polygon fill=\"black\" stroke=\"black\" points=\"79.5,-44.53 83.74,-34.82 74.37,-39.77 79.5,-44.53\"/>\n",
       "<text text-anchor=\"middle\" x=\"80.75\" y=\"-57.2\" font-family=\"Times New Roman,serif\" font-size=\"14.00\">&#45;1.16</text>\n",
       "</g>\n",
       "</g>\n",
       "</svg>\n"
      ],
      "text/plain": [
       "<graphviz.graphs.Digraph at 0x1ea9fbaae50>"
      ]
     },
     "execution_count": 7,
     "metadata": {},
     "output_type": "execute_result"
    }
   ],
   "source": [
    "make_dot(model.adjacency_matrix_)"
   ]
  },
  {
   "cell_type": "markdown",
   "id": "c7c85720-8054-4f54-8290-e84865c51f37",
   "metadata": {},
   "source": [
    "## Bootstrapping"
   ]
  },
  {
   "cell_type": "markdown",
   "id": "a41cefdf-ef51-4610-8253-69524a91d14f",
   "metadata": {},
   "source": [
    "We call `bootstrap()` method instead of `fit()`. Here, the third argument specifies the number of bootstrap sampling."
   ]
  },
  {
   "cell_type": "code",
   "execution_count": null,
   "id": "bd30cc22-4615-4962-b35b-13c69c9048c3",
   "metadata": {},
   "outputs": [],
   "source": [
    "model = lingam.GroupLiNGAM()\n",
    "result = model.bootstrap(X, 100)"
   ]
  },
  {
   "cell_type": "markdown",
   "id": "c37a4095-ec38-4d67-a6d2-6882b6ac371b",
   "metadata": {},
   "source": [
    "## Causal Directions"
   ]
  },
  {
   "cell_type": "markdown",
   "id": "6248c0dc-6d5a-4e19-9eef-c2feb3cff78d",
   "metadata": {},
   "source": [
    "Since `BootstrapResult` object is returned, we can get the ranking of the causal directions extracted by `get_causal_direction_counts()` method. In the following sample code, `n_directions` option is limited to the causal directions of the top 8 rankings, and `min_causal_effect` option is limited to causal directions with a coefficient of 0.01 or more."
   ]
  },
  {
   "cell_type": "code",
   "execution_count": null,
   "id": "c16a832c-4889-4e34-a600-2eca7026afdb",
   "metadata": {},
   "outputs": [],
   "source": [
    "cdc = result.get_causal_direction_counts(n_directions=8, min_causal_effect=0.01, split_by_causal_effect_sign=True)"
   ]
  },
  {
   "cell_type": "markdown",
   "id": "8a785e49-01c8-42eb-ad05-fb4d0f545dd2",
   "metadata": {},
   "source": [
    "We can check the result by utility function."
   ]
  },
  {
   "cell_type": "code",
   "execution_count": null,
   "id": "fa85168e-2be2-4baf-895d-17e76b5ef17c",
   "metadata": {},
   "outputs": [],
   "source": [
    "print_causal_directions(cdc, 100)"
   ]
  },
  {
   "cell_type": "markdown",
   "id": "bec0ff94-0b1a-40b7-bc41-a984c4bc68c1",
   "metadata": {},
   "source": [
    "## Directed Acyclic Graphs"
   ]
  },
  {
   "cell_type": "markdown",
   "id": "56dba065-c35f-42f4-865d-63110986b7a1",
   "metadata": {},
   "source": [
    "Also, using the `get_directed_acyclic_graph_counts()` method, we can get the ranking of the DAGs extracted. In the following sample code, `n_dags` option is limited to the dags of the top 3 rankings, and `min_causal_effect` option is limited to causal directions with a coefficient of 0.01 or more."
   ]
  },
  {
   "cell_type": "code",
   "execution_count": null,
   "id": "e1bc9101-5d9c-457c-be72-32149ba7c0de",
   "metadata": {},
   "outputs": [],
   "source": [
    "dagc = result.get_directed_acyclic_graph_counts(n_dags=3, min_causal_effect=0.01, split_by_causal_effect_sign=True)"
   ]
  },
  {
   "cell_type": "markdown",
   "id": "9a8cdf00-7b2e-43c2-818f-9a7d0ef8bbc8",
   "metadata": {},
   "source": [
    "We can check the result by utility function."
   ]
  },
  {
   "cell_type": "code",
   "execution_count": null,
   "id": "8ad34855-1b47-48f7-b0e9-943629482421",
   "metadata": {},
   "outputs": [],
   "source": [
    "print_dagc(dagc, 100)"
   ]
  },
  {
   "cell_type": "markdown",
   "id": "41fb87fd-1480-4b9e-949d-a807db1e14e4",
   "metadata": {},
   "source": [
    "## Probability\n",
    "Using the `get_probabilities()` method, we can get the probability of bootstrapping."
   ]
  },
  {
   "cell_type": "code",
   "execution_count": null,
   "id": "2505b066-17a7-4ec8-8c7f-34165b9f0a04",
   "metadata": {},
   "outputs": [],
   "source": [
    "prob = result.get_probabilities(min_causal_effect=0.01)\n",
    "print(prob)"
   ]
  },
  {
   "cell_type": "markdown",
   "id": "84da0b00-0124-4acb-859f-2eb96ca8a14e",
   "metadata": {},
   "source": [
    "## Total Causal Effects\n",
    "Using the `get_total_causal_effects()` method, we can get the list of total causal effect. The total causal effects we can get are dictionary type variable. We can display the list nicely by assigning it to pandas.DataFrame. Also, we have replaced the variable index with a label below."
   ]
  },
  {
   "cell_type": "code",
   "execution_count": null,
   "id": "e3d3c702-2295-4b81-a8c4-df6c03690c37",
   "metadata": {},
   "outputs": [],
   "source": [
    "causal_effects = result.get_total_causal_effects(min_causal_effect=0.01)\n",
    "\n",
    "# Assign to pandas.DataFrame for pretty display\n",
    "df = pd.DataFrame(causal_effects)\n",
    "labels = [f'x{i}' for i in range(X.shape[1])]\n",
    "df['from'] = df['from'].apply(lambda x : labels[x])\n",
    "df['to'] = df['to'].apply(lambda x : labels[x])\n",
    "df"
   ]
  },
  {
   "cell_type": "markdown",
   "id": "32d44e57-a02a-4643-8c3a-7ff399a2d9ef",
   "metadata": {},
   "source": [
    "We can easily perform sorting operations with pandas.DataFrame."
   ]
  },
  {
   "cell_type": "code",
   "execution_count": null,
   "id": "3ebf20ad-62b4-410d-a72b-0903c6e5a63d",
   "metadata": {},
   "outputs": [],
   "source": [
    "df.sort_values('effect', ascending=False).head()"
   ]
  },
  {
   "cell_type": "code",
   "execution_count": null,
   "id": "0de21c49-4ce5-4e26-a769-4acab7f20737",
   "metadata": {},
   "outputs": [],
   "source": [
    "df.sort_values('probability', ascending=True).head()"
   ]
  },
  {
   "cell_type": "markdown",
   "id": "450d6e79-eb5a-4176-8707-5abaad4c5414",
   "metadata": {},
   "source": [
    "Because it holds the raw data of the total causal effect (the original data for calculating the median), it is possible to draw a histogram of the values of the causal effect, as shown below."
   ]
  },
  {
   "cell_type": "code",
   "execution_count": null,
   "id": "6a9d724b-a231-4472-8830-1da099807771",
   "metadata": {},
   "outputs": [],
   "source": [
    "import matplotlib.pyplot as plt\n",
    "import seaborn as sns\n",
    "sns.set()\n",
    "%matplotlib inline\n",
    "\n",
    "from_index = 0 # index of x0\n",
    "to_index = 4 # index of x4\n",
    "plt.hist(result.total_effects_[:, to_index, from_index])"
   ]
  },
  {
   "cell_type": "markdown",
   "id": "9ac06ce8-5f59-46e9-83a7-b270787f4baa",
   "metadata": {},
   "source": [
    "## Bootstrap Probability of Path\n",
    "Using the `get_paths()` method, we can explore all paths from any variable to any variable and calculate the bootstrap probability for each path. The path will be output as an array of variable indices. For example, the array `[3, 0, 1]` shows the path from variable X3 through variable X0 to variable X1."
   ]
  },
  {
   "cell_type": "code",
   "execution_count": null,
   "id": "524bcac3-5c5f-4b2b-bce0-ae4a1d5343a5",
   "metadata": {},
   "outputs": [],
   "source": [
    "from_index = 0 # index of x0\n",
    "to_index = 4 # index of x4\n",
    "\n",
    "pd.DataFrame(result.get_paths(from_index, to_index))"
   ]
  },
  {
   "cell_type": "code",
   "execution_count": null,
   "id": "12ef3098-6320-49a0-bf41-5fd11386f5a5",
   "metadata": {},
   "outputs": [],
   "source": []
  }
 ],
 "metadata": {
  "kernelspec": {
   "display_name": "python311",
   "language": "python",
   "name": "python311"
  },
  "language_info": {
   "codemirror_mode": {
    "name": "ipython",
    "version": 3
   },
   "file_extension": ".py",
   "mimetype": "text/x-python",
   "name": "python",
   "nbconvert_exporter": "python",
   "pygments_lexer": "ipython3",
   "version": "3.11.9"
  }
 },
 "nbformat": 4,
 "nbformat_minor": 5
}
