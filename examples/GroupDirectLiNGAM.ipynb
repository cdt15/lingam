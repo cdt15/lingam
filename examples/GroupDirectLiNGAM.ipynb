{
 "cells": [
  {
   "cell_type": "markdown",
   "id": "bd745fde-2463-4c96-afa6-06b3e11d11f8",
   "metadata": {},
   "source": [
    "# GroupDirectLiNGAM"
   ]
  },
  {
   "cell_type": "markdown",
   "id": "adaaaf9a-7fdc-4083-8bf0-02e3ca4a6976",
   "metadata": {},
   "source": [
    "## Import and settings\n",
    "In this example, we need to import `numpy`, `pandas`, and `graphviz` in addition to `lingam`."
   ]
  },
  {
   "cell_type": "code",
   "execution_count": 1,
   "id": "a84f481d-3c02-4314-80c8-809c063d3d28",
   "metadata": {},
   "outputs": [
    {
     "name": "stdout",
     "output_type": "stream",
     "text": [
      "['1.26.4', '2.2.3', '0.20.3', '1.11.0']\n"
     ]
    }
   ],
   "source": [
    "import numpy as np\n",
    "import pandas as pd\n",
    "import graphviz\n",
    "import lingam\n",
    "from lingam.utils import print_causal_directions, print_dagc, make_prior_knowledge, make_dot\n",
    "\n",
    "import warnings\n",
    "warnings.filterwarnings('ignore')\n",
    "\n",
    "print([np.__version__, pd.__version__, graphviz.__version__, lingam.__version__])\n",
    "\n",
    "np.set_printoptions(precision=3, suppress=True)"
   ]
  },
  {
   "cell_type": "markdown",
   "id": "4dd7c1cc-db1e-4f6b-927a-88dd7fe6b340",
   "metadata": {},
   "source": [
    "## Test data\n",
    "First, we generate a causal structure with 6 variables. Then we create a dataset with 6 variables from x0 to x5.\n",
    "\n",
    "These variables are grouped as follows:\n",
    "- Group 1: x0, x1\n",
    "- Group 2: x2\n",
    "- Group 3: x3, x4\n",
    "- Group 4: x5"
   ]
  },
  {
   "cell_type": "code",
   "execution_count": 2,
   "id": "ff8e96a7-d3fe-4e15-a6aa-4e5fbf2f0391",
   "metadata": {},
   "outputs": [
    {
     "data": {
      "text/html": [
       "<div>\n",
       "<style scoped>\n",
       "    .dataframe tbody tr th:only-of-type {\n",
       "        vertical-align: middle;\n",
       "    }\n",
       "\n",
       "    .dataframe tbody tr th {\n",
       "        vertical-align: top;\n",
       "    }\n",
       "\n",
       "    .dataframe thead th {\n",
       "        text-align: right;\n",
       "    }\n",
       "</style>\n",
       "<table border=\"1\" class=\"dataframe\">\n",
       "  <thead>\n",
       "    <tr style=\"text-align: right;\">\n",
       "      <th></th>\n",
       "      <th>x0</th>\n",
       "      <th>x1</th>\n",
       "      <th>x2</th>\n",
       "      <th>x3</th>\n",
       "      <th>x4</th>\n",
       "      <th>x5</th>\n",
       "    </tr>\n",
       "  </thead>\n",
       "  <tbody>\n",
       "    <tr>\n",
       "      <th>0</th>\n",
       "      <td>0.548814</td>\n",
       "      <td>1.690507</td>\n",
       "      <td>1.468291</td>\n",
       "      <td>1.190806</td>\n",
       "      <td>0.946433</td>\n",
       "      <td>-1.987018</td>\n",
       "    </tr>\n",
       "    <tr>\n",
       "      <th>1</th>\n",
       "      <td>0.715189</td>\n",
       "      <td>1.440442</td>\n",
       "      <td>0.672389</td>\n",
       "      <td>1.421278</td>\n",
       "      <td>2.475880</td>\n",
       "      <td>-3.304962</td>\n",
       "    </tr>\n",
       "    <tr>\n",
       "      <th>2</th>\n",
       "      <td>0.602763</td>\n",
       "      <td>1.681353</td>\n",
       "      <td>0.886988</td>\n",
       "      <td>2.239635</td>\n",
       "      <td>1.245511</td>\n",
       "      <td>-4.554939</td>\n",
       "    </tr>\n",
       "    <tr>\n",
       "      <th>3</th>\n",
       "      <td>0.544883</td>\n",
       "      <td>1.798537</td>\n",
       "      <td>0.400310</td>\n",
       "      <td>2.226009</td>\n",
       "      <td>1.996981</td>\n",
       "      <td>-3.218930</td>\n",
       "    </tr>\n",
       "    <tr>\n",
       "      <th>4</th>\n",
       "      <td>0.423655</td>\n",
       "      <td>0.891285</td>\n",
       "      <td>0.655729</td>\n",
       "      <td>1.992046</td>\n",
       "      <td>0.441985</td>\n",
       "      <td>-3.023044</td>\n",
       "    </tr>\n",
       "  </tbody>\n",
       "</table>\n",
       "</div>"
      ],
      "text/plain": [
       "         x0        x1        x2        x3        x4        x5\n",
       "0  0.548814  1.690507  1.468291  1.190806  0.946433 -1.987018\n",
       "1  0.715189  1.440442  0.672389  1.421278  2.475880 -3.304962\n",
       "2  0.602763  1.681353  0.886988  2.239635  1.245511 -4.554939\n",
       "3  0.544883  1.798537  0.400310  2.226009  1.996981 -3.218930\n",
       "4  0.423655  0.891285  0.655729  1.992046  0.441985 -3.023044"
      ]
     },
     "execution_count": 2,
     "metadata": {},
     "output_type": "execute_result"
    }
   ],
   "source": [
    "np.random.seed(0)\n",
    "\n",
    "n_samples = 1000\n",
    "x0 = np.random.uniform(size=n_samples)\n",
    "x1 = 2.0 * x0 + np.random.uniform(size=n_samples)\n",
    "x2 = 0.5 * x1 + np.random.uniform(-1, 1, size=n_samples)\n",
    "x3 = 0.3 * x1 + 0.7 * x2 + np.random.uniform(-2, 2, size=n_samples)\n",
    "x4 = 1.5 * x0 + 0.8 * x3 + np.random.uniform(-2, 2, size=n_samples)\n",
    "x5 = -0.6 * x3 - 0.5 * x4 + np.random.uniform(-3, 3, size=n_samples)\n",
    "\n",
    "X = pd.DataFrame(np.array([x0, x1, x2, x3, x4, x5]).T ,columns=['x0', 'x1', 'x2', 'x3', 'x4', 'x5'])\n",
    "groups = [[0, 1], [2], [3, 4], [5]]\n",
    "\n",
    "X.head()"
   ]
  },
  {
   "cell_type": "code",
   "execution_count": 3,
   "id": "6e3e5fbe-3ac2-4205-ae97-ca08baebf86b",
   "metadata": {},
   "outputs": [
    {
     "data": {
      "image/svg+xml": [
       "<?xml version=\"1.0\" encoding=\"UTF-8\" standalone=\"no\"?>\n",
       "<!DOCTYPE svg PUBLIC \"-//W3C//DTD SVG 1.1//EN\"\n",
       " \"http://www.w3.org/Graphics/SVG/1.1/DTD/svg11.dtd\">\n",
       "<!-- Generated by graphviz version 12.2.1 (20241206.2353)\n",
       " -->\n",
       "<!-- Pages: 1 -->\n",
       "<svg width=\"162pt\" height=\"487pt\"\n",
       " viewBox=\"0.00 0.00 162.05 486.50\" xmlns=\"http://www.w3.org/2000/svg\" xmlns:xlink=\"http://www.w3.org/1999/xlink\">\n",
       "<g id=\"graph0\" class=\"graph\" transform=\"scale(1 1) rotate(0) translate(4 482.5)\">\n",
       "<polygon fill=\"white\" stroke=\"none\" points=\"-4,4 -4,-482.5 158.05,-482.5 158.05,4 -4,4\"/>\n",
       "<!-- x0 -->\n",
       "<g id=\"node1\" class=\"node\">\n",
       "<title>x0</title>\n",
       "<ellipse fill=\"none\" stroke=\"black\" cx=\"95.05\" cy=\"-460.5\" rx=\"27\" ry=\"18\"/>\n",
       "<text text-anchor=\"middle\" x=\"95.05\" y=\"-455.45\" font-family=\"Times New Roman,serif\" font-size=\"14.00\">x0</text>\n",
       "</g>\n",
       "<!-- x1 -->\n",
       "<g id=\"node2\" class=\"node\">\n",
       "<title>x1</title>\n",
       "<ellipse fill=\"none\" stroke=\"black\" cx=\"64.05\" cy=\"-372\" rx=\"27\" ry=\"18\"/>\n",
       "<text text-anchor=\"middle\" x=\"64.05\" y=\"-366.95\" font-family=\"Times New Roman,serif\" font-size=\"14.00\">x1</text>\n",
       "</g>\n",
       "<!-- x0&#45;&gt;x1 -->\n",
       "<g id=\"edge1\" class=\"edge\">\n",
       "<title>x0&#45;&gt;x1</title>\n",
       "<path fill=\"none\" stroke=\"black\" d=\"M89.07,-442.82C84.77,-430.81 78.87,-414.34 73.88,-400.41\"/>\n",
       "<polygon fill=\"black\" stroke=\"black\" points=\"77.3,-399.58 70.63,-391.35 70.71,-401.94 77.3,-399.58\"/>\n",
       "<text text-anchor=\"middle\" x=\"94.33\" y=\"-411.2\" font-family=\"Times New Roman,serif\" font-size=\"14.00\">2.00</text>\n",
       "</g>\n",
       "<!-- x4 -->\n",
       "<g id=\"node5\" class=\"node\">\n",
       "<title>x4</title>\n",
       "<ellipse fill=\"none\" stroke=\"black\" cx=\"127.05\" cy=\"-106.5\" rx=\"27\" ry=\"18\"/>\n",
       "<text text-anchor=\"middle\" x=\"127.05\" y=\"-101.45\" font-family=\"Times New Roman,serif\" font-size=\"14.00\">x4</text>\n",
       "</g>\n",
       "<!-- x0&#45;&gt;x4 -->\n",
       "<g id=\"edge5\" class=\"edge\">\n",
       "<title>x0&#45;&gt;x4</title>\n",
       "<path fill=\"none\" stroke=\"black\" d=\"M105,-443.26C114.39,-426.35 127.05,-398.78 127.05,-373 127.05,-373 127.05,-373 127.05,-194 127.05,-174.67 127.05,-152.9 127.05,-136.04\"/>\n",
       "<polygon fill=\"black\" stroke=\"black\" points=\"130.55,-136.25 127.05,-126.25 123.55,-136.25 130.55,-136.25\"/>\n",
       "<text text-anchor=\"middle\" x=\"139.05\" y=\"-278.45\" font-family=\"Times New Roman,serif\" font-size=\"14.00\">1.50</text>\n",
       "</g>\n",
       "<!-- x2 -->\n",
       "<g id=\"node3\" class=\"node\">\n",
       "<title>x2</title>\n",
       "<ellipse fill=\"none\" stroke=\"black\" cx=\"64.05\" cy=\"-283.5\" rx=\"27\" ry=\"18\"/>\n",
       "<text text-anchor=\"middle\" x=\"64.05\" y=\"-278.45\" font-family=\"Times New Roman,serif\" font-size=\"14.00\">x2</text>\n",
       "</g>\n",
       "<!-- x1&#45;&gt;x2 -->\n",
       "<g id=\"edge2\" class=\"edge\">\n",
       "<title>x1&#45;&gt;x2</title>\n",
       "<path fill=\"none\" stroke=\"black\" d=\"M64.05,-353.91C64.05,-342.26 64.05,-326.55 64.05,-313.02\"/>\n",
       "<polygon fill=\"black\" stroke=\"black\" points=\"67.55,-313.36 64.05,-303.36 60.55,-313.36 67.55,-313.36\"/>\n",
       "<text text-anchor=\"middle\" x=\"76.05\" y=\"-322.7\" font-family=\"Times New Roman,serif\" font-size=\"14.00\">0.50</text>\n",
       "</g>\n",
       "<!-- x3 -->\n",
       "<g id=\"node4\" class=\"node\">\n",
       "<title>x3</title>\n",
       "<ellipse fill=\"none\" stroke=\"black\" cx=\"56.05\" cy=\"-195\" rx=\"27\" ry=\"18\"/>\n",
       "<text text-anchor=\"middle\" x=\"56.05\" y=\"-189.95\" font-family=\"Times New Roman,serif\" font-size=\"14.00\">x3</text>\n",
       "</g>\n",
       "<!-- x1&#45;&gt;x3 -->\n",
       "<g id=\"edge3\" class=\"edge\">\n",
       "<title>x1&#45;&gt;x3</title>\n",
       "<path fill=\"none\" stroke=\"black\" d=\"M47.14,-357.65C32.58,-344.99 12.61,-324.51 4.05,-301.5 -1.53,-286.5 -1,-280.68 4.05,-265.5 9.87,-248.01 22,-231.37 33.08,-218.76\"/>\n",
       "<polygon fill=\"black\" stroke=\"black\" points=\"35.62,-221.16 39.83,-211.44 30.48,-216.42 35.62,-221.16\"/>\n",
       "<text text-anchor=\"middle\" x=\"16.05\" y=\"-278.45\" font-family=\"Times New Roman,serif\" font-size=\"14.00\">0.30</text>\n",
       "</g>\n",
       "<!-- x2&#45;&gt;x3 -->\n",
       "<g id=\"edge4\" class=\"edge\">\n",
       "<title>x2&#45;&gt;x3</title>\n",
       "<path fill=\"none\" stroke=\"black\" d=\"M62.47,-265.41C61.39,-253.76 59.94,-238.05 58.69,-224.52\"/>\n",
       "<polygon fill=\"black\" stroke=\"black\" points=\"62.2,-224.49 57.8,-214.86 55.23,-225.14 62.2,-224.49\"/>\n",
       "<text text-anchor=\"middle\" x=\"72.77\" y=\"-234.2\" font-family=\"Times New Roman,serif\" font-size=\"14.00\">0.70</text>\n",
       "</g>\n",
       "<!-- x3&#45;&gt;x4 -->\n",
       "<g id=\"edge6\" class=\"edge\">\n",
       "<title>x3&#45;&gt;x4</title>\n",
       "<path fill=\"none\" stroke=\"black\" d=\"M64.89,-177.95C71.03,-167.41 79.77,-153.56 89.05,-142.5 93.09,-137.69 97.76,-132.89 102.41,-128.46\"/>\n",
       "<polygon fill=\"black\" stroke=\"black\" points=\"104.49,-131.31 109.52,-121.98 99.77,-126.13 104.49,-131.31\"/>\n",
       "<text text-anchor=\"middle\" x=\"101.05\" y=\"-145.7\" font-family=\"Times New Roman,serif\" font-size=\"14.00\">0.80</text>\n",
       "</g>\n",
       "<!-- x5 -->\n",
       "<g id=\"node6\" class=\"node\">\n",
       "<title>x5</title>\n",
       "<ellipse fill=\"none\" stroke=\"black\" cx=\"69.05\" cy=\"-18\" rx=\"27\" ry=\"18\"/>\n",
       "<text text-anchor=\"middle\" x=\"69.05\" y=\"-12.95\" font-family=\"Times New Roman,serif\" font-size=\"14.00\">x5</text>\n",
       "</g>\n",
       "<!-- x3&#45;&gt;x5 -->\n",
       "<g id=\"edge7\" class=\"edge\">\n",
       "<title>x3&#45;&gt;x5</title>\n",
       "<path fill=\"none\" stroke=\"black\" d=\"M56.94,-176.81C58.06,-155.92 60.14,-119.6 62.55,-88.5 63.6,-75.04 64.96,-60.13 66.17,-47.59\"/>\n",
       "<polygon fill=\"black\" stroke=\"black\" points=\"69.63,-48.21 67.12,-37.92 62.66,-47.53 69.63,-48.21\"/>\n",
       "<text text-anchor=\"middle\" x=\"76.8\" y=\"-101.45\" font-family=\"Times New Roman,serif\" font-size=\"14.00\">&#45;0.60</text>\n",
       "</g>\n",
       "<!-- x4&#45;&gt;x5 -->\n",
       "<g id=\"edge8\" class=\"edge\">\n",
       "<title>x4&#45;&gt;x5</title>\n",
       "<path fill=\"none\" stroke=\"black\" d=\"M116.41,-89.63C107.91,-76.95 95.83,-58.94 86,-44.27\"/>\n",
       "<polygon fill=\"black\" stroke=\"black\" points=\"88.94,-42.38 80.47,-36.02 83.13,-46.28 88.94,-42.38\"/>\n",
       "<text text-anchor=\"middle\" x=\"117.5\" y=\"-57.2\" font-family=\"Times New Roman,serif\" font-size=\"14.00\">&#45;0.50</text>\n",
       "</g>\n",
       "</g>\n",
       "</svg>\n"
      ],
      "text/plain": [
       "<graphviz.graphs.Digraph at 0x1d17f59b0d0>"
      ]
     },
     "execution_count": 3,
     "metadata": {},
     "output_type": "execute_result"
    }
   ],
   "source": [
    "m = np.array([\n",
    "    [  0,   0,   0,   0,   0, 0],\n",
    "    [2.0,   0,   0,   0,   0, 0],\n",
    "    [  0, 0.5,   0,   0,   0, 0],\n",
    "    [  0, 0.3, 0.7,   0,   0, 0],\n",
    "    [1.5,   0,   0, 0.8,   0, 0],\n",
    "    [  0,   0,   0,-0.6,-0.5, 0]])\n",
    "\n",
    "dot = make_dot(m, labels=['x0', 'x1', 'x2', 'x3', 'x4', 'x5'])\n",
    "\n",
    "# Save pdf\n",
    "dot.render('dag')\n",
    "\n",
    "# Save png\n",
    "dot.format = 'png'\n",
    "dot.render('dag')\n",
    "\n",
    "dot"
   ]
  },
  {
   "cell_type": "markdown",
   "id": "7b4651c6-cbe1-45f8-8e23-c4975f1f7bf6",
   "metadata": {},
   "source": [
    "## Causal Discovery\n",
    "To run causal discovery, we create a `GroupDirectLiNGAM` object and call the `fit` method."
   ]
  },
  {
   "cell_type": "code",
   "execution_count": 4,
   "id": "deefd6c1-cfc2-41c7-bf65-17e8d8604659",
   "metadata": {},
   "outputs": [
    {
     "data": {
      "text/plain": [
       "<lingam.group_direct_lingam.GroupDirectLiNGAM at 0x1d17f5af890>"
      ]
     },
     "execution_count": 4,
     "metadata": {},
     "output_type": "execute_result"
    }
   ],
   "source": [
    "model = lingam.GroupDirectLiNGAM()\n",
    "model.fit(X, groups)"
   ]
  },
  {
   "cell_type": "markdown",
   "id": "805a74ef-e3bc-436c-b92f-ce59cc0180e2",
   "metadata": {},
   "source": [
    "Using the `causal_order_` properties, we can see the causal order of the groups as a result of the causal discovery."
   ]
  },
  {
   "cell_type": "code",
   "execution_count": 5,
   "id": "3db0cbe3-1165-487e-a82f-96038f5737d8",
   "metadata": {},
   "outputs": [
    {
     "data": {
      "text/plain": [
       "[0, 1, 2, 3]"
      ]
     },
     "execution_count": 5,
     "metadata": {},
     "output_type": "execute_result"
    }
   ],
   "source": [
    "model.causal_order_"
   ]
  },
  {
   "cell_type": "markdown",
   "id": "a5ee37dc-3b0f-4d6b-9a68-1e0bbbe1ac38",
   "metadata": {},
   "source": [
    "The causal order of the variables is as follows:"
   ]
  },
  {
   "cell_type": "code",
   "execution_count": 7,
   "id": "9d213298-5564-41cb-8f31-635808c4ac0b",
   "metadata": {},
   "outputs": [
    {
     "data": {
      "text/plain": [
       "[[0, 1], [2], [3, 4], [5]]"
      ]
     },
     "execution_count": 7,
     "metadata": {},
     "output_type": "execute_result"
    }
   ],
   "source": [
    "[groups[group_idx] for group_idx in model.causal_order_]"
   ]
  },
  {
   "cell_type": "markdown",
   "id": "0a684cee-5052-41d3-99ab-eda17307265a",
   "metadata": {},
   "source": [
    "Also, using the `adjacency_matrix_` properties, we can see the adjacency matrix as a result of the causal discovery."
   ]
  },
  {
   "cell_type": "code",
   "execution_count": 8,
   "id": "4e912d77-f952-459c-9355-597485aa4d3a",
   "metadata": {},
   "outputs": [
    {
     "data": {
      "text/plain": [
       "array([[ 0.   ,  0.   ,  0.   ,  0.   ,  0.   ,  0.   ],\n",
       "       [ 0.   ,  0.   ,  0.   ,  0.   ,  0.   ,  0.   ],\n",
       "       [ 0.   ,  0.482,  0.   ,  0.   ,  0.   ,  0.   ],\n",
       "       [ 0.   ,  0.194,  0.792,  0.   ,  0.   ,  0.   ],\n",
       "       [ 1.882,  0.   ,  0.572,  0.   ,  0.   ,  0.   ],\n",
       "       [ 0.   ,  0.   ,  0.   , -0.622, -0.487,  0.   ]])"
      ]
     },
     "execution_count": 8,
     "metadata": {},
     "output_type": "execute_result"
    }
   ],
   "source": [
    "model.adjacency_matrix_"
   ]
  },
  {
   "cell_type": "code",
   "execution_count": 9,
   "id": "afe9ac23-a4fc-4dc4-8278-5578e33bf25a",
   "metadata": {},
   "outputs": [
    {
     "data": {
      "image/svg+xml": [
       "<?xml version=\"1.0\" encoding=\"UTF-8\" standalone=\"no\"?>\n",
       "<!DOCTYPE svg PUBLIC \"-//W3C//DTD SVG 1.1//EN\"\n",
       " \"http://www.w3.org/Graphics/SVG/1.1/DTD/svg11.dtd\">\n",
       "<!-- Generated by graphviz version 12.2.1 (20241206.2353)\n",
       " -->\n",
       "<!-- Pages: 1 -->\n",
       "<svg width=\"186pt\" height=\"310pt\"\n",
       " viewBox=\"0.00 0.00 185.73 309.50\" xmlns=\"http://www.w3.org/2000/svg\" xmlns:xlink=\"http://www.w3.org/1999/xlink\">\n",
       "<g id=\"graph0\" class=\"graph\" transform=\"scale(1 1) rotate(0) translate(4 305.5)\">\n",
       "<polygon fill=\"white\" stroke=\"none\" points=\"-4,4 -4,-305.5 181.73,-305.5 181.73,4 -4,4\"/>\n",
       "<!-- x0 -->\n",
       "<g id=\"node1\" class=\"node\">\n",
       "<title>x0</title>\n",
       "<ellipse fill=\"none\" stroke=\"black\" cx=\"27\" cy=\"-195\" rx=\"27\" ry=\"18\"/>\n",
       "<text text-anchor=\"middle\" x=\"27\" y=\"-189.95\" font-family=\"Times New Roman,serif\" font-size=\"14.00\">x0</text>\n",
       "</g>\n",
       "<!-- x4 -->\n",
       "<g id=\"node5\" class=\"node\">\n",
       "<title>x4</title>\n",
       "<ellipse fill=\"none\" stroke=\"black\" cx=\"62\" cy=\"-106.5\" rx=\"27\" ry=\"18\"/>\n",
       "<text text-anchor=\"middle\" x=\"62\" y=\"-101.45\" font-family=\"Times New Roman,serif\" font-size=\"14.00\">x4</text>\n",
       "</g>\n",
       "<!-- x0&#45;&gt;x4 -->\n",
       "<g id=\"edge4\" class=\"edge\">\n",
       "<title>x0&#45;&gt;x4</title>\n",
       "<path fill=\"none\" stroke=\"black\" d=\"M24.7,-176.65C24.05,-166.34 24.5,-153.23 29,-142.5 31.02,-137.69 34.01,-133.15 37.39,-129.02\"/>\n",
       "<polygon fill=\"black\" stroke=\"black\" points=\"39.85,-131.52 44.13,-121.83 34.74,-126.74 39.85,-131.52\"/>\n",
       "<text text-anchor=\"middle\" x=\"41\" y=\"-145.7\" font-family=\"Times New Roman,serif\" font-size=\"14.00\">1.88</text>\n",
       "</g>\n",
       "<!-- x1 -->\n",
       "<g id=\"node2\" class=\"node\">\n",
       "<title>x1</title>\n",
       "<ellipse fill=\"none\" stroke=\"black\" cx=\"130\" cy=\"-283.5\" rx=\"27\" ry=\"18\"/>\n",
       "<text text-anchor=\"middle\" x=\"130\" y=\"-278.45\" font-family=\"Times New Roman,serif\" font-size=\"14.00\">x1</text>\n",
       "</g>\n",
       "<!-- x2 -->\n",
       "<g id=\"node3\" class=\"node\">\n",
       "<title>x2</title>\n",
       "<ellipse fill=\"none\" stroke=\"black\" cx=\"99\" cy=\"-195\" rx=\"27\" ry=\"18\"/>\n",
       "<text text-anchor=\"middle\" x=\"99\" y=\"-189.95\" font-family=\"Times New Roman,serif\" font-size=\"14.00\">x2</text>\n",
       "</g>\n",
       "<!-- x1&#45;&gt;x2 -->\n",
       "<g id=\"edge1\" class=\"edge\">\n",
       "<title>x1&#45;&gt;x2</title>\n",
       "<path fill=\"none\" stroke=\"black\" d=\"M124.02,-265.82C119.72,-253.81 113.82,-237.34 108.82,-223.41\"/>\n",
       "<polygon fill=\"black\" stroke=\"black\" points=\"112.24,-222.58 105.58,-214.35 105.65,-224.94 112.24,-222.58\"/>\n",
       "<text text-anchor=\"middle\" x=\"129.28\" y=\"-234.2\" font-family=\"Times New Roman,serif\" font-size=\"14.00\">0.48</text>\n",
       "</g>\n",
       "<!-- x3 -->\n",
       "<g id=\"node4\" class=\"node\">\n",
       "<title>x3</title>\n",
       "<ellipse fill=\"none\" stroke=\"black\" cx=\"134\" cy=\"-106.5\" rx=\"27\" ry=\"18\"/>\n",
       "<text text-anchor=\"middle\" x=\"134\" y=\"-101.45\" font-family=\"Times New Roman,serif\" font-size=\"14.00\">x3</text>\n",
       "</g>\n",
       "<!-- x1&#45;&gt;x3 -->\n",
       "<g id=\"edge2\" class=\"edge\">\n",
       "<title>x1&#45;&gt;x3</title>\n",
       "<path fill=\"none\" stroke=\"black\" d=\"M138.48,-266.19C141.06,-260.43 143.59,-253.82 145,-247.5 155.16,-201.93 156.83,-188.34 148,-142.5 147.49,-139.84 146.78,-137.13 145.94,-134.45\"/>\n",
       "<polygon fill=\"black\" stroke=\"black\" points=\"149.3,-133.43 142.55,-125.26 142.73,-135.86 149.3,-133.43\"/>\n",
       "<text text-anchor=\"middle\" x=\"165.73\" y=\"-189.95\" font-family=\"Times New Roman,serif\" font-size=\"14.00\">0.19</text>\n",
       "</g>\n",
       "<!-- x2&#45;&gt;x3 -->\n",
       "<g id=\"edge3\" class=\"edge\">\n",
       "<title>x2&#45;&gt;x3</title>\n",
       "<path fill=\"none\" stroke=\"black\" d=\"M105.75,-177.32C110.64,-165.24 117.36,-148.63 123.02,-134.64\"/>\n",
       "<polygon fill=\"black\" stroke=\"black\" points=\"126.2,-136.11 126.7,-125.53 119.71,-133.49 126.2,-136.11\"/>\n",
       "<text text-anchor=\"middle\" x=\"131.63\" y=\"-145.7\" font-family=\"Times New Roman,serif\" font-size=\"14.00\">0.79</text>\n",
       "</g>\n",
       "<!-- x2&#45;&gt;x4 -->\n",
       "<g id=\"edge5\" class=\"edge\">\n",
       "<title>x2&#45;&gt;x4</title>\n",
       "<path fill=\"none\" stroke=\"black\" d=\"M91.87,-177.32C86.7,-165.24 79.59,-148.63 73.61,-134.64\"/>\n",
       "<polygon fill=\"black\" stroke=\"black\" points=\"76.86,-133.34 69.71,-125.52 70.42,-136.09 76.86,-133.34\"/>\n",
       "<text text-anchor=\"middle\" x=\"95.81\" y=\"-145.7\" font-family=\"Times New Roman,serif\" font-size=\"14.00\">0.57</text>\n",
       "</g>\n",
       "<!-- x5 -->\n",
       "<g id=\"node6\" class=\"node\">\n",
       "<title>x5</title>\n",
       "<ellipse fill=\"none\" stroke=\"black\" cx=\"98\" cy=\"-18\" rx=\"27\" ry=\"18\"/>\n",
       "<text text-anchor=\"middle\" x=\"98\" y=\"-12.95\" font-family=\"Times New Roman,serif\" font-size=\"14.00\">x5</text>\n",
       "</g>\n",
       "<!-- x3&#45;&gt;x5 -->\n",
       "<g id=\"edge6\" class=\"edge\">\n",
       "<title>x3&#45;&gt;x5</title>\n",
       "<path fill=\"none\" stroke=\"black\" d=\"M127.06,-88.82C122.03,-76.74 115.12,-60.13 109.3,-46.14\"/>\n",
       "<polygon fill=\"black\" stroke=\"black\" points=\"112.58,-44.91 105.5,-37.02 106.11,-47.6 112.58,-44.91\"/>\n",
       "<text text-anchor=\"middle\" x=\"133.47\" y=\"-57.2\" font-family=\"Times New Roman,serif\" font-size=\"14.00\">&#45;0.62</text>\n",
       "</g>\n",
       "<!-- x4&#45;&gt;x5 -->\n",
       "<g id=\"edge7\" class=\"edge\">\n",
       "<title>x4&#45;&gt;x5</title>\n",
       "<path fill=\"none\" stroke=\"black\" d=\"M67.5,-88.61C70.95,-78.46 75.64,-65.35 80.5,-54 81.71,-51.17 83.04,-48.24 84.41,-45.35\"/>\n",
       "<polygon fill=\"black\" stroke=\"black\" points=\"87.46,-47.07 88.73,-36.55 81.18,-43.98 87.46,-47.07\"/>\n",
       "<text text-anchor=\"middle\" x=\"94.75\" y=\"-57.2\" font-family=\"Times New Roman,serif\" font-size=\"14.00\">&#45;0.49</text>\n",
       "</g>\n",
       "</g>\n",
       "</svg>\n"
      ],
      "text/plain": [
       "<graphviz.graphs.Digraph at 0x1d17f12f150>"
      ]
     },
     "execution_count": 9,
     "metadata": {},
     "output_type": "execute_result"
    }
   ],
   "source": [
    "make_dot(model.adjacency_matrix_)"
   ]
  },
  {
   "cell_type": "markdown",
   "id": "dfd05985-5325-493e-9a2d-04861fb7148d",
   "metadata": {},
   "source": [
    "## Bootstrapping"
   ]
  },
  {
   "cell_type": "markdown",
   "id": "307c0795-72b0-4658-9fc8-2994adada6a1",
   "metadata": {},
   "source": [
    "We call `bootstrap()` method instead of `fit()`. Here, the third argument specifies the number of bootstrap sampling."
   ]
  },
  {
   "cell_type": "code",
   "execution_count": 10,
   "id": "7d4338b3-e95f-47fb-aeff-8144b69c3434",
   "metadata": {},
   "outputs": [],
   "source": [
    "model = lingam.GroupDirectLiNGAM()\n",
    "result = model.bootstrap(X, groups, 100)"
   ]
  },
  {
   "cell_type": "markdown",
   "id": "1fdd2883-2358-442b-9a33-bc6f64254833",
   "metadata": {},
   "source": [
    "## Causal Directions"
   ]
  },
  {
   "cell_type": "markdown",
   "id": "0b478357-2c03-4e82-92a0-21d6c9efb9f4",
   "metadata": {},
   "source": [
    "Since `BootstrapResult` object is returned, we can get the ranking of the causal directions extracted by `get_causal_direction_counts()` method. In the following sample code, `n_directions` option is limited to the causal directions of the top 8 rankings, and `min_causal_effect` option is limited to causal directions with a coefficient of 0.01 or more."
   ]
  },
  {
   "cell_type": "code",
   "execution_count": 11,
   "id": "17b6b857-59ac-4fe9-a89a-7afff0f60832",
   "metadata": {},
   "outputs": [],
   "source": [
    "cdc = result.get_causal_direction_counts(n_directions=8, min_causal_effect=0.01, split_by_causal_effect_sign=True)"
   ]
  },
  {
   "cell_type": "markdown",
   "id": "ca1a5dd9-f91f-4b76-b644-a8413d8d1277",
   "metadata": {},
   "source": [
    "We can check the result by utility function."
   ]
  },
  {
   "cell_type": "code",
   "execution_count": 12,
   "id": "238a36d5-d68b-462c-8e5c-b5ce4d738372",
   "metadata": {},
   "outputs": [
    {
     "name": "stdout",
     "output_type": "stream",
     "text": [
      "x2 <--- x1 (b>0) (100.0%)\n",
      "x3 <--- x2 (b>0) (100.0%)\n",
      "x4 <--- x2 (b>0) (100.0%)\n",
      "x5 <--- x3 (b<0) (100.0%)\n",
      "x5 <--- x4 (b<0) (100.0%)\n",
      "x4 <--- x0 (b>0) (99.0%)\n",
      "x3 <--- x1 (b>0) (49.0%)\n",
      "x3 <--- x0 (b>0) (23.0%)\n"
     ]
    }
   ],
   "source": [
    "print_causal_directions(cdc, 100)"
   ]
  },
  {
   "cell_type": "markdown",
   "id": "0e61dc55-3f76-4aba-be35-7ddef72cab97",
   "metadata": {},
   "source": [
    "## Directed Acyclic Graphs"
   ]
  },
  {
   "cell_type": "markdown",
   "id": "3799eb28-c472-419d-a2db-23c74bd31ec2",
   "metadata": {},
   "source": [
    "Also, using the `get_directed_acyclic_graph_counts()` method, we can get the ranking of the DAGs extracted. In the following sample code, `n_dags` option is limited to the dags of the top 3 rankings, and `min_causal_effect` option is limited to causal directions with a coefficient of 0.01 or more."
   ]
  },
  {
   "cell_type": "code",
   "execution_count": 13,
   "id": "d97aeacf-ad79-4540-8713-cac26239e69e",
   "metadata": {},
   "outputs": [],
   "source": [
    "dagc = result.get_directed_acyclic_graph_counts(n_dags=3, min_causal_effect=0.01, split_by_causal_effect_sign=True)"
   ]
  },
  {
   "cell_type": "markdown",
   "id": "f8134cfd-5e70-4e24-8113-792f40061da1",
   "metadata": {},
   "source": [
    "We can check the result by utility function."
   ]
  },
  {
   "cell_type": "code",
   "execution_count": 14,
   "id": "74977937-a6a1-4a0d-9b76-e1ac3ccb0e08",
   "metadata": {},
   "outputs": [
    {
     "name": "stdout",
     "output_type": "stream",
     "text": [
      "DAG[0]: 35.0%\n",
      "\tx2 <--- x1 (b>0)\n",
      "\tx3 <--- x1 (b>0)\n",
      "\tx3 <--- x2 (b>0)\n",
      "\tx4 <--- x0 (b>0)\n",
      "\tx4 <--- x2 (b>0)\n",
      "\tx5 <--- x3 (b<0)\n",
      "\tx5 <--- x4 (b<0)\n",
      "DAG[1]: 27.0%\n",
      "\tx2 <--- x1 (b>0)\n",
      "\tx3 <--- x2 (b>0)\n",
      "\tx4 <--- x0 (b>0)\n",
      "\tx4 <--- x2 (b>0)\n",
      "\tx5 <--- x3 (b<0)\n",
      "\tx5 <--- x4 (b<0)\n",
      "DAG[2]: 19.0%\n",
      "\tx2 <--- x1 (b>0)\n",
      "\tx3 <--- x0 (b>0)\n",
      "\tx3 <--- x2 (b>0)\n",
      "\tx4 <--- x0 (b>0)\n",
      "\tx4 <--- x2 (b>0)\n",
      "\tx5 <--- x3 (b<0)\n",
      "\tx5 <--- x4 (b<0)\n"
     ]
    }
   ],
   "source": [
    "print_dagc(dagc, 100)"
   ]
  },
  {
   "cell_type": "markdown",
   "id": "d37fe0f1-99fe-4db3-a6b8-f8b922b14312",
   "metadata": {},
   "source": [
    "## Probability\n",
    "Using the `get_probabilities()` method, we can get the probability of bootstrapping."
   ]
  },
  {
   "cell_type": "code",
   "execution_count": 15,
   "id": "c37421db-dd16-4a3e-9af8-ff51a801bb85",
   "metadata": {},
   "outputs": [
    {
     "name": "stdout",
     "output_type": "stream",
     "text": [
      "[[0.   0.   0.   0.   0.   0.  ]\n",
      " [0.   0.   0.   0.   0.   0.  ]\n",
      " [0.08 1.   0.   0.   0.   0.  ]\n",
      " [0.23 0.49 1.   0.   0.   0.  ]\n",
      " [0.99 0.07 1.   0.   0.   0.  ]\n",
      " [0.01 0.03 0.   1.   1.   0.  ]]\n"
     ]
    }
   ],
   "source": [
    "prob = result.get_probabilities(min_causal_effect=0.01)\n",
    "print(prob)"
   ]
  },
  {
   "cell_type": "markdown",
   "id": "1341ce74-4422-4b9f-923d-8f744660cbbd",
   "metadata": {},
   "source": [
    "## Total Causal Effects\n",
    "Using the `get_total_causal_effects()` method, we can get the list of total causal effect. The total causal effects we can get are dictionary type variable. We can display the list nicely by assigning it to pandas.DataFrame. Also, we have replaced the variable index with a label below."
   ]
  },
  {
   "cell_type": "code",
   "execution_count": 16,
   "id": "cfa57717-2b38-463f-8fd7-95d0868fa6f8",
   "metadata": {},
   "outputs": [
    {
     "data": {
      "text/html": [
       "<div>\n",
       "<style scoped>\n",
       "    .dataframe tbody tr th:only-of-type {\n",
       "        vertical-align: middle;\n",
       "    }\n",
       "\n",
       "    .dataframe tbody tr th {\n",
       "        vertical-align: top;\n",
       "    }\n",
       "\n",
       "    .dataframe thead th {\n",
       "        text-align: right;\n",
       "    }\n",
       "</style>\n",
       "<table border=\"1\" class=\"dataframe\">\n",
       "  <thead>\n",
       "    <tr style=\"text-align: right;\">\n",
       "      <th></th>\n",
       "      <th>from</th>\n",
       "      <th>to</th>\n",
       "      <th>effect</th>\n",
       "      <th>probability</th>\n",
       "    </tr>\n",
       "  </thead>\n",
       "  <tbody>\n",
       "    <tr>\n",
       "      <th>0</th>\n",
       "      <td>x1</td>\n",
       "      <td>x2</td>\n",
       "      <td>0.483013</td>\n",
       "      <td>1.00</td>\n",
       "    </tr>\n",
       "    <tr>\n",
       "      <th>1</th>\n",
       "      <td>x1</td>\n",
       "      <td>x3</td>\n",
       "      <td>0.504680</td>\n",
       "      <td>1.00</td>\n",
       "    </tr>\n",
       "    <tr>\n",
       "      <th>2</th>\n",
       "      <td>x2</td>\n",
       "      <td>x3</td>\n",
       "      <td>0.813637</td>\n",
       "      <td>1.00</td>\n",
       "    </tr>\n",
       "    <tr>\n",
       "      <th>3</th>\n",
       "      <td>x1</td>\n",
       "      <td>x4</td>\n",
       "      <td>0.278019</td>\n",
       "      <td>1.00</td>\n",
       "    </tr>\n",
       "    <tr>\n",
       "      <th>4</th>\n",
       "      <td>x2</td>\n",
       "      <td>x4</td>\n",
       "      <td>0.555515</td>\n",
       "      <td>1.00</td>\n",
       "    </tr>\n",
       "    <tr>\n",
       "      <th>5</th>\n",
       "      <td>x1</td>\n",
       "      <td>x5</td>\n",
       "      <td>-0.456973</td>\n",
       "      <td>1.00</td>\n",
       "    </tr>\n",
       "    <tr>\n",
       "      <th>6</th>\n",
       "      <td>x2</td>\n",
       "      <td>x5</td>\n",
       "      <td>-0.786690</td>\n",
       "      <td>1.00</td>\n",
       "    </tr>\n",
       "    <tr>\n",
       "      <th>7</th>\n",
       "      <td>x3</td>\n",
       "      <td>x5</td>\n",
       "      <td>-0.629688</td>\n",
       "      <td>1.00</td>\n",
       "    </tr>\n",
       "    <tr>\n",
       "      <th>8</th>\n",
       "      <td>x4</td>\n",
       "      <td>x5</td>\n",
       "      <td>-0.480164</td>\n",
       "      <td>1.00</td>\n",
       "    </tr>\n",
       "    <tr>\n",
       "      <th>9</th>\n",
       "      <td>x0</td>\n",
       "      <td>x4</td>\n",
       "      <td>1.855977</td>\n",
       "      <td>0.99</td>\n",
       "    </tr>\n",
       "    <tr>\n",
       "      <th>10</th>\n",
       "      <td>x0</td>\n",
       "      <td>x5</td>\n",
       "      <td>-0.913577</td>\n",
       "      <td>0.99</td>\n",
       "    </tr>\n",
       "    <tr>\n",
       "      <th>11</th>\n",
       "      <td>x0</td>\n",
       "      <td>x3</td>\n",
       "      <td>0.385821</td>\n",
       "      <td>0.29</td>\n",
       "    </tr>\n",
       "    <tr>\n",
       "      <th>12</th>\n",
       "      <td>x0</td>\n",
       "      <td>x2</td>\n",
       "      <td>-0.395791</td>\n",
       "      <td>0.08</td>\n",
       "    </tr>\n",
       "  </tbody>\n",
       "</table>\n",
       "</div>"
      ],
      "text/plain": [
       "   from  to    effect  probability\n",
       "0    x1  x2  0.483013         1.00\n",
       "1    x1  x3  0.504680         1.00\n",
       "2    x2  x3  0.813637         1.00\n",
       "3    x1  x4  0.278019         1.00\n",
       "4    x2  x4  0.555515         1.00\n",
       "5    x1  x5 -0.456973         1.00\n",
       "6    x2  x5 -0.786690         1.00\n",
       "7    x3  x5 -0.629688         1.00\n",
       "8    x4  x5 -0.480164         1.00\n",
       "9    x0  x4  1.855977         0.99\n",
       "10   x0  x5 -0.913577         0.99\n",
       "11   x0  x3  0.385821         0.29\n",
       "12   x0  x2 -0.395791         0.08"
      ]
     },
     "execution_count": 16,
     "metadata": {},
     "output_type": "execute_result"
    }
   ],
   "source": [
    "causal_effects = result.get_total_causal_effects(min_causal_effect=0.01)\n",
    "\n",
    "# Assign to pandas.DataFrame for pretty display\n",
    "df = pd.DataFrame(causal_effects)\n",
    "labels = [f'x{i}' for i in range(X.shape[1])]\n",
    "df['from'] = df['from'].apply(lambda x : labels[x])\n",
    "df['to'] = df['to'].apply(lambda x : labels[x])\n",
    "df"
   ]
  },
  {
   "cell_type": "markdown",
   "id": "a4d76b87-b92e-46bb-a720-7599d880a7df",
   "metadata": {},
   "source": [
    "We can easily perform sorting operations with pandas.DataFrame."
   ]
  },
  {
   "cell_type": "code",
   "execution_count": 17,
   "id": "5a4de94a-ebfe-4df9-91e4-67f0fb32bc71",
   "metadata": {},
   "outputs": [
    {
     "data": {
      "text/html": [
       "<div>\n",
       "<style scoped>\n",
       "    .dataframe tbody tr th:only-of-type {\n",
       "        vertical-align: middle;\n",
       "    }\n",
       "\n",
       "    .dataframe tbody tr th {\n",
       "        vertical-align: top;\n",
       "    }\n",
       "\n",
       "    .dataframe thead th {\n",
       "        text-align: right;\n",
       "    }\n",
       "</style>\n",
       "<table border=\"1\" class=\"dataframe\">\n",
       "  <thead>\n",
       "    <tr style=\"text-align: right;\">\n",
       "      <th></th>\n",
       "      <th>from</th>\n",
       "      <th>to</th>\n",
       "      <th>effect</th>\n",
       "      <th>probability</th>\n",
       "    </tr>\n",
       "  </thead>\n",
       "  <tbody>\n",
       "    <tr>\n",
       "      <th>9</th>\n",
       "      <td>x0</td>\n",
       "      <td>x4</td>\n",
       "      <td>1.855977</td>\n",
       "      <td>0.99</td>\n",
       "    </tr>\n",
       "    <tr>\n",
       "      <th>2</th>\n",
       "      <td>x2</td>\n",
       "      <td>x3</td>\n",
       "      <td>0.813637</td>\n",
       "      <td>1.00</td>\n",
       "    </tr>\n",
       "    <tr>\n",
       "      <th>4</th>\n",
       "      <td>x2</td>\n",
       "      <td>x4</td>\n",
       "      <td>0.555515</td>\n",
       "      <td>1.00</td>\n",
       "    </tr>\n",
       "    <tr>\n",
       "      <th>1</th>\n",
       "      <td>x1</td>\n",
       "      <td>x3</td>\n",
       "      <td>0.504680</td>\n",
       "      <td>1.00</td>\n",
       "    </tr>\n",
       "    <tr>\n",
       "      <th>0</th>\n",
       "      <td>x1</td>\n",
       "      <td>x2</td>\n",
       "      <td>0.483013</td>\n",
       "      <td>1.00</td>\n",
       "    </tr>\n",
       "  </tbody>\n",
       "</table>\n",
       "</div>"
      ],
      "text/plain": [
       "  from  to    effect  probability\n",
       "9   x0  x4  1.855977         0.99\n",
       "2   x2  x3  0.813637         1.00\n",
       "4   x2  x4  0.555515         1.00\n",
       "1   x1  x3  0.504680         1.00\n",
       "0   x1  x2  0.483013         1.00"
      ]
     },
     "execution_count": 17,
     "metadata": {},
     "output_type": "execute_result"
    }
   ],
   "source": [
    "df.sort_values('effect', ascending=False).head()"
   ]
  },
  {
   "cell_type": "code",
   "execution_count": 18,
   "id": "866a63b1-f8ac-4a84-b5e4-c4eba469612d",
   "metadata": {},
   "outputs": [
    {
     "data": {
      "text/html": [
       "<div>\n",
       "<style scoped>\n",
       "    .dataframe tbody tr th:only-of-type {\n",
       "        vertical-align: middle;\n",
       "    }\n",
       "\n",
       "    .dataframe tbody tr th {\n",
       "        vertical-align: top;\n",
       "    }\n",
       "\n",
       "    .dataframe thead th {\n",
       "        text-align: right;\n",
       "    }\n",
       "</style>\n",
       "<table border=\"1\" class=\"dataframe\">\n",
       "  <thead>\n",
       "    <tr style=\"text-align: right;\">\n",
       "      <th></th>\n",
       "      <th>from</th>\n",
       "      <th>to</th>\n",
       "      <th>effect</th>\n",
       "      <th>probability</th>\n",
       "    </tr>\n",
       "  </thead>\n",
       "  <tbody>\n",
       "    <tr>\n",
       "      <th>12</th>\n",
       "      <td>x0</td>\n",
       "      <td>x2</td>\n",
       "      <td>-0.395791</td>\n",
       "      <td>0.08</td>\n",
       "    </tr>\n",
       "    <tr>\n",
       "      <th>11</th>\n",
       "      <td>x0</td>\n",
       "      <td>x3</td>\n",
       "      <td>0.385821</td>\n",
       "      <td>0.29</td>\n",
       "    </tr>\n",
       "    <tr>\n",
       "      <th>9</th>\n",
       "      <td>x0</td>\n",
       "      <td>x4</td>\n",
       "      <td>1.855977</td>\n",
       "      <td>0.99</td>\n",
       "    </tr>\n",
       "    <tr>\n",
       "      <th>10</th>\n",
       "      <td>x0</td>\n",
       "      <td>x5</td>\n",
       "      <td>-0.913577</td>\n",
       "      <td>0.99</td>\n",
       "    </tr>\n",
       "    <tr>\n",
       "      <th>0</th>\n",
       "      <td>x1</td>\n",
       "      <td>x2</td>\n",
       "      <td>0.483013</td>\n",
       "      <td>1.00</td>\n",
       "    </tr>\n",
       "  </tbody>\n",
       "</table>\n",
       "</div>"
      ],
      "text/plain": [
       "   from  to    effect  probability\n",
       "12   x0  x2 -0.395791         0.08\n",
       "11   x0  x3  0.385821         0.29\n",
       "9    x0  x4  1.855977         0.99\n",
       "10   x0  x5 -0.913577         0.99\n",
       "0    x1  x2  0.483013         1.00"
      ]
     },
     "execution_count": 18,
     "metadata": {},
     "output_type": "execute_result"
    }
   ],
   "source": [
    "df.sort_values('probability', ascending=True).head()"
   ]
  },
  {
   "cell_type": "markdown",
   "id": "aebb1a3b-4f98-4572-80dc-274d4566a434",
   "metadata": {},
   "source": [
    "Because it holds the raw data of the total causal effect (the original data for calculating the median), it is possible to draw a histogram of the values of the causal effect, as shown below."
   ]
  },
  {
   "cell_type": "code",
   "execution_count": 25,
   "id": "3184a0a0-ca0a-4e00-93aa-8b9eaf5f47d6",
   "metadata": {},
   "outputs": [
    {
     "data": {
      "text/plain": [
       "(array([ 1.,  0.,  0.,  0.,  8., 25., 48., 13.,  4.,  1.]),\n",
       " array([-2.527, -2.274, -2.021, -1.769, -1.516, -1.263, -1.011, -0.758,\n",
       "        -0.505, -0.253,  0.   ]),\n",
       " <BarContainer object of 10 artists>)"
      ]
     },
     "execution_count": 25,
     "metadata": {},
     "output_type": "execute_result"
    },
    {
     "data": {
      "image/png": "[encoded data removed]",
      "text/plain": [
       "<Figure size 640x480 with 1 Axes>"
      ]
     },
     "metadata": {},
     "output_type": "display_data"
    }
   ],
   "source": [
    "import matplotlib.pyplot as plt\n",
    "import seaborn as sns\n",
    "sns.set()\n",
    "%matplotlib inline\n",
    "\n",
    "from_index = 0 # index of x0\n",
    "to_index = 5 # index of x5\n",
    "plt.hist(result.total_effects_[:, to_index, from_index])"
   ]
  },
  {
   "cell_type": "markdown",
   "id": "18c439fe-6304-4129-a836-0ee91337795a",
   "metadata": {},
   "source": [
    "## Bootstrap Probability of Path\n",
    "Using the `get_paths()` method, we can explore all paths from any variable to any variable and calculate the bootstrap probability for each path. The path will be output as an array of variable indices. For example, the array `[3, 0, 1]` shows the path from variable X3 through variable X0 to variable X1."
   ]
  },
  {
   "cell_type": "code",
   "execution_count": 24,
   "id": "83367796-46cb-4ce9-9014-298c22917d99",
   "metadata": {},
   "outputs": [
    {
     "data": {
      "text/html": [
       "<div>\n",
       "<style scoped>\n",
       "    .dataframe tbody tr th:only-of-type {\n",
       "        vertical-align: middle;\n",
       "    }\n",
       "\n",
       "    .dataframe tbody tr th {\n",
       "        vertical-align: top;\n",
       "    }\n",
       "\n",
       "    .dataframe thead th {\n",
       "        text-align: right;\n",
       "    }\n",
       "</style>\n",
       "<table border=\"1\" class=\"dataframe\">\n",
       "  <thead>\n",
       "    <tr style=\"text-align: right;\">\n",
       "      <th></th>\n",
       "      <th>path</th>\n",
       "      <th>effect</th>\n",
       "      <th>probability</th>\n",
       "    </tr>\n",
       "  </thead>\n",
       "  <tbody>\n",
       "    <tr>\n",
       "      <th>0</th>\n",
       "      <td>[0, 4, 5]</td>\n",
       "      <td>-0.899122</td>\n",
       "      <td>0.99</td>\n",
       "    </tr>\n",
       "    <tr>\n",
       "      <th>1</th>\n",
       "      <td>[0, 3, 5]</td>\n",
       "      <td>-0.280465</td>\n",
       "      <td>0.23</td>\n",
       "    </tr>\n",
       "    <tr>\n",
       "      <th>2</th>\n",
       "      <td>[0, 2, 3, 5]</td>\n",
       "      <td>0.181984</td>\n",
       "      <td>0.08</td>\n",
       "    </tr>\n",
       "    <tr>\n",
       "      <th>3</th>\n",
       "      <td>[0, 2, 4, 5]</td>\n",
       "      <td>0.118028</td>\n",
       "      <td>0.08</td>\n",
       "    </tr>\n",
       "    <tr>\n",
       "      <th>4</th>\n",
       "      <td>[0, 5]</td>\n",
       "      <td>-1.663298</td>\n",
       "      <td>0.01</td>\n",
       "    </tr>\n",
       "  </tbody>\n",
       "</table>\n",
       "</div>"
      ],
      "text/plain": [
       "           path    effect  probability\n",
       "0     [0, 4, 5] -0.899122         0.99\n",
       "1     [0, 3, 5] -0.280465         0.23\n",
       "2  [0, 2, 3, 5]  0.181984         0.08\n",
       "3  [0, 2, 4, 5]  0.118028         0.08\n",
       "4        [0, 5] -1.663298         0.01"
      ]
     },
     "execution_count": 24,
     "metadata": {},
     "output_type": "execute_result"
    }
   ],
   "source": [
    "from_index = 0 # index of x0\n",
    "to_index = 5 # index of x5\n",
    "\n",
    "pd.DataFrame(result.get_paths(from_index, to_index))"
   ]
  },
  {
   "cell_type": "code",
   "execution_count": null,
   "id": "75200d51-5573-48bc-98e3-62099698637c",
   "metadata": {},
   "outputs": [],
   "source": []
  }
 ],
 "metadata": {
  "kernelspec": {
   "display_name": "python311",
   "language": "python",
   "name": "python311"
  },
  "language_info": {
   "codemirror_mode": {
    "name": "ipython",
    "version": 3
   },
   "file_extension": ".py",
   "mimetype": "text/x-python",
   "name": "python",
   "nbconvert_exporter": "python",
   "pygments_lexer": "ipython3",
   "version": "3.11.9"
  }
 },
 "nbformat": 4,
 "nbformat_minor": 5
}
