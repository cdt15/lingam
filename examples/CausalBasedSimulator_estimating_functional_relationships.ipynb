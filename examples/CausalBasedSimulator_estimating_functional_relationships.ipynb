{
 "cells": [
  {
   "cell_type": "markdown",
   "id": "32812f50-ddcb-4e18-8fdb-8b2b4c11bf39",
   "metadata": {},
   "source": [
    "# Estimating functional relationship\n",
    "\n",
    "This notebook details the method train(), which estimates the functional relationship between variables."
   ]
  },
  {
   "cell_type": "markdown",
   "id": "a10e8787-1ede-470d-b52f-de25706b857d",
   "metadata": {},
   "source": [
    "## Import and settings"
   ]
  },
  {
   "cell_type": "code",
   "execution_count": 1,
   "id": "5196757c-0ab0-4f54-ae3e-2a28a7fa2702",
   "metadata": {},
   "outputs": [],
   "source": [
    "import numpy as np\n",
    "import pandas as pd\n",
    "from sklearn.linear_model import LinearRegression\n",
    "from sklearn.ensemble import RandomForestRegressor, RandomForestClassifier\n",
    "from sklearn.svm import SVR\n",
    "from sklearn.preprocessing import StandardScaler\n",
    "from sklearn.pipeline import Pipeline\n",
    "from sklearn.model_selection import GridSearchCV\n",
    "from scipy.special import expit\n",
    "\n",
    "from IPython.display import display, Markdown\n",
    "import matplotlib.pyplot as plt\n",
    "import networkx as nx\n",
    "\n",
    "from lingam.causal_based_simulator import CausalBasedSimulator\n",
    "\n",
    "np.set_printoptions(precision=3, suppress=True)\n",
    "np.random.seed(0)"
   ]
  },
  {
   "cell_type": "markdown",
   "id": "a275a04d-400d-4601-b369-715700c50c63",
   "metadata": {},
   "source": [
    "## Creating test data\n",
    "Create test data with variables from x0 to x5, of which x2 is a categorical variable."
   ]
  },
  {
   "cell_type": "code",
   "execution_count": 2,
   "id": "766331ef-fd25-4401-b6e5-ec4812016296",
   "metadata": {},
   "outputs": [
    {
     "data": {
      "text/markdown": [
       "### Causal graph"
      ],
      "text/plain": [
       "<IPython.core.display.Markdown object>"
      ]
     },
     "metadata": {},
     "output_type": "display_data"
    },
    {
     "data": {
      "text/plain": [
       "array([[0. , 0. , 0. , 3. , 0. , 0. ],\n",
       "       [3. , 0. , 1. , 0. , 0. , 0. ],\n",
       "       [0. , 0. , 0. , 1.5, 0. , 0. ],\n",
       "       [0. , 0. , 0. , 0. , 0. , 0. ],\n",
       "       [8. , 0. , 1. , 0. , 0. , 0. ],\n",
       "       [4. , 0. , 0. , 0. , 0. , 0. ]])"
      ]
     },
     "metadata": {},
     "output_type": "display_data"
    },
    {
     "data": {
      "image/png": "[encoded data removed]",
      "text/plain": [
       "<Figure size 480x360 with 1 Axes>"
      ]
     },
     "metadata": {},
     "output_type": "display_data"
    },
    {
     "data": {
      "text/markdown": [
       "### Test data"
      ],
      "text/plain": [
       "<IPython.core.display.Markdown object>"
      ]
     },
     "metadata": {},
     "output_type": "display_data"
    },
    {
     "data": {
      "text/html": [
       "<div>\n",
       "<style scoped>\n",
       "    .dataframe tbody tr th:only-of-type {\n",
       "        vertical-align: middle;\n",
       "    }\n",
       "\n",
       "    .dataframe tbody tr th {\n",
       "        vertical-align: top;\n",
       "    }\n",
       "\n",
       "    .dataframe thead th {\n",
       "        text-align: right;\n",
       "    }\n",
       "</style>\n",
       "<table border=\"1\" class=\"dataframe\">\n",
       "  <thead>\n",
       "    <tr style=\"text-align: right;\">\n",
       "      <th></th>\n",
       "      <th>x0</th>\n",
       "      <th>x1</th>\n",
       "      <th>x2</th>\n",
       "      <th>x3</th>\n",
       "      <th>x4</th>\n",
       "      <th>x5</th>\n",
       "    </tr>\n",
       "  </thead>\n",
       "  <tbody>\n",
       "    <tr>\n",
       "      <th>0</th>\n",
       "      <td>2.457959</td>\n",
       "      <td>3.979581</td>\n",
       "      <td>b</td>\n",
       "      <td>0.548814</td>\n",
       "      <td>10.245798</td>\n",
       "      <td>10.198616</td>\n",
       "    </tr>\n",
       "    <tr>\n",
       "      <th>1</th>\n",
       "      <td>2.621652</td>\n",
       "      <td>8.431475</td>\n",
       "      <td>a</td>\n",
       "      <td>0.715189</td>\n",
       "      <td>21.602835</td>\n",
       "      <td>10.784233</td>\n",
       "    </tr>\n",
       "    <tr>\n",
       "      <th>2</th>\n",
       "      <td>2.331446</td>\n",
       "      <td>7.131753</td>\n",
       "      <td>a</td>\n",
       "      <td>0.602763</td>\n",
       "      <td>19.430153</td>\n",
       "      <td>9.394384</td>\n",
       "    </tr>\n",
       "    <tr>\n",
       "      <th>3</th>\n",
       "      <td>1.885170</td>\n",
       "      <td>3.177467</td>\n",
       "      <td>b</td>\n",
       "      <td>0.544883</td>\n",
       "      <td>8.392238</td>\n",
       "      <td>7.893208</td>\n",
       "    </tr>\n",
       "    <tr>\n",
       "      <th>4</th>\n",
       "      <td>1.876007</td>\n",
       "      <td>5.681239</td>\n",
       "      <td>a</td>\n",
       "      <td>0.423655</td>\n",
       "      <td>15.824472</td>\n",
       "      <td>7.736226</td>\n",
       "    </tr>\n",
       "    <tr>\n",
       "      <th>...</th>\n",
       "      <td>...</td>\n",
       "      <td>...</td>\n",
       "      <td>...</td>\n",
       "      <td>...</td>\n",
       "      <td>...</td>\n",
       "      <td>...</td>\n",
       "    </tr>\n",
       "    <tr>\n",
       "      <th>995</th>\n",
       "      <td>1.234716</td>\n",
       "      <td>2.070230</td>\n",
       "      <td>b</td>\n",
       "      <td>0.097676</td>\n",
       "      <td>5.288504</td>\n",
       "      <td>5.043098</td>\n",
       "    </tr>\n",
       "    <tr>\n",
       "      <th>996</th>\n",
       "      <td>2.090899</td>\n",
       "      <td>3.371803</td>\n",
       "      <td>b</td>\n",
       "      <td>0.514922</td>\n",
       "      <td>8.798471</td>\n",
       "      <td>8.503125</td>\n",
       "    </tr>\n",
       "    <tr>\n",
       "      <th>997</th>\n",
       "      <td>3.138850</td>\n",
       "      <td>9.613938</td>\n",
       "      <td>a</td>\n",
       "      <td>0.938412</td>\n",
       "      <td>25.940801</td>\n",
       "      <td>13.251922</td>\n",
       "    </tr>\n",
       "    <tr>\n",
       "      <th>998</th>\n",
       "      <td>1.499485</td>\n",
       "      <td>2.647914</td>\n",
       "      <td>b</td>\n",
       "      <td>0.228647</td>\n",
       "      <td>6.930745</td>\n",
       "      <td>6.481635</td>\n",
       "    </tr>\n",
       "    <tr>\n",
       "      <th>999</th>\n",
       "      <td>2.728824</td>\n",
       "      <td>9.145065</td>\n",
       "      <td>a</td>\n",
       "      <td>0.677141</td>\n",
       "      <td>22.138929</td>\n",
       "      <td>11.254846</td>\n",
       "    </tr>\n",
       "  </tbody>\n",
       "</table>\n",
       "<p>1000 rows × 6 columns</p>\n",
       "</div>"
      ],
      "text/plain": [
       "           x0        x1 x2        x3         x4         x5\n",
       "0    2.457959  3.979581  b  0.548814  10.245798  10.198616\n",
       "1    2.621652  8.431475  a  0.715189  21.602835  10.784233\n",
       "2    2.331446  7.131753  a  0.602763  19.430153   9.394384\n",
       "3    1.885170  3.177467  b  0.544883   8.392238   7.893208\n",
       "4    1.876007  5.681239  a  0.423655  15.824472   7.736226\n",
       "..        ...       ... ..       ...        ...        ...\n",
       "995  1.234716  2.070230  b  0.097676   5.288504   5.043098\n",
       "996  2.090899  3.371803  b  0.514922   8.798471   8.503125\n",
       "997  3.138850  9.613938  a  0.938412  25.940801  13.251922\n",
       "998  1.499485  2.647914  b  0.228647   6.930745   6.481635\n",
       "999  2.728824  9.145065  a  0.677141  22.138929  11.254846\n",
       "\n",
       "[1000 rows x 6 columns]"
      ]
     },
     "metadata": {},
     "output_type": "display_data"
    }
   ],
   "source": [
    "display(Markdown(\"### Causal graph\"))\n",
    "\n",
    "G = np.array([[0.0, 0.0, 0.0, 3.0, 0.0, 0.0],\n",
    "              [3.0, 0.0, 1.0, 0.0, 0.0, 0.0],\n",
    "              [0.0, 0.0, 0.0, 1.5, 0.0, 0.0],\n",
    "              [0.0, 0.0, 0.0, 0.0, 0.0, 0.0],\n",
    "              [8.0, 0.0, 1.0, 0.0, 0.0, 0.0],\n",
    "              [4.0, 0.0, 0.0, 0.0, 0.0, 0.0]])\n",
    "\n",
    "display(G)\n",
    "\n",
    "graph = nx.DiGraph()\n",
    "\n",
    "graph.add_node(\"x0\", pos=(3, 1))\n",
    "graph.add_node(\"x1\", pos=(2.7, -1))\n",
    "graph.add_node(\"x2\", pos=(1, 1))\n",
    "graph.add_node(\"x3\", pos=(2, 2))\n",
    "graph.add_node(\"x4\", pos=(0, 0))\n",
    "graph.add_node(\"x5\", pos=(4, 0))\n",
    "\n",
    "edges = []\n",
    "edge_labels = {}\n",
    "for to, from_ in np.argwhere(~np.isclose(G, 0)):\n",
    "    edges.append((f\"x{from_}\", f\"x{to}\"))\n",
    "    if from_ == 2:\n",
    "        continue\n",
    "    edge_labels[(f\"x{to}\", f\"x{from_}\")] = G[to, from_]\n",
    "graph.add_edges_from(edges)\n",
    "pos = nx.get_node_attributes(graph, \"pos\")\n",
    "nx.draw(graph, pos, with_labels=True, arrowsize=20, node_size=2000)\n",
    "nx.draw_networkx_edge_labels(G, pos, edge_labels=edge_labels, font_size=14)\n",
    "plt.show() \n",
    "\n",
    "display(Markdown(\"### Test data\"))\n",
    "\n",
    "N = 1000\n",
    "\n",
    "X = {}\n",
    "\n",
    "X[\"x3\"] = np.random.uniform(size=N)\n",
    "\n",
    "X[\"x2\"] = np.empty(N).astype(str)\n",
    "for i in range(N):\n",
    "    prob_a = expit(G[2, 3] * X[\"x3\"][i] - 0.5)\n",
    "    X[\"x2\"][i] = np.random.choice([\"a\", \"b\"], p=[prob_a, 1 - prob_a])\n",
    "\n",
    "X[\"x0\"] = G[0, 3] * X[\"x3\"] + np.random.uniform(size=N)\n",
    "\n",
    "X[\"x4\"] = np.empty(N)\n",
    "for i in range(N):\n",
    "    if X[\"x2\"][i] == \"a\":\n",
    "        X[\"x4\"][i] = 8.0 * X[\"x0\"][i] + np.random.uniform()\n",
    "    elif X[\"x2\"][i] == \"b\":\n",
    "        X[\"x4\"][i] = 4.0 * X[\"x0\"][i] + np.random.uniform()\n",
    "\n",
    "X[\"x1\"] = np.empty(N)\n",
    "for i in range(N):\n",
    "    if X[\"x2\"][i] == \"a\":\n",
    "        X[\"x1\"][i] = 3.0 * X[\"x0\"][i] + np.random.uniform()\n",
    "    elif X[\"x2\"][i] == \"b\":\n",
    "        X[\"x1\"][i] = 1.5 * X[\"x0\"][i] + np.random.uniform()\n",
    "\n",
    "X[\"x5\"] = G[5, 0] * X[\"x0\"] + np.random.uniform(size=1000)\n",
    "\n",
    "X = pd.DataFrame(X)\n",
    "X[\"x2\"] = X[\"x2\"].astype(\"category\")\n",
    "X = X[sorted(X.columns)]\n",
    "\n",
    "display(X)"
   ]
  },
  {
   "cell_type": "markdown",
   "id": "f72f6d67-e0af-4cd5-8a52-573272416a53",
   "metadata": {},
   "source": [
    "## Estimate functional relationship between variables\n",
    "\n",
    "By executing train() given test data and a causal graph, the functional relationship between each variable in the test data can be estimated. The model representing the functional relationship of each variable can be specified in the models argument. If not specified, a linear or logistic regression model is used by default.\n",
    "\n",
    "The explanatory variables used for the model representing the functional relationship are determined by analyzing the causal graph in train(). To train each model, a column of explanatory and objective variables is taken from the given *X* and used. The most upstream variables do not have models."
   ]
  },
  {
   "cell_type": "code",
   "execution_count": 3,
   "id": "af6b5e19-49f4-4295-a4dc-23ac5290abfb",
   "metadata": {},
   "outputs": [
    {
     "data": {
      "text/plain": [
       "<lingam.causal_based_simulator.CausalBasedSimulator at 0x7fa50052a4c0>"
      ]
     },
     "execution_count": 3,
     "metadata": {},
     "output_type": "execute_result"
    }
   ],
   "source": [
    "sim = CausalBasedSimulator()\n",
    "sim.train(X, G)"
   ]
  },
  {
   "cell_type": "markdown",
   "id": "9672527c-67af-4de9-b8c1-b2e60083421e",
   "metadata": {},
   "source": [
    "You can check *sim.train_result_* for the estimated model and a list of variables that are inputs to the estimated model. *train_reuslt_* is a dictionary whose keys are variable names. Let's check the actual contents of *train_result_*."
   ]
  },
  {
   "cell_type": "code",
   "execution_count": 4,
   "id": "65ec4b64-7092-4aa5-b528-6891b9fde564",
   "metadata": {},
   "outputs": [
    {
     "data": {
      "text/markdown": [
       "### List of variables"
      ],
      "text/plain": [
       "<IPython.core.display.Markdown object>"
      ]
     },
     "metadata": {},
     "output_type": "display_data"
    },
    {
     "name": "stdout",
     "output_type": "stream",
     "text": [
      "dict_keys(['x0', 'x1', 'x2', 'x3', 'x4', 'x5'])\n"
     ]
    },
    {
     "data": {
      "text/markdown": [
       "### Length of estimated result for x1"
      ],
      "text/plain": [
       "<IPython.core.display.Markdown object>"
      ]
     },
     "metadata": {},
     "output_type": "display_data"
    },
    {
     "name": "stdout",
     "output_type": "stream",
     "text": [
      "<class 'list'> 2\n"
     ]
    }
   ],
   "source": [
    "display(Markdown(\"### List of variables\"))\n",
    "print(sim.train_result_.keys())\n",
    "\n",
    "display(Markdown(\"### Length of estimated result for x1\"))\n",
    "print(type(sim.train_result_[\"x1\"]), len(sim.train_result_[\"x1\"]))"
   ]
  },
  {
   "cell_type": "markdown",
   "id": "3b856a93-7936-485d-856d-1942ddcfbde5",
   "metadata": {},
   "source": [
    "The values corresponding to *train_result_[\"x1\"]* is a list. If a parent is a categorical variable, there is a child model for every possible value the parent can take. Since the parent *x2* takes the value a or b, the child *x1* will have two models, which together constitute a list of length 2 for *train_result_[\"x1\"]*.\n",
    "\n",
    "### Contents of the list of estimated results for x1\n",
    "\n",
    "For each parent value, we have an instance *model* of the machine learning model, a list of variable names *exp_columns* that served as explanatory variables for the machine learning model, a prediction *predicted* for the training data, and *residual* for the prediction on the training data. In addition, the values of the conditional parents are stored in *condition*."
   ]
  },
  {
   "cell_type": "code",
   "execution_count": 5,
   "id": "a996b71f-a17d-4b2d-9501-17efbd4ad174",
   "metadata": {},
   "outputs": [
    {
     "data": {
      "text/markdown": [
       "### Information about the estimated functional relationship"
      ],
      "text/plain": [
       "<IPython.core.display.Markdown object>"
      ]
     },
     "metadata": {},
     "output_type": "display_data"
    },
    {
     "name": "stdout",
     "output_type": "stream",
     "text": [
      "dict_keys(['condition', 'model', 'exp_columns', 'predicted', 'residual'])\n"
     ]
    },
    {
     "data": {
      "text/markdown": [
       "### Condition"
      ],
      "text/plain": [
       "<IPython.core.display.Markdown object>"
      ]
     },
     "metadata": {},
     "output_type": "display_data"
    },
    {
     "name": "stdout",
     "output_type": "stream",
     "text": [
      "{'x2': 'a'}\n",
      "{'x2': 'b'}\n"
     ]
    },
    {
     "data": {
      "text/markdown": [
       "### Machine learning model"
      ],
      "text/plain": [
       "<IPython.core.display.Markdown object>"
      ]
     },
     "metadata": {},
     "output_type": "display_data"
    },
    {
     "name": "stdout",
     "output_type": "stream",
     "text": [
      "LinearRegression() [3.001] 0.4948594354078173\n",
      "LinearRegression() [1.484] 0.5067806444646545\n"
     ]
    },
    {
     "data": {
      "text/markdown": [
       "### Explanatory"
      ],
      "text/plain": [
       "<IPython.core.display.Markdown object>"
      ]
     },
     "metadata": {},
     "output_type": "display_data"
    },
    {
     "name": "stdout",
     "output_type": "stream",
     "text": [
      "['x0']\n",
      "['x0']\n"
     ]
    },
    {
     "data": {
      "text/markdown": [
       "### Prediction for training data"
      ],
      "text/plain": [
       "<IPython.core.display.Markdown object>"
      ]
     },
     "metadata": {},
     "output_type": "display_data"
    },
    {
     "name": "stdout",
     "output_type": "stream",
     "text": [
      "shape of x1 given x0=a (539,)\n",
      "shape of x1 given x0=b (461,)\n"
     ]
    },
    {
     "data": {
      "image/png": "[encoded data removed]",
      "text/plain": [
       "<Figure size 480x360 with 1 Axes>"
      ]
     },
     "metadata": {},
     "output_type": "display_data"
    },
    {
     "data": {
      "text/markdown": [
       "### Residual of training"
      ],
      "text/plain": [
       "<IPython.core.display.Markdown object>"
      ]
     },
     "metadata": {},
     "output_type": "display_data"
    },
    {
     "name": "stdout",
     "output_type": "stream",
     "text": [
      "shape of x1 given x2=a (539,)\n",
      "shape of x1 given x2=b (461,)\n"
     ]
    },
    {
     "data": {
      "image/png": "[encoded data removed]",
      "text/plain": [
       "<Figure size 450x225 with 2 Axes>"
      ]
     },
     "metadata": {},
     "output_type": "display_data"
    }
   ],
   "source": [
    "display(Markdown(\"### Information about the estimated functional relationship\"))\n",
    "print(sim.train_result_[\"x1\"][0].keys())\n",
    "\n",
    "display(Markdown(\"### Condition\"))\n",
    "print(sim.train_result_[\"x1\"][0][\"condition\"])\n",
    "print(sim.train_result_[\"x1\"][1][\"condition\"])\n",
    "\n",
    "display(Markdown(\"### Machine learning model\"))\n",
    "model = sim.train_result_[\"x1\"][0][\"model\"]\n",
    "print(model, model.coef_, model.intercept_)\n",
    "model = sim.train_result_[\"x1\"][1][\"model\"]\n",
    "print(model, model.coef_, model.intercept_)\n",
    "\n",
    "display(Markdown(\"### Explanatory\"))\n",
    "print(sim.train_result_[\"x1\"][0][\"exp_columns\"])\n",
    "print(sim.train_result_[\"x1\"][1][\"exp_columns\"])\n",
    "\n",
    "display(Markdown(\"### Prediction for training data\"))\n",
    "print(\"shape of x1 given x0=a\", sim.train_result_[\"x1\"][0][\"predicted\"].shape)\n",
    "print(\"shape of x1 given x0=b\", sim.train_result_[\"x1\"][1][\"predicted\"].shape)\n",
    "\n",
    "predicted = sim.train_result_[\"x1\"][0][\"predicted\"]\n",
    "plt.scatter(X[\"x0\"].loc[predicted.index], predicted, label=\"x2=a\")\n",
    "predicted = sim.train_result_[\"x1\"][1][\"predicted\"]\n",
    "plt.scatter(X[\"x0\"].loc[predicted.index], predicted, label=\"x2=b\")\n",
    "plt.legend()\n",
    "plt.xlabel(\"x0\")\n",
    "plt.ylabel(\"estimated x1\")\n",
    "plt.show()\n",
    "\n",
    "display(Markdown(\"### Residual of training\"))\n",
    "print(\"shape of x1 given x2=a\", sim.train_result_[\"x1\"][0][\"residual\"].shape)\n",
    "print(\"shape of x1 given x2=b\", sim.train_result_[\"x1\"][1][\"residual\"].shape)\n",
    "\n",
    "fig, axes = plt.subplots(1, 2, figsize=(6, 3))\n",
    "residual = sim.train_result_[\"x1\"][0][\"residual\"]\n",
    "axes[0].hist(residual)\n",
    "axes[0].set_xlabel(\"x2=a\")\n",
    "residual = sim.train_result_[\"x1\"][1][\"residual\"]\n",
    "axes[1].hist(residual)\n",
    "axes[1].set_xlabel(\"x2=b\")\n",
    "plt.suptitle(\"residual\")\n",
    "plt.show()"
   ]
  },
  {
   "cell_type": "markdown",
   "id": "c726b1a6-8142-4883-8560-dffc52a2c4b4",
   "metadata": {},
   "source": [
    "We introduced the case where the parent is a categorical variable, but if the parents are not categorical, a list of length 1 is stored as the value of *train_result_*, as shown below. In such a case, the condition is also None."
   ]
  },
  {
   "cell_type": "code",
   "execution_count": 6,
   "id": "c0e128e5-0078-4092-9571-a1f644da7999",
   "metadata": {},
   "outputs": [
    {
     "name": "stdout",
     "output_type": "stream",
     "text": [
      "1\n",
      "None\n"
     ]
    }
   ],
   "source": [
    "print(len(sim.train_result_[\"x0\"]))\n",
    "print(sim.train_result_[\"x0\"][0][\"condition\"])"
   ]
  },
  {
   "cell_type": "markdown",
   "id": "98da9367-e873-4c35-bca8-0a5a46f718e9",
   "metadata": {},
   "source": [
    "The residuals are as follows. The most upstream, x3, and categorical variables, x2, are NaN because they do not have residuals."
   ]
  },
  {
   "cell_type": "code",
   "execution_count": 7,
   "id": "d3f9005a-d1a1-40ba-8524-43428e9fe87f",
   "metadata": {},
   "outputs": [
    {
     "data": {
      "text/html": [
       "<div>\n",
       "<style scoped>\n",
       "    .dataframe tbody tr th:only-of-type {\n",
       "        vertical-align: middle;\n",
       "    }\n",
       "\n",
       "    .dataframe tbody tr th {\n",
       "        vertical-align: top;\n",
       "    }\n",
       "\n",
       "    .dataframe thead th {\n",
       "        text-align: right;\n",
       "    }\n",
       "</style>\n",
       "<table border=\"1\" class=\"dataframe\">\n",
       "  <thead>\n",
       "    <tr style=\"text-align: right;\">\n",
       "      <th></th>\n",
       "      <th>x0</th>\n",
       "      <th>x1</th>\n",
       "      <th>x2</th>\n",
       "      <th>x3</th>\n",
       "      <th>x4</th>\n",
       "      <th>x5</th>\n",
       "    </tr>\n",
       "  </thead>\n",
       "  <tbody>\n",
       "    <tr>\n",
       "      <th>0</th>\n",
       "      <td>0.307648</td>\n",
       "      <td>-0.174462</td>\n",
       "      <td>NaN</td>\n",
       "      <td>NaN</td>\n",
       "      <td>-0.057256</td>\n",
       "      <td>-0.125786</td>\n",
       "    </tr>\n",
       "    <tr>\n",
       "      <th>1</th>\n",
       "      <td>-0.022822</td>\n",
       "      <td>0.068330</td>\n",
       "      <td>NaN</td>\n",
       "      <td>NaN</td>\n",
       "      <td>0.142083</td>\n",
       "      <td>-0.194651</td>\n",
       "    </tr>\n",
       "    <tr>\n",
       "      <th>2</th>\n",
       "      <td>0.020896</td>\n",
       "      <td>-0.360406</td>\n",
       "      <td>NaN</td>\n",
       "      <td>NaN</td>\n",
       "      <td>0.292654</td>\n",
       "      <td>-0.424192</td>\n",
       "    </tr>\n",
       "    <tr>\n",
       "      <th>3</th>\n",
       "      <td>-0.253467</td>\n",
       "      <td>-0.126638</td>\n",
       "      <td>NaN</td>\n",
       "      <td>NaN</td>\n",
       "      <td>0.370783</td>\n",
       "      <td>-0.141057</td>\n",
       "    </tr>\n",
       "    <tr>\n",
       "      <th>4</th>\n",
       "      <td>0.097439</td>\n",
       "      <td>-0.444025</td>\n",
       "      <td>NaN</td>\n",
       "      <td>NaN</td>\n",
       "      <td>0.333002</td>\n",
       "      <td>-0.261405</td>\n",
       "    </tr>\n",
       "  </tbody>\n",
       "</table>\n",
       "</div>"
      ],
      "text/plain": [
       "         x0        x1  x2  x3        x4        x5\n",
       "0  0.307648 -0.174462 NaN NaN -0.057256 -0.125786\n",
       "1 -0.022822  0.068330 NaN NaN  0.142083 -0.194651\n",
       "2  0.020896 -0.360406 NaN NaN  0.292654 -0.424192\n",
       "3 -0.253467 -0.126638 NaN NaN  0.370783 -0.141057\n",
       "4  0.097439 -0.444025 NaN NaN  0.333002 -0.261405"
      ]
     },
     "execution_count": 7,
     "metadata": {},
     "output_type": "execute_result"
    }
   ],
   "source": [
    "sim.residual_.head()"
   ]
  },
  {
   "cell_type": "code",
   "execution_count": 8,
   "id": "9259e1d7-7b7e-460d-a933-9b6d8dbd62aa",
   "metadata": {},
   "outputs": [
    {
     "data": {
      "image/png": "[encoded data removed]",
      "text/plain": [
       "<Figure size 1125x225 with 4 Axes>"
      ]
     },
     "metadata": {},
     "output_type": "display_data"
    }
   ],
   "source": [
    "fig, axes = plt.subplots(1, 4, figsize=(15, 3))\n",
    "for i, key in enumerate([\"x0\", \"x1\", \"x4\", \"x5\"]):\n",
    "    series = sim.residual_[key]\n",
    "    axes[i].hist(series)\n",
    "    axes[i].set_title(key)\n",
    "plt.tight_layout()\n",
    "plt.show()"
   ]
  },
  {
   "cell_type": "markdown",
   "id": "80e07a2a-bf08-4b8e-86df-2e5fad8a8096",
   "metadata": {},
   "source": [
    "## Estimate functional relationship between variables by specifying a model\n",
    "\n",
    "The functional relationship between variables is estimated by default using linear regression when the objective variable is a non-categorical variable and logistic regression when it is a categorical variable, but another machine learning model can be used by using the *models* option. Here we set up *x1* to apply the random forest regression model as the model."
   ]
  },
  {
   "cell_type": "code",
   "execution_count": 9,
   "id": "cf7133b2-2cb3-47cf-85c7-3d0150f9e9fe",
   "metadata": {},
   "outputs": [
    {
     "name": "stdout",
     "output_type": "stream",
     "text": [
      "RandomForestRegressor()\n",
      "RandomForestRegressor()\n"
     ]
    }
   ],
   "source": [
    "models = {\n",
    "    \"x1\": RandomForestRegressor(),\n",
    "}\n",
    "\n",
    "sim = CausalBasedSimulator()\n",
    "sim.train(X, G, models=models)\n",
    "\n",
    "print(sim.train_result_[\"x1\"][0][\"model\"])\n",
    "print(sim.train_result_[\"x1\"][1][\"model\"])"
   ]
  },
  {
   "cell_type": "markdown",
   "id": "f6af9cd2-7c81-4ce5-84ad-9080d5a6083b",
   "metadata": {},
   "source": [
    "We can confirm that the model for *x1\" is a random forest regression model for both *x0=a* and *x0=b*.\n",
    "Although the models are given only one machine learning instance for *x1*, CausalBasedSImulator clones instances for each condition and then train each instance."
   ]
  },
  {
   "cell_type": "code",
   "execution_count": 10,
   "id": "155f9173-5aad-43f1-b63a-2c8f8560c2bb",
   "metadata": {},
   "outputs": [
    {
     "data": {
      "image/png": "[encoded data removed]",
      "text/plain": [
       "<Figure size 1125x225 with 4 Axes>"
      ]
     },
     "metadata": {},
     "output_type": "display_data"
    }
   ],
   "source": [
    "fig, axes = plt.subplots(1, 4, figsize=(15, 3))\n",
    "for i, key in enumerate([\"x0\", \"x1\", \"x4\", \"x5\"]):\n",
    "    series = sim.residual_[key]\n",
    "    axes[i].hist(series)\n",
    "    axes[i].set_title(key)\n",
    "plt.tight_layout()\n",
    "plt.show()"
   ]
  },
  {
   "cell_type": "markdown",
   "id": "428230fe-862b-4ef9-a638-488d7a11d5ec",
   "metadata": {},
   "source": [
    "We can see that the residuals have changed from before the model change."
   ]
  },
  {
   "cell_type": "markdown",
   "id": "947fb58e-c29d-4e7a-9894-c9c2c72d4baf",
   "metadata": {},
   "source": [
    "## Configurable models\n",
    "\n",
    "We have just set up a random forest regression model and a random forest classification model, but you can also set up other scikit-learn regression/classification models, Pipeline, GridSearchCV, etc."
   ]
  },
  {
   "cell_type": "code",
   "execution_count": 11,
   "id": "e3cf2d4e-e496-4301-8df7-c2a777ac4f4b",
   "metadata": {},
   "outputs": [
    {
     "name": "stdout",
     "output_type": "stream",
     "text": [
      "StandardScaler() [2.159] [0.836]\n",
      "LinearRegression() [2.744] 6.973555147612068\n",
      "StandardScaler() [1.8] [0.748]\n",
      "LinearRegression() [1.283] 3.1774015657438124\n"
     ]
    }
   ],
   "source": [
    "# Pipeline\n",
    "models = {\n",
    "    \"x1\": Pipeline([\n",
    "        (\"scaler\", StandardScaler()),\n",
    "        (\"estimator\", LinearRegression())\n",
    "    ])\n",
    "}\n",
    "\n",
    "sim = CausalBasedSimulator()\n",
    "sim.train(X, G, models=models)\n",
    "\n",
    "scaler = sim.train_result_[\"x1\"][0][\"model\"][\"scaler\"]\n",
    "print(scaler, scaler.mean_, scaler.var_)\n",
    "estimator = sim.train_result_[\"x1\"][0][\"model\"][\"estimator\"]\n",
    "print(estimator, estimator.coef_, estimator.intercept_)\n",
    "\n",
    "scaler = sim.train_result_[\"x1\"][1][\"model\"][\"scaler\"]\n",
    "print(scaler, scaler.mean_, scaler.var_)\n",
    "estimator = sim.train_result_[\"x1\"][1][\"model\"][\"estimator\"]\n",
    "print(estimator, estimator.coef_, estimator.intercept_)"
   ]
  },
  {
   "cell_type": "code",
   "execution_count": 12,
   "id": "ded76ded-47e0-4a76-a53e-abd131b9db0f",
   "metadata": {},
   "outputs": [
    {
     "name": "stdout",
     "output_type": "stream",
     "text": [
      "{'C': 100.0, 'gamma': 0.01}\n",
      "{'C': 100.0, 'gamma': 0.01}\n"
     ]
    }
   ],
   "source": [
    "# GridSearchCV\n",
    "models = {\n",
    "    \"x1\": GridSearchCV(\n",
    "        SVR(),\n",
    "        {\n",
    "            \"C\": [1e-2, 1e-0, 1e+2],\n",
    "            \"gamma\": [1e-2, 1e-0, 1e+2],\n",
    "        }\n",
    "    )\n",
    "}\n",
    "\n",
    "sim = CausalBasedSimulator()\n",
    "sim.train(X, G, models=models)\n",
    "\n",
    "estimator = sim.train_result_[\"x1\"][0][\"model\"]\n",
    "print(estimator.best_params_)\n",
    "\n",
    "estimator = sim.train_result_[\"x1\"][1][\"model\"]\n",
    "print(estimator.best_params_)"
   ]
  }
 ],
 "metadata": {
  "kernelspec": {
   "display_name": "Python 3 (ipykernel)",
   "language": "python",
   "name": "python3"
  },
  "language_info": {
   "codemirror_mode": {
    "name": "ipython",
    "version": 3
   },
   "file_extension": ".py",
   "mimetype": "text/x-python",
   "name": "python",
   "nbconvert_exporter": "python",
   "pygments_lexer": "ipython3",
   "version": "3.8.10"
  },
  "widgets": {
   "application/vnd.jupyter.widget-state+json": {
    "state": {},
    "version_major": 2,
    "version_minor": 0
   }
  }
 },
 "nbformat": 4,
 "nbformat_minor": 5
}
